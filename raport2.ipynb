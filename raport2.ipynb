{
 "cells": [
  {
   "cell_type": "markdown",
   "metadata": {},
   "source": [
    "# Zadanie 1"
   ]
  },
  {
   "cell_type": "code",
   "execution_count": 26,
   "metadata": {
    "vscode": {
     "languageId": "r"
    }
   },
   "outputs": [],
   "source": [
    "alf <- 0.02\n",
    "n <- 1000\n",
    "mi <- 1.5\n",
    "sig <- 0.2\n",
    "N <- 1000\n",
    "M <- 100"
   ]
  },
  {
   "cell_type": "markdown",
   "metadata": {},
   "source": [
    "<b>BŁĄD PIERWSZEGO RODZAJU</b>"
   ]
  },
  {
   "cell_type": "markdown",
   "metadata": {},
   "source": [
    "mi!=mi_0"
   ]
  },
  {
   "cell_type": "code",
   "execution_count": 27,
   "metadata": {
    "vscode": {
     "languageId": "r"
    }
   },
   "outputs": [],
   "source": [
    "b1 <- numeric()\n",
    "for(j in 1:M){\n",
    "    test1_1 <- 0\n",
    "    for(i in 1:N){\n",
    "        X <- rnorm(n, mi, sig)\n",
    "        Z <- (mean(X) - mi) / (sig / sqrt(n))\n",
    "        z_q <- qnorm(1 - alf / 2)\n",
    "        if(Z <= -z_q || Z >= z_q){\n",
    "            test1_1 <- test1_1 + 1\n",
    "        }\n",
    "    }\n",
    "    b1[j] <- test1_1/N\n",
    "}\n"
   ]
  },
  {
   "cell_type": "code",
   "execution_count": 19,
   "metadata": {
    "vscode": {
     "languageId": "r"
    }
   },
   "outputs": [
    {
     "data": {
      "image/png": "[encoded data removed]",
      "text/plain": [
       "Plot with title \"Błąd I rodzaju\""
      ]
     },
     "metadata": {},
     "output_type": "display_data"
    }
   ],
   "source": [
    "boxplot(b1,b2,b3, col='lightpink', main='Błąd I rodzaju', names=c(\"H1: \\u03bc \\u2260 \\u03bc\", \"H2: \\u03bc \\u003e \\u03bc\", \"H3: \\u03bc \\u003c \\u03bc\"))"
   ]
  },
  {
   "cell_type": "code",
   "execution_count": 166,
   "metadata": {
    "vscode": {
     "languageId": "r"
    }
   },
   "outputs": [
    {
     "data": {
      "text/html": [
       "<strong>png:</strong> 2"
      ],
      "text/latex": [
       "\\textbf{png:} 2"
      ],
      "text/markdown": [
       "**png:** 2"
      ],
      "text/plain": [
       "png \n",
       "  2 "
      ]
     },
     "metadata": {},
     "output_type": "display_data"
    }
   ],
   "source": [
    "jpeg(\"boxplot_b1r_H1_1.jpg\", width = 600, height = 600)\n",
    "boxplot(b1, col='lightpink', main='Błąd I rodzaju - H1')\n",
    "dev.off()"
   ]
  },
  {
   "cell_type": "markdown",
   "metadata": {},
   "source": [
    "mi>mi_0"
   ]
  },
  {
   "cell_type": "code",
   "execution_count": 28,
   "metadata": {
    "vscode": {
     "languageId": "r"
    }
   },
   "outputs": [],
   "source": [
    "b2 <- numeric()\n",
    "for(j in 1:M){\n",
    "    test1_2 <- 0\n",
    "    for(i in 1:N){\n",
    "        X <- rnorm(n, mi, sig)\n",
    "        Z <- (mean(X) - mi) / (sig / sqrt(n))\n",
    "        z_q <- qnorm(1 - alf)\n",
    "        if(Z >= z_q){\n",
    "            test1_2 <- test1_2 + 1\n",
    "        }\n",
    "    }\n",
    "    b2[j] <- test1_2/N\n",
    "}\n"
   ]
  },
  {
   "cell_type": "code",
   "execution_count": 160,
   "metadata": {
    "vscode": {
     "languageId": "r"
    }
   },
   "outputs": [
    {
     "data": {
      "text/html": [
       "<strong>jpeg:</strong> 3"
      ],
      "text/latex": [
       "\\textbf{jpeg:} 3"
      ],
      "text/markdown": [
       "**jpeg:** 3"
      ],
      "text/plain": [
       "jpeg \n",
       "   3 "
      ]
     },
     "metadata": {},
     "output_type": "display_data"
    }
   ],
   "source": [
    "dev.off()"
   ]
  },
  {
   "cell_type": "code",
   "execution_count": 165,
   "metadata": {
    "vscode": {
     "languageId": "r"
    }
   },
   "outputs": [
    {
     "data": {
      "text/html": [
       "<strong>png:</strong> 2"
      ],
      "text/latex": [
       "\\textbf{png:} 2"
      ],
      "text/markdown": [
       "**png:** 2"
      ],
      "text/plain": [
       "png \n",
       "  2 "
      ]
     },
     "metadata": {},
     "output_type": "display_data"
    }
   ],
   "source": [
    "jpeg(\"boxplot_b1r_H2_1.jpg\", width = 600, height = 600)\n",
    "boxplot(b2, col='lightpink', main='Błąd I rodzaju - H2')\n",
    "dev.off()"
   ]
  },
  {
   "cell_type": "code",
   "execution_count": 30,
   "metadata": {
    "vscode": {
     "languageId": "r"
    }
   },
   "outputs": [
    {
     "data": {
      "text/html": [
       "<strong>png:</strong> 2"
      ],
      "text/latex": [
       "\\textbf{png:} 2"
      ],
      "text/markdown": [
       "**png:** 2"
      ],
      "text/plain": [
       "png \n",
       "  2 "
      ]
     },
     "metadata": {},
     "output_type": "display_data"
    }
   ],
   "source": [
    "jpeg(\"boxplot_b1r_1_2.jpg\", width = 800, height = 600)\n",
    "boxplot(b1,b2,b3, col='lightpink', main='Błąd I rodzaju', names=c(\"H1: \\u03bc \\u2260 \\u03bc\", \"H2: \\u03bc \\u003e \\u03bc\", \"H3: \\u03bc \\u003c \\u03bc\"))\n",
    "dev.off()"
   ]
  },
  {
   "cell_type": "code",
   "execution_count": 221,
   "metadata": {
    "vscode": {
     "languageId": "r"
    }
   },
   "outputs": [
    {
     "data": {
      "text/html": [
       "<strong>png:</strong> 2"
      ],
      "text/latex": [
       "\\textbf{png:} 2"
      ],
      "text/markdown": [
       "**png:** 2"
      ],
      "text/plain": [
       "png \n",
       "  2 "
      ]
     },
     "metadata": {},
     "output_type": "display_data"
    }
   ],
   "source": [
    "jpeg(\"boxplot_b1r_2_7.jpg\", width = 800, height = 600)\n",
    "boxplot(b4,b5,b6, col='aquamarine', main='Błąd I rodzaju', names=c(\"H1\", \"H2\", \"H3\"))\n",
    "dev.off()"
   ]
  },
  {
   "cell_type": "markdown",
   "metadata": {},
   "source": [
    "mi!<mi_0"
   ]
  },
  {
   "cell_type": "markdown",
   "metadata": {},
   "source": []
  },
  {
   "cell_type": "code",
   "execution_count": 29,
   "metadata": {
    "vscode": {
     "languageId": "r"
    }
   },
   "outputs": [],
   "source": [
    "b3 <- numeric()\n",
    "for(j in 1:M){\n",
    "    test1_3 <- 0\n",
    "    for(i in 1:N){\n",
    "        X <- rnorm(n, mi, sig)\n",
    "        Z <- (mean(X) - mi) / (sig / sqrt(n))\n",
    "        z_q <- qnorm(1 - alf)\n",
    "        if(Z <= -z_q){\n",
    "            test1_3 <- test1_3 + 1\n",
    "        }\n",
    "    }\n",
    "    b3[j] <- test1_3/N\n",
    "}"
   ]
  },
  {
   "cell_type": "code",
   "execution_count": 172,
   "metadata": {
    "vscode": {
     "languageId": "r"
    }
   },
   "outputs": [
    {
     "data": {
      "text/html": [
       "<strong>png:</strong> 2"
      ],
      "text/latex": [
       "\\textbf{png:} 2"
      ],
      "text/markdown": [
       "**png:** 2"
      ],
      "text/plain": [
       "png \n",
       "  2 "
      ]
     },
     "metadata": {},
     "output_type": "display_data"
    }
   ],
   "source": [
    "jpeg(\"boxplot_b1r_H3_1.jpg\", width = 600, height = 600)\n",
    "boxplot(b3, col='lightpink', main='Błąd I rodzaju - H3')\n",
    "dev.off()"
   ]
  },
  {
   "cell_type": "markdown",
   "metadata": {},
   "source": [
    "<b>BŁĄD DRUGIEGO RODZAJU</b>"
   ]
  },
  {
   "cell_type": "markdown",
   "metadata": {},
   "source": [
    "mi!=mi_0"
   ]
  },
  {
   "cell_type": "code",
   "execution_count": 203,
   "metadata": {
    "vscode": {
     "languageId": "r"
    }
   },
   "outputs": [],
   "source": [
    "alf <- 0.02\n",
    "n <- 1000\n",
    "mi <- c(1.47, 1.48, 1.49, 1.51, 1.52, 1.53)\n",
    "sig <- 0.2\n",
    "N <- 1000"
   ]
  },
  {
   "cell_type": "code",
   "execution_count": 204,
   "metadata": {
    "vscode": {
     "languageId": "r"
    }
   },
   "outputs": [],
   "source": [
    "m1 <- numeric()\n",
    "for(i in 1:length(mi)){\n",
    "    test <- 0\n",
    "    for(j in 1:N){\n",
    "        X <- rnorm(n,mi[i],sig)\n",
    "        Z <- (mean(X) - 1.5) / (sig / sqrt(n))\n",
    "        z_q <- qnorm(1 - alf / 2)\n",
    "        if(-z_q<Z && Z<z_q){\n",
    "            test <- test+1\n",
    "        }\n",
    "    }\n",
    "    m1[i] <- test/N\n",
    "}"
   ]
  },
  {
   "cell_type": "code",
   "execution_count": 21,
   "metadata": {
    "vscode": {
     "languageId": "r"
    }
   },
   "outputs": [
    {
     "data": {
      "text/html": [
       "0.951"
      ],
      "text/latex": [
       "0.951"
      ],
      "text/markdown": [
       "0.951"
      ],
      "text/plain": [
       "[1] 0.951"
      ]
     },
     "metadata": {},
     "output_type": "display_data"
    }
   ],
   "source": [
    "test <- 0\n",
    "for(j in 1:N){\n",
    "    X <- rnorm(n,mi[1],sig)\n",
    "    Z <- (mean(X) - mi[1]) / (sig / sqrt(n))\n",
    "    z_q <- qnorm(1 - alf / 2)\n",
    "    if(-z_q<Z && Z<z_q){\n",
    "        test <- test+1\n",
    "    }\n",
    "}\n",
    "test/N"
   ]
  },
  {
   "cell_type": "code",
   "execution_count": 23,
   "metadata": {
    "vscode": {
     "languageId": "r"
    }
   },
   "outputs": [
    {
     "data": {
      "text/html": [
       "<ol class=list-inline>\n",
       "\t<li>0.001</li>\n",
       "\t<li>0.099</li>\n",
       "\t<li>0.645</li>\n",
       "\t<li>0.649</li>\n",
       "\t<li>0.111</li>\n",
       "\t<li>0.002</li>\n",
       "</ol>\n"
      ],
      "text/latex": [
       "\\begin{enumerate*}\n",
       "\\item 0.001\n",
       "\\item 0.099\n",
       "\\item 0.645\n",
       "\\item 0.649\n",
       "\\item 0.111\n",
       "\\item 0.002\n",
       "\\end{enumerate*}\n"
      ],
      "text/markdown": [
       "1. 0.001\n",
       "2. 0.099\n",
       "3. 0.645\n",
       "4. 0.649\n",
       "5. 0.111\n",
       "6. 0.002\n",
       "\n",
       "\n"
      ],
      "text/plain": [
       "[1] 0.001 0.099 0.645 0.649 0.111 0.002"
      ]
     },
     "metadata": {},
     "output_type": "display_data"
    }
   ],
   "source": [
    "m1"
   ]
  },
  {
   "cell_type": "markdown",
   "metadata": {},
   "source": [
    "moc testu"
   ]
  },
  {
   "cell_type": "code",
   "execution_count": 24,
   "metadata": {
    "vscode": {
     "languageId": "r"
    }
   },
   "outputs": [
    {
     "data": {
      "text/html": [
       "<ol class=list-inline>\n",
       "\t<li>0.999</li>\n",
       "\t<li>0.901</li>\n",
       "\t<li>0.355</li>\n",
       "\t<li>0.351</li>\n",
       "\t<li>0.889</li>\n",
       "\t<li>0.998</li>\n",
       "</ol>\n"
      ],
      "text/latex": [
       "\\begin{enumerate*}\n",
       "\\item 0.999\n",
       "\\item 0.901\n",
       "\\item 0.355\n",
       "\\item 0.351\n",
       "\\item 0.889\n",
       "\\item 0.998\n",
       "\\end{enumerate*}\n"
      ],
      "text/markdown": [
       "1. 0.999\n",
       "2. 0.901\n",
       "3. 0.355\n",
       "4. 0.351\n",
       "5. 0.889\n",
       "6. 0.998\n",
       "\n",
       "\n"
      ],
      "text/plain": [
       "[1] 0.999 0.901 0.355 0.351 0.889 0.998"
      ]
     },
     "metadata": {},
     "output_type": "display_data"
    }
   ],
   "source": [
    "1-m1"
   ]
  },
  {
   "cell_type": "markdown",
   "metadata": {},
   "source": [
    "mi>mi_0"
   ]
  },
  {
   "cell_type": "code",
   "execution_count": 29,
   "metadata": {
    "vscode": {
     "languageId": "r"
    }
   },
   "outputs": [],
   "source": [
    "m2 <- numeric()\n",
    "for(i in 1:length(mi[4:length(mi)])){\n",
    "    test12_2 <- 0\n",
    "    for(j in 1:N){\n",
    "        X <- rnorm(n,mi[3+i],sig)\n",
    "        Z <- (mean(X) - 1.5) / (sig / sqrt(n))\n",
    "        z_q <- qnorm(1 - alf)\n",
    "        if(Z<z_q){\n",
    "            test12_2 <- test12_2+1\n",
    "        }\n",
    "    }\n",
    "    m2[i] <- test12_2/N\n",
    "}"
   ]
  },
  {
   "cell_type": "code",
   "execution_count": 30,
   "metadata": {
    "vscode": {
     "languageId": "r"
    }
   },
   "outputs": [
    {
     "data": {
      "text/html": [
       "<ol class=list-inline>\n",
       "\t<li>0.522</li>\n",
       "\t<li>0.075</li>\n",
       "\t<li>0.001</li>\n",
       "</ol>\n"
      ],
      "text/latex": [
       "\\begin{enumerate*}\n",
       "\\item 0.522\n",
       "\\item 0.075\n",
       "\\item 0.001\n",
       "\\end{enumerate*}\n"
      ],
      "text/markdown": [
       "1. 0.522\n",
       "2. 0.075\n",
       "3. 0.001\n",
       "\n",
       "\n"
      ],
      "text/plain": [
       "[1] 0.522 0.075 0.001"
      ]
     },
     "metadata": {},
     "output_type": "display_data"
    }
   ],
   "source": [
    "m2"
   ]
  },
  {
   "cell_type": "markdown",
   "metadata": {},
   "source": [
    "moc testu"
   ]
  },
  {
   "cell_type": "code",
   "execution_count": 31,
   "metadata": {
    "vscode": {
     "languageId": "r"
    }
   },
   "outputs": [
    {
     "data": {
      "text/html": [
       "<ol class=list-inline>\n",
       "\t<li>0.478</li>\n",
       "\t<li>0.925</li>\n",
       "\t<li>0.999</li>\n",
       "</ol>\n"
      ],
      "text/latex": [
       "\\begin{enumerate*}\n",
       "\\item 0.478\n",
       "\\item 0.925\n",
       "\\item 0.999\n",
       "\\end{enumerate*}\n"
      ],
      "text/markdown": [
       "1. 0.478\n",
       "2. 0.925\n",
       "3. 0.999\n",
       "\n",
       "\n"
      ],
      "text/plain": [
       "[1] 0.478 0.925 0.999"
      ]
     },
     "metadata": {},
     "output_type": "display_data"
    }
   ],
   "source": [
    "1-m2"
   ]
  },
  {
   "cell_type": "markdown",
   "metadata": {},
   "source": [
    "mi<mi_0"
   ]
  },
  {
   "cell_type": "code",
   "execution_count": 32,
   "metadata": {
    "vscode": {
     "languageId": "r"
    }
   },
   "outputs": [],
   "source": [
    "m3 <- numeric()\n",
    "for(i in 1:length(mi[1:3])){\n",
    "    test12_3 <- 0\n",
    "    for(j in 1:N){\n",
    "        X <- rnorm(n,mi[i],sig)\n",
    "        Z <- (mean(X) - 1.5) / (sig / sqrt(n))\n",
    "        z_q <- qnorm(1 - alf)\n",
    "        if(Z>-z_q){\n",
    "            test12_3 <- test12_3+1\n",
    "        }\n",
    "    }\n",
    "    m3[i] <- test12_3/N\n",
    "}"
   ]
  },
  {
   "cell_type": "code",
   "execution_count": 33,
   "metadata": {
    "vscode": {
     "languageId": "r"
    }
   },
   "outputs": [
    {
     "data": {
      "text/html": [
       "<ol class=list-inline>\n",
       "\t<li>0.001</li>\n",
       "\t<li>0.069</li>\n",
       "\t<li>0.52</li>\n",
       "</ol>\n"
      ],
      "text/latex": [
       "\\begin{enumerate*}\n",
       "\\item 0.001\n",
       "\\item 0.069\n",
       "\\item 0.52\n",
       "\\end{enumerate*}\n"
      ],
      "text/markdown": [
       "1. 0.001\n",
       "2. 0.069\n",
       "3. 0.52\n",
       "\n",
       "\n"
      ],
      "text/plain": [
       "[1] 0.001 0.069 0.520"
      ]
     },
     "metadata": {},
     "output_type": "display_data"
    }
   ],
   "source": [
    "m3"
   ]
  },
  {
   "cell_type": "markdown",
   "metadata": {},
   "source": [
    "moc testu"
   ]
  },
  {
   "cell_type": "code",
   "execution_count": 34,
   "metadata": {
    "vscode": {
     "languageId": "r"
    }
   },
   "outputs": [
    {
     "data": {
      "text/html": [
       "<ol class=list-inline>\n",
       "\t<li>0.999</li>\n",
       "\t<li>0.931</li>\n",
       "\t<li>0.48</li>\n",
       "</ol>\n"
      ],
      "text/latex": [
       "\\begin{enumerate*}\n",
       "\\item 0.999\n",
       "\\item 0.931\n",
       "\\item 0.48\n",
       "\\end{enumerate*}\n"
      ],
      "text/markdown": [
       "1. 0.999\n",
       "2. 0.931\n",
       "3. 0.48\n",
       "\n",
       "\n"
      ],
      "text/plain": [
       "[1] 0.999 0.931 0.480"
      ]
     },
     "metadata": {},
     "output_type": "display_data"
    }
   ],
   "source": [
    "1-m3"
   ]
  },
  {
   "cell_type": "markdown",
   "metadata": {},
   "source": [
    "# Zadanie 2"
   ]
  },
  {
   "cell_type": "code",
   "execution_count": 52,
   "metadata": {
    "vscode": {
     "languageId": "r"
    }
   },
   "outputs": [],
   "source": [
    "alf <- 0.07\n",
    "n <- 1000\n",
    "mi <- 0.2\n",
    "sig_2 <- 1.5\n",
    "N <- 1000"
   ]
  },
  {
   "cell_type": "markdown",
   "metadata": {},
   "source": [
    "<b>BŁĄD PIERWSZEGO RODZAJU</b>"
   ]
  },
  {
   "cell_type": "markdown",
   "metadata": {},
   "source": [
    "sig!=sig_0"
   ]
  },
  {
   "cell_type": "code",
   "execution_count": 53,
   "metadata": {
    "vscode": {
     "languageId": "r"
    }
   },
   "outputs": [],
   "source": [
    "b4 <- numeric()\n",
    "for(j in 1:M){\n",
    "    test2_1 <- 0\n",
    "    for(i in 1:N){\n",
    "        X <- rnorm(n, mi, sqrt(sig_2))\n",
    "        chi <- (n - 1) * var(X) / (sig_2)\n",
    "        chi_q1 <- qchisq(alf / 2, n-1)\n",
    "        chi_q2 <- qchisq(1 - alf / 2, n-1)\n",
    "        if(chi <= chi_q1 || chi >= chi_q2){\n",
    "            test2_1 <- test2_1 + 1\n",
    "        }\n",
    "    }\n",
    "    b4[j] <- test2_1/N\n",
    "}\n"
   ]
  },
  {
   "cell_type": "code",
   "execution_count": 171,
   "metadata": {
    "vscode": {
     "languageId": "r"
    }
   },
   "outputs": [
    {
     "data": {
      "text/html": [
       "<strong>png:</strong> 2"
      ],
      "text/latex": [
       "\\textbf{png:} 2"
      ],
      "text/markdown": [
       "**png:** 2"
      ],
      "text/plain": [
       "png \n",
       "  2 "
      ]
     },
     "metadata": {},
     "output_type": "display_data"
    }
   ],
   "source": [
    "jpeg(\"boxplot_b1r_H1_2.jpg\", width = 600, height = 600)\n",
    "boxplot(b4, col='aquamarine', main='Błąd I rodzaju - H1')\n",
    "dev.off()"
   ]
  },
  {
   "cell_type": "markdown",
   "metadata": {},
   "source": [
    "sig>sig_0"
   ]
  },
  {
   "cell_type": "code",
   "execution_count": 54,
   "metadata": {
    "vscode": {
     "languageId": "r"
    }
   },
   "outputs": [],
   "source": [
    "b5 <- numeric()\n",
    "for(j in 1:M){\n",
    "    test2_2 <- 0\n",
    "    for(i in 1:N){\n",
    "        X <- rnorm(n, mi, sqrt(sig_2))\n",
    "        chi <- (n - 1) * var(X) / (sig_2)\n",
    "        chi_q <- qchisq(1-alf, n-1)\n",
    "        if(chi >= chi_q){\n",
    "            test2_2 <- test2_2 + 1\n",
    "        }\n",
    "    }\n",
    "    b5[j] <- test2_2/N\n",
    "}"
   ]
  },
  {
   "cell_type": "code",
   "execution_count": 56,
   "metadata": {
    "vscode": {
     "languageId": "r"
    }
   },
   "outputs": [
    {
     "data": {
      "text/html": [
       "<strong>png:</strong> 2"
      ],
      "text/latex": [
       "\\textbf{png:} 2"
      ],
      "text/markdown": [
       "**png:** 2"
      ],
      "text/plain": [
       "png \n",
       "  2 "
      ]
     },
     "metadata": {},
     "output_type": "display_data"
    }
   ],
   "source": [
    "jpeg(\"boxplot_b1r_2_7.jpg\", width = 800, height = 600)\n",
    "boxplot(b4,b5,b6, col='aquamarine', main='Błąd I rodzaju', names=c(\"H1: \\u03bc \\u2260 \\u03bc\", \"H2: \\u03bc \\u003e \\u03bc\", \"H3: \\u03bc \\u003c \\u03bc\"))\n",
    "dev.off()"
   ]
  },
  {
   "cell_type": "markdown",
   "metadata": {},
   "source": [
    "sig<sig_0"
   ]
  },
  {
   "cell_type": "code",
   "execution_count": 55,
   "metadata": {
    "vscode": {
     "languageId": "r"
    }
   },
   "outputs": [],
   "source": [
    "b6 <- numeric()\n",
    "for(j in 1:M){\n",
    "    test2_3 <- 0\n",
    "    for(i in 1:N){\n",
    "        X <- rnorm(n, mi, sqrt(sig_2))\n",
    "        chi <- (n - 1) * var(X) / (sig_2)\n",
    "        chi_q <- qchisq(alf, n-1)\n",
    "        if(chi <= chi_q){\n",
    "            test2_3 <- test2_3 + 1\n",
    "        }\n",
    "    }\n",
    "    b6[j] <- test2_3/N\n",
    "}"
   ]
  },
  {
   "cell_type": "code",
   "execution_count": 175,
   "metadata": {
    "vscode": {
     "languageId": "r"
    }
   },
   "outputs": [
    {
     "data": {
      "text/html": [
       "<strong>png:</strong> 2"
      ],
      "text/latex": [
       "\\textbf{png:} 2"
      ],
      "text/markdown": [
       "**png:** 2"
      ],
      "text/plain": [
       "png \n",
       "  2 "
      ]
     },
     "metadata": {},
     "output_type": "display_data"
    }
   ],
   "source": [
    "jpeg(\"boxplot_b1r_H3_2.jpg\", width = 600, height = 600)\n",
    "boxplot(b6, col='aquamarine', main='Błąd I rodzaju - H3')\n",
    "dev.off()"
   ]
  },
  {
   "cell_type": "markdown",
   "metadata": {},
   "source": [
    "<b>BŁĄD DRUGIEGO RODZAJU</b>"
   ]
  },
  {
   "cell_type": "code",
   "execution_count": null,
   "metadata": {
    "vscode": {
     "languageId": "r"
    }
   },
   "outputs": [],
   "source": []
  },
  {
   "cell_type": "markdown",
   "metadata": {},
   "source": [
    "sig!=sig_0"
   ]
  },
  {
   "cell_type": "code",
   "execution_count": 176,
   "metadata": {
    "vscode": {
     "languageId": "r"
    }
   },
   "outputs": [],
   "source": [
    "alf <- 0.05\n",
    "n <- 1000\n",
    "mi_2 <- 0.2\n",
    "sig_3 <- c(1.47, 1.48, 1.49, 1.51, 1.52, 1.53)\n",
    "N <- 1000"
   ]
  },
  {
   "cell_type": "code",
   "execution_count": 179,
   "metadata": {
    "vscode": {
     "languageId": "r"
    }
   },
   "outputs": [],
   "source": [
    "sig1 <- numeric()\n",
    "for(i in 1:length(sig_3)){\n",
    "    test22_1 <- 0\n",
    "    for(j in 1:N){\n",
    "        X <- rnorm(n,0.2,sqrt(sig_3[i]))\n",
    "        chi <- (n - 1) * var(X) / 1.5\n",
    "        chi_q1 <- qchisq(alf / 2, n-1)\n",
    "        chi_q2 <- qchisq(1 - alf / 2, n-1)\n",
    "        if(chi_q1< chi && chi < chi_q2){\n",
    "            test22_1 <- test22_1 + 1\n",
    "        }\n",
    "    }\n",
    "    sig1[i] <- test22_1/N\n",
    "}"
   ]
  },
  {
   "cell_type": "code",
   "execution_count": 180,
   "metadata": {
    "vscode": {
     "languageId": "r"
    }
   },
   "outputs": [
    {
     "data": {
      "text/html": [
       "<ol class=list-inline>\n",
       "\t<li>0.926</li>\n",
       "\t<li>0.944</li>\n",
       "\t<li>0.95</li>\n",
       "\t<li>0.947</li>\n",
       "\t<li>0.945</li>\n",
       "\t<li>0.939</li>\n",
       "</ol>\n"
      ],
      "text/latex": [
       "\\begin{enumerate*}\n",
       "\\item 0.926\n",
       "\\item 0.944\n",
       "\\item 0.95\n",
       "\\item 0.947\n",
       "\\item 0.945\n",
       "\\item 0.939\n",
       "\\end{enumerate*}\n"
      ],
      "text/markdown": [
       "1. 0.926\n",
       "2. 0.944\n",
       "3. 0.95\n",
       "4. 0.947\n",
       "5. 0.945\n",
       "6. 0.939\n",
       "\n",
       "\n"
      ],
      "text/plain": [
       "[1] 0.926 0.944 0.950 0.947 0.945 0.939"
      ]
     },
     "metadata": {},
     "output_type": "display_data"
    }
   ],
   "source": [
    "sig1"
   ]
  },
  {
   "cell_type": "markdown",
   "metadata": {},
   "source": [
    "moc testu"
   ]
  },
  {
   "cell_type": "code",
   "execution_count": 185,
   "metadata": {
    "vscode": {
     "languageId": "r"
    }
   },
   "outputs": [
    {
     "data": {
      "text/html": [
       "<ol class=list-inline>\n",
       "\t<li>0.074</li>\n",
       "\t<li>0.056</li>\n",
       "\t<li>0.05</li>\n",
       "\t<li>0.053</li>\n",
       "\t<li>0.055</li>\n",
       "\t<li>0.0610000000000001</li>\n",
       "</ol>\n"
      ],
      "text/latex": [
       "\\begin{enumerate*}\n",
       "\\item 0.074\n",
       "\\item 0.056\n",
       "\\item 0.05\n",
       "\\item 0.053\n",
       "\\item 0.055\n",
       "\\item 0.0610000000000001\n",
       "\\end{enumerate*}\n"
      ],
      "text/markdown": [
       "1. 0.074\n",
       "2. 0.056\n",
       "3. 0.05\n",
       "4. 0.053\n",
       "5. 0.055\n",
       "6. 0.0610000000000001\n",
       "\n",
       "\n"
      ],
      "text/plain": [
       "[1] 0.074 0.056 0.050 0.053 0.055 0.061"
      ]
     },
     "metadata": {},
     "output_type": "display_data"
    }
   ],
   "source": [
    "1-sig1"
   ]
  },
  {
   "cell_type": "markdown",
   "metadata": {},
   "source": [
    "sig>sig_0"
   ]
  },
  {
   "cell_type": "code",
   "execution_count": 181,
   "metadata": {
    "vscode": {
     "languageId": "r"
    }
   },
   "outputs": [],
   "source": [
    "sig2 <- numeric()\n",
    "for(i in 1:3){\n",
    "    test22_2 <- 0\n",
    "    for(j in 1:N){\n",
    "        X <- rnorm(n,1.5,sqrt(sig_3[3+i]))\n",
    "        chi <- (n - 1) * var(X) / 1.5\n",
    "        chi_q <- qchisq(1-alf, n-1)\n",
    "        if(chi < chi_q){\n",
    "            test22_2 <- test22_2 + 1\n",
    "        }\n",
    "    }\n",
    "    sig2[i] <- test22_2/N\n",
    "}"
   ]
  },
  {
   "cell_type": "code",
   "execution_count": 182,
   "metadata": {
    "vscode": {
     "languageId": "r"
    }
   },
   "outputs": [
    {
     "data": {
      "text/html": [
       "<ol class=list-inline>\n",
       "\t<li>0.921</li>\n",
       "\t<li>0.903</li>\n",
       "\t<li>0.877</li>\n",
       "</ol>\n"
      ],
      "text/latex": [
       "\\begin{enumerate*}\n",
       "\\item 0.921\n",
       "\\item 0.903\n",
       "\\item 0.877\n",
       "\\end{enumerate*}\n"
      ],
      "text/markdown": [
       "1. 0.921\n",
       "2. 0.903\n",
       "3. 0.877\n",
       "\n",
       "\n"
      ],
      "text/plain": [
       "[1] 0.921 0.903 0.877"
      ]
     },
     "metadata": {},
     "output_type": "display_data"
    }
   ],
   "source": [
    "sig2"
   ]
  },
  {
   "cell_type": "markdown",
   "metadata": {},
   "source": [
    "moc testu"
   ]
  },
  {
   "cell_type": "code",
   "execution_count": 186,
   "metadata": {
    "vscode": {
     "languageId": "r"
    }
   },
   "outputs": [
    {
     "data": {
      "text/html": [
       "<ol class=list-inline>\n",
       "\t<li>0.079</li>\n",
       "\t<li>0.097</li>\n",
       "\t<li>0.123</li>\n",
       "</ol>\n"
      ],
      "text/latex": [
       "\\begin{enumerate*}\n",
       "\\item 0.079\n",
       "\\item 0.097\n",
       "\\item 0.123\n",
       "\\end{enumerate*}\n"
      ],
      "text/markdown": [
       "1. 0.079\n",
       "2. 0.097\n",
       "3. 0.123\n",
       "\n",
       "\n"
      ],
      "text/plain": [
       "[1] 0.079 0.097 0.123"
      ]
     },
     "metadata": {},
     "output_type": "display_data"
    }
   ],
   "source": [
    "1-sig2"
   ]
  },
  {
   "cell_type": "markdown",
   "metadata": {},
   "source": [
    "sig<sig_0"
   ]
  },
  {
   "cell_type": "code",
   "execution_count": 183,
   "metadata": {
    "vscode": {
     "languageId": "r"
    }
   },
   "outputs": [],
   "source": [
    "sig3 <- numeric()\n",
    "for(i in 1:3){\n",
    "    test22_3 <- 0\n",
    "    for(j in 1:N){\n",
    "        X <- rnorm(n,0.2,sqrt(sig_3[i]))\n",
    "        chi <- (n - 1) * var(X) / 1.5\n",
    "        chi_q <- qchisq(alf, n-1)\n",
    "        if(chi > chi_q){\n",
    "            test22_3 <- test22_3 + 1\n",
    "        }\n",
    "    }\n",
    "    sig3[i] <- test22_3/N\n",
    "}"
   ]
  },
  {
   "cell_type": "code",
   "execution_count": 184,
   "metadata": {
    "vscode": {
     "languageId": "r"
    }
   },
   "outputs": [
    {
     "data": {
      "text/html": [
       "<ol class=list-inline>\n",
       "\t<li>0.887</li>\n",
       "\t<li>0.905</li>\n",
       "\t<li>0.954</li>\n",
       "</ol>\n"
      ],
      "text/latex": [
       "\\begin{enumerate*}\n",
       "\\item 0.887\n",
       "\\item 0.905\n",
       "\\item 0.954\n",
       "\\end{enumerate*}\n"
      ],
      "text/markdown": [
       "1. 0.887\n",
       "2. 0.905\n",
       "3. 0.954\n",
       "\n",
       "\n"
      ],
      "text/plain": [
       "[1] 0.887 0.905 0.954"
      ]
     },
     "metadata": {},
     "output_type": "display_data"
    }
   ],
   "source": [
    "sig3"
   ]
  },
  {
   "cell_type": "markdown",
   "metadata": {},
   "source": [
    "moc testu"
   ]
  },
  {
   "cell_type": "code",
   "execution_count": 187,
   "metadata": {
    "vscode": {
     "languageId": "r"
    }
   },
   "outputs": [
    {
     "data": {
      "text/html": [
       "<ol class=list-inline>\n",
       "\t<li>0.113</li>\n",
       "\t<li>0.095</li>\n",
       "\t<li>0.046</li>\n",
       "</ol>\n"
      ],
      "text/latex": [
       "\\begin{enumerate*}\n",
       "\\item 0.113\n",
       "\\item 0.095\n",
       "\\item 0.046\n",
       "\\end{enumerate*}\n"
      ],
      "text/markdown": [
       "1. 0.113\n",
       "2. 0.095\n",
       "3. 0.046\n",
       "\n",
       "\n"
      ],
      "text/plain": [
       "[1] 0.113 0.095 0.046"
      ]
     },
     "metadata": {},
     "output_type": "display_data"
    }
   ],
   "source": [
    "1-sig3"
   ]
  },
  {
   "cell_type": "code",
   "execution_count": null,
   "metadata": {
    "vscode": {
     "languageId": "r"
    }
   },
   "outputs": [],
   "source": []
  },
  {
   "cell_type": "code",
   "execution_count": 1,
   "metadata": {
    "vscode": {
     "languageId": "r"
    }
   },
   "outputs": [],
   "source": [
    "alf <- 0.05\n",
    "n <- 1000\n",
    "mi_2 <- 0.2\n",
    "sig_3 <- c(1.35, 1.4, 1.45, 1.55, 1.6, 1.65)\n",
    "N <- 1000"
   ]
  },
  {
   "cell_type": "code",
   "execution_count": 2,
   "metadata": {
    "vscode": {
     "languageId": "r"
    }
   },
   "outputs": [],
   "source": [
    "sig1 <- numeric()\n",
    "for(i in 1:length(sig_3)){\n",
    "    test22_1 <- 0\n",
    "    for(j in 1:N){\n",
    "        X <- rnorm(n,0.2,sqrt(sig_3[i]))\n",
    "        chi <- (n - 1) * var(X) / 1.5\n",
    "        chi_q1 <- qchisq(alf / 2, n-1)\n",
    "        chi_q2 <- qchisq(1 - alf / 2, n-1)\n",
    "        if(chi_q1< chi && chi < chi_q2){\n",
    "            test22_1 <- test22_1 + 1\n",
    "        }\n",
    "    }\n",
    "    sig1[i] <- test22_1/N\n",
    "}"
   ]
  },
  {
   "cell_type": "code",
   "execution_count": 3,
   "metadata": {
    "vscode": {
     "languageId": "r"
    }
   },
   "outputs": [
    {
     "data": {
      "text/html": [
       "<ol class=list-inline>\n",
       "\t<li>0.339</li>\n",
       "\t<li>0.659</li>\n",
       "\t<li>0.881</li>\n",
       "\t<li>0.888</li>\n",
       "\t<li>0.667</li>\n",
       "\t<li>0.438</li>\n",
       "</ol>\n"
      ],
      "text/latex": [
       "\\begin{enumerate*}\n",
       "\\item 0.339\n",
       "\\item 0.659\n",
       "\\item 0.881\n",
       "\\item 0.888\n",
       "\\item 0.667\n",
       "\\item 0.438\n",
       "\\end{enumerate*}\n"
      ],
      "text/markdown": [
       "1. 0.339\n",
       "2. 0.659\n",
       "3. 0.881\n",
       "4. 0.888\n",
       "5. 0.667\n",
       "6. 0.438\n",
       "\n",
       "\n"
      ],
      "text/plain": [
       "[1] 0.339 0.659 0.881 0.888 0.667 0.438"
      ]
     },
     "metadata": {},
     "output_type": "display_data"
    }
   ],
   "source": [
    "sig1"
   ]
  },
  {
   "cell_type": "markdown",
   "metadata": {},
   "source": [
    "moc testu"
   ]
  },
  {
   "cell_type": "code",
   "execution_count": 4,
   "metadata": {
    "vscode": {
     "languageId": "r"
    }
   },
   "outputs": [
    {
     "data": {
      "text/html": [
       "<ol class=list-inline>\n",
       "\t<li>0.661</li>\n",
       "\t<li>0.341</li>\n",
       "\t<li>0.119</li>\n",
       "\t<li>0.112</li>\n",
       "\t<li>0.333</li>\n",
       "\t<li>0.562</li>\n",
       "</ol>\n"
      ],
      "text/latex": [
       "\\begin{enumerate*}\n",
       "\\item 0.661\n",
       "\\item 0.341\n",
       "\\item 0.119\n",
       "\\item 0.112\n",
       "\\item 0.333\n",
       "\\item 0.562\n",
       "\\end{enumerate*}\n"
      ],
      "text/markdown": [
       "1. 0.661\n",
       "2. 0.341\n",
       "3. 0.119\n",
       "4. 0.112\n",
       "5. 0.333\n",
       "6. 0.562\n",
       "\n",
       "\n"
      ],
      "text/plain": [
       "[1] 0.661 0.341 0.119 0.112 0.333 0.562"
      ]
     },
     "metadata": {},
     "output_type": "display_data"
    }
   ],
   "source": [
    "1-sig1"
   ]
  },
  {
   "cell_type": "markdown",
   "metadata": {},
   "source": [
    "sig>sig_0"
   ]
  },
  {
   "cell_type": "code",
   "execution_count": 5,
   "metadata": {
    "vscode": {
     "languageId": "r"
    }
   },
   "outputs": [],
   "source": [
    "sig2 <- numeric()\n",
    "for(i in 1:3){\n",
    "    test22_2 <- 0\n",
    "    for(j in 1:N){\n",
    "        X <- rnorm(n,1.5,sqrt(sig_3[3+i]))\n",
    "        chi <- (n - 1) * var(X) / 1.5\n",
    "        chi_q <- qchisq(1-alf, n-1)\n",
    "        if(chi < chi_q){\n",
    "            test22_2 <- test22_2 + 1\n",
    "        }\n",
    "    }\n",
    "    sig2[i] <- test22_2/N\n",
    "}"
   ]
  },
  {
   "cell_type": "code",
   "execution_count": 6,
   "metadata": {
    "vscode": {
     "languageId": "r"
    }
   },
   "outputs": [
    {
     "data": {
      "text/html": [
       "<ol class=list-inline>\n",
       "\t<li>0.797</li>\n",
       "\t<li>0.585</li>\n",
       "\t<li>0.279</li>\n",
       "</ol>\n"
      ],
      "text/latex": [
       "\\begin{enumerate*}\n",
       "\\item 0.797\n",
       "\\item 0.585\n",
       "\\item 0.279\n",
       "\\end{enumerate*}\n"
      ],
      "text/markdown": [
       "1. 0.797\n",
       "2. 0.585\n",
       "3. 0.279\n",
       "\n",
       "\n"
      ],
      "text/plain": [
       "[1] 0.797 0.585 0.279"
      ]
     },
     "metadata": {},
     "output_type": "display_data"
    }
   ],
   "source": [
    "sig2"
   ]
  },
  {
   "cell_type": "markdown",
   "metadata": {},
   "source": [
    "moc testu"
   ]
  },
  {
   "cell_type": "code",
   "execution_count": 7,
   "metadata": {
    "vscode": {
     "languageId": "r"
    }
   },
   "outputs": [
    {
     "data": {
      "text/html": [
       "<ol class=list-inline>\n",
       "\t<li>0.203</li>\n",
       "\t<li>0.415</li>\n",
       "\t<li>0.721</li>\n",
       "</ol>\n"
      ],
      "text/latex": [
       "\\begin{enumerate*}\n",
       "\\item 0.203\n",
       "\\item 0.415\n",
       "\\item 0.721\n",
       "\\end{enumerate*}\n"
      ],
      "text/markdown": [
       "1. 0.203\n",
       "2. 0.415\n",
       "3. 0.721\n",
       "\n",
       "\n"
      ],
      "text/plain": [
       "[1] 0.203 0.415 0.721"
      ]
     },
     "metadata": {},
     "output_type": "display_data"
    }
   ],
   "source": [
    "1-sig2"
   ]
  },
  {
   "cell_type": "markdown",
   "metadata": {},
   "source": [
    "sig<sig_0"
   ]
  },
  {
   "cell_type": "code",
   "execution_count": 8,
   "metadata": {
    "vscode": {
     "languageId": "r"
    }
   },
   "outputs": [],
   "source": [
    "sig3 <- numeric()\n",
    "for(i in 1:3){\n",
    "    test22_3 <- 0\n",
    "    for(j in 1:N){\n",
    "        X <- rnorm(n,0.2,sqrt(sig_3[i]))\n",
    "        chi <- (n - 1) * var(X) / 1.5\n",
    "        chi_q <- qchisq(alf, n-1)\n",
    "        if(chi > chi_q){\n",
    "            test22_3 <- test22_3 + 1\n",
    "        }\n",
    "    }\n",
    "    sig3[i] <- test22_3/N\n",
    "}"
   ]
  },
  {
   "cell_type": "code",
   "execution_count": 9,
   "metadata": {
    "vscode": {
     "languageId": "r"
    }
   },
   "outputs": [
    {
     "data": {
      "text/html": [
       "<ol class=list-inline>\n",
       "\t<li>0.245</li>\n",
       "\t<li>0.554</li>\n",
       "\t<li>0.806</li>\n",
       "</ol>\n"
      ],
      "text/latex": [
       "\\begin{enumerate*}\n",
       "\\item 0.245\n",
       "\\item 0.554\n",
       "\\item 0.806\n",
       "\\end{enumerate*}\n"
      ],
      "text/markdown": [
       "1. 0.245\n",
       "2. 0.554\n",
       "3. 0.806\n",
       "\n",
       "\n"
      ],
      "text/plain": [
       "[1] 0.245 0.554 0.806"
      ]
     },
     "metadata": {},
     "output_type": "display_data"
    }
   ],
   "source": [
    "sig3"
   ]
  },
  {
   "cell_type": "markdown",
   "metadata": {},
   "source": [
    "moc testu"
   ]
  },
  {
   "cell_type": "code",
   "execution_count": 10,
   "metadata": {
    "vscode": {
     "languageId": "r"
    }
   },
   "outputs": [
    {
     "data": {
      "text/html": [
       "<ol class=list-inline>\n",
       "\t<li>0.755</li>\n",
       "\t<li>0.446</li>\n",
       "\t<li>0.194</li>\n",
       "</ol>\n"
      ],
      "text/latex": [
       "\\begin{enumerate*}\n",
       "\\item 0.755\n",
       "\\item 0.446\n",
       "\\item 0.194\n",
       "\\end{enumerate*}\n"
      ],
      "text/markdown": [
       "1. 0.755\n",
       "2. 0.446\n",
       "3. 0.194\n",
       "\n",
       "\n"
      ],
      "text/plain": [
       "[1] 0.755 0.446 0.194"
      ]
     },
     "metadata": {},
     "output_type": "display_data"
    }
   ],
   "source": [
    "1-sig3"
   ]
  },
  {
   "cell_type": "code",
   "execution_count": null,
   "metadata": {
    "vscode": {
     "languageId": "r"
    }
   },
   "outputs": [],
   "source": []
  }
 ],
 "metadata": {
  "kernelspec": {
   "display_name": "R",
   "language": "R",
   "name": "ir"
  },
  "language_info": {
   "codemirror_mode": "r",
   "file_extension": ".r",
   "mimetype": "text/x-r-source",
   "name": "R",
   "pygments_lexer": "r",
   "version": "3.6.1"
  },
  "orig_nbformat": 4,
  "vscode": {
   "interpreter": {
    "hash": "8b3d8d9f83d0dd8c07a13472687ab92b02076f93e076e7251f2752c71d76a292"
   }
  }
 },
 "nbformat": 4,
 "nbformat_minor": 2
}
