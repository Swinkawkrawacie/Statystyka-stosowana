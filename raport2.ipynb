{
 "cells": [
  {
   "cell_type": "markdown",
   "metadata": {},
   "source": [
    "# Zadanie 1"
   ]
  },
  {
   "cell_type": "code",
   "execution_count": 1,
   "metadata": {
    "vscode": {
     "languageId": "r"
    }
   },
   "outputs": [],
   "source": [
    "alf <- 0.05\n",
    "n <- 1000\n",
    "mi <- 1.5\n",
    "sig <- 0.2\n",
    "N <- 1000\n",
    "M <- 100"
   ]
  },
  {
   "cell_type": "markdown",
   "metadata": {},
   "source": [
    "<b>BŁĄD PIERWSZEGO RODZAJU</b>"
   ]
  },
  {
   "cell_type": "markdown",
   "metadata": {},
   "source": [
    "mi!=mi_0"
   ]
  },
  {
   "cell_type": "code",
   "execution_count": 139,
   "metadata": {
    "vscode": {
     "languageId": "r"
    }
   },
   "outputs": [],
   "source": [
    "b1 <- numeric()\n",
    "for(j in 1:M){\n",
    "    test1_1 <- 0\n",
    "    for(i in 1:N){\n",
    "        X <- rnorm(n, mi, sig)\n",
    "        Z <- (mean(X) - mi) / (sig / sqrt(n))\n",
    "        z_q <- qnorm(1 - alf / 2)\n",
    "        if(Z <= -z_q || Z >= z_q){\n",
    "            test1_1 <- test1_1 + 1\n",
    "        }\n",
    "    }\n",
    "    b1[j] <- test1_1/N\n",
    "}\n"
   ]
  },
  {
   "cell_type": "code",
   "execution_count": 143,
   "metadata": {
    "vscode": {
     "languageId": "r"
    }
   },
   "outputs": [
    {
     "data": {
      "image/png": "[encoded data removed]",
      "text/plain": [
       "Plot with title \"Błąd I rodzaju - H1\""
      ]
     },
     "metadata": {},
     "output_type": "display_data"
    }
   ],
   "source": [
    "boxplot(b1, col='lightpink', main='Błąd I rodzaju - H1')"
   ]
  },
  {
   "cell_type": "markdown",
   "metadata": {},
   "source": [
    "mi>mi_0"
   ]
  },
  {
   "cell_type": "code",
   "execution_count": 141,
   "metadata": {
    "vscode": {
     "languageId": "r"
    }
   },
   "outputs": [],
   "source": [
    "b2 <- numeric()\n",
    "for(j in 1:M){\n",
    "    test1_2 <- 0\n",
    "    for(i in 1:N){\n",
    "        X <- rnorm(n, mi, sig)\n",
    "        Z <- (mean(X) - mi) / (sig / sqrt(n))\n",
    "        z_q <- qnorm(1 - alf)\n",
    "        if(Z >= z_q){\n",
    "            test1_2 <- test1_2 + 1\n",
    "        }\n",
    "    }\n",
    "    b2[j] <- test1_2/N\n",
    "}\n"
   ]
  },
  {
   "cell_type": "code",
   "execution_count": 144,
   "metadata": {
    "vscode": {
     "languageId": "r"
    }
   },
   "outputs": [
    {
     "data": {
      "image/png": "[encoded data removed]",
      "text/plain": [
       "Plot with title \"Błąd I rodzaju - H2\""
      ]
     },
     "metadata": {},
     "output_type": "display_data"
    }
   ],
   "source": [
    "boxplot(b2, col='lightpink', main='Błąd I rodzaju - H2')"
   ]
  },
  {
   "cell_type": "markdown",
   "metadata": {},
   "source": [
    "mi!<mi_0"
   ]
  },
  {
   "cell_type": "code",
   "execution_count": 145,
   "metadata": {
    "vscode": {
     "languageId": "r"
    }
   },
   "outputs": [],
   "source": [
    "b3 <- numeric()\n",
    "for(j in 1:M){\n",
    "    test1_3 <- 0\n",
    "    for(i in 1:N){\n",
    "        X <- rnorm(n, mi, sig)\n",
    "        Z <- (mean(X) - mi) / (sig / sqrt(n))\n",
    "        z_q <- qnorm(1 - alf)\n",
    "        if(Z <= -z_q){\n",
    "            test1_3 <- test1_3 + 1\n",
    "        }\n",
    "    }\n",
    "    b3[j] <- test1_3/N\n",
    "}"
   ]
  },
  {
   "cell_type": "code",
   "execution_count": 146,
   "metadata": {
    "vscode": {
     "languageId": "r"
    }
   },
   "outputs": [
    {
     "data": {
      "image/png": "[encoded data removed]",
      "text/plain": [
       "Plot with title \"Błąd I rodzaju - H3\""
      ]
     },
     "metadata": {},
     "output_type": "display_data"
    }
   ],
   "source": [
    "boxplot(b3, col='lightpink', main='Błąd I rodzaju - H3')"
   ]
  },
  {
   "cell_type": "markdown",
   "metadata": {},
   "source": [
    "<b>BŁĄD DRUGIEGO RODZAJU</b>"
   ]
  },
  {
   "cell_type": "markdown",
   "metadata": {},
   "source": [
    "mi!=mi_0"
   ]
  },
  {
   "cell_type": "code",
   "execution_count": 15,
   "metadata": {
    "vscode": {
     "languageId": "r"
    }
   },
   "outputs": [],
   "source": [
    "alf <- 0.05\n",
    "n <- 1000\n",
    "mi <- c(1.47, 1.48, 1.49, 1.51, 1.52, 1.53)\n",
    "sig <- 0.2\n",
    "N <- 1000"
   ]
  },
  {
   "cell_type": "code",
   "execution_count": 22,
   "metadata": {
    "vscode": {
     "languageId": "r"
    }
   },
   "outputs": [],
   "source": [
    "m1 <- numeric()\n",
    "for(i in 1:length(mi)){\n",
    "    test <- 0\n",
    "    for(j in 1:N){\n",
    "        X <- rnorm(n,mi[i],sig)\n",
    "        Z <- (mean(X) - 1.5) / (sig / sqrt(n))\n",
    "        z_q <- qnorm(1 - alf / 2)\n",
    "        if(-z_q<Z && Z<z_q){\n",
    "            test <- test+1\n",
    "        }\n",
    "    }\n",
    "    m1[i] <- test/N\n",
    "}"
   ]
  },
  {
   "cell_type": "code",
   "execution_count": 21,
   "metadata": {
    "vscode": {
     "languageId": "r"
    }
   },
   "outputs": [
    {
     "data": {
      "text/html": [
       "0.951"
      ],
      "text/latex": [
       "0.951"
      ],
      "text/markdown": [
       "0.951"
      ],
      "text/plain": [
       "[1] 0.951"
      ]
     },
     "metadata": {},
     "output_type": "display_data"
    }
   ],
   "source": [
    "test <- 0\n",
    "for(j in 1:N){\n",
    "    X <- rnorm(n,mi[1],sig)\n",
    "    Z <- (mean(X) - mi[1]) / (sig / sqrt(n))\n",
    "    z_q <- qnorm(1 - alf / 2)\n",
    "    if(-z_q<Z && Z<z_q){\n",
    "        test <- test+1\n",
    "    }\n",
    "}\n",
    "test/N"
   ]
  },
  {
   "cell_type": "code",
   "execution_count": 23,
   "metadata": {
    "vscode": {
     "languageId": "r"
    }
   },
   "outputs": [
    {
     "data": {
      "text/html": [
       "<ol class=list-inline>\n",
       "\t<li>0.001</li>\n",
       "\t<li>0.099</li>\n",
       "\t<li>0.645</li>\n",
       "\t<li>0.649</li>\n",
       "\t<li>0.111</li>\n",
       "\t<li>0.002</li>\n",
       "</ol>\n"
      ],
      "text/latex": [
       "\\begin{enumerate*}\n",
       "\\item 0.001\n",
       "\\item 0.099\n",
       "\\item 0.645\n",
       "\\item 0.649\n",
       "\\item 0.111\n",
       "\\item 0.002\n",
       "\\end{enumerate*}\n"
      ],
      "text/markdown": [
       "1. 0.001\n",
       "2. 0.099\n",
       "3. 0.645\n",
       "4. 0.649\n",
       "5. 0.111\n",
       "6. 0.002\n",
       "\n",
       "\n"
      ],
      "text/plain": [
       "[1] 0.001 0.099 0.645 0.649 0.111 0.002"
      ]
     },
     "metadata": {},
     "output_type": "display_data"
    }
   ],
   "source": [
    "m1"
   ]
  },
  {
   "cell_type": "markdown",
   "metadata": {},
   "source": [
    "moc testu"
   ]
  },
  {
   "cell_type": "code",
   "execution_count": 24,
   "metadata": {
    "vscode": {
     "languageId": "r"
    }
   },
   "outputs": [
    {
     "data": {
      "text/html": [
       "<ol class=list-inline>\n",
       "\t<li>0.999</li>\n",
       "\t<li>0.901</li>\n",
       "\t<li>0.355</li>\n",
       "\t<li>0.351</li>\n",
       "\t<li>0.889</li>\n",
       "\t<li>0.998</li>\n",
       "</ol>\n"
      ],
      "text/latex": [
       "\\begin{enumerate*}\n",
       "\\item 0.999\n",
       "\\item 0.901\n",
       "\\item 0.355\n",
       "\\item 0.351\n",
       "\\item 0.889\n",
       "\\item 0.998\n",
       "\\end{enumerate*}\n"
      ],
      "text/markdown": [
       "1. 0.999\n",
       "2. 0.901\n",
       "3. 0.355\n",
       "4. 0.351\n",
       "5. 0.889\n",
       "6. 0.998\n",
       "\n",
       "\n"
      ],
      "text/plain": [
       "[1] 0.999 0.901 0.355 0.351 0.889 0.998"
      ]
     },
     "metadata": {},
     "output_type": "display_data"
    }
   ],
   "source": [
    "1-m1"
   ]
  },
  {
   "cell_type": "markdown",
   "metadata": {},
   "source": [
    "mi>mi_0"
   ]
  },
  {
   "cell_type": "code",
   "execution_count": 29,
   "metadata": {
    "vscode": {
     "languageId": "r"
    }
   },
   "outputs": [],
   "source": [
    "m2 <- numeric()\n",
    "for(i in 1:length(mi[4:length(mi)])){\n",
    "    test12_2 <- 0\n",
    "    for(j in 1:N){\n",
    "        X <- rnorm(n,mi[3+i],sig)\n",
    "        Z <- (mean(X) - 1.5) / (sig / sqrt(n))\n",
    "        z_q <- qnorm(1 - alf)\n",
    "        if(Z<z_q){\n",
    "            test12_2 <- test12_2+1\n",
    "        }\n",
    "    }\n",
    "    m2[i] <- test12_2/N\n",
    "}"
   ]
  },
  {
   "cell_type": "code",
   "execution_count": 30,
   "metadata": {
    "vscode": {
     "languageId": "r"
    }
   },
   "outputs": [
    {
     "data": {
      "text/html": [
       "<ol class=list-inline>\n",
       "\t<li>0.522</li>\n",
       "\t<li>0.075</li>\n",
       "\t<li>0.001</li>\n",
       "</ol>\n"
      ],
      "text/latex": [
       "\\begin{enumerate*}\n",
       "\\item 0.522\n",
       "\\item 0.075\n",
       "\\item 0.001\n",
       "\\end{enumerate*}\n"
      ],
      "text/markdown": [
       "1. 0.522\n",
       "2. 0.075\n",
       "3. 0.001\n",
       "\n",
       "\n"
      ],
      "text/plain": [
       "[1] 0.522 0.075 0.001"
      ]
     },
     "metadata": {},
     "output_type": "display_data"
    }
   ],
   "source": [
    "m2"
   ]
  },
  {
   "cell_type": "markdown",
   "metadata": {},
   "source": [
    "moc testu"
   ]
  },
  {
   "cell_type": "code",
   "execution_count": 31,
   "metadata": {
    "vscode": {
     "languageId": "r"
    }
   },
   "outputs": [
    {
     "data": {
      "text/html": [
       "<ol class=list-inline>\n",
       "\t<li>0.478</li>\n",
       "\t<li>0.925</li>\n",
       "\t<li>0.999</li>\n",
       "</ol>\n"
      ],
      "text/latex": [
       "\\begin{enumerate*}\n",
       "\\item 0.478\n",
       "\\item 0.925\n",
       "\\item 0.999\n",
       "\\end{enumerate*}\n"
      ],
      "text/markdown": [
       "1. 0.478\n",
       "2. 0.925\n",
       "3. 0.999\n",
       "\n",
       "\n"
      ],
      "text/plain": [
       "[1] 0.478 0.925 0.999"
      ]
     },
     "metadata": {},
     "output_type": "display_data"
    }
   ],
   "source": [
    "1-m2"
   ]
  },
  {
   "cell_type": "markdown",
   "metadata": {},
   "source": [
    "mi<mi_0"
   ]
  },
  {
   "cell_type": "code",
   "execution_count": 32,
   "metadata": {
    "vscode": {
     "languageId": "r"
    }
   },
   "outputs": [],
   "source": [
    "m3 <- numeric()\n",
    "for(i in 1:length(mi[1:3])){\n",
    "    test12_3 <- 0\n",
    "    for(j in 1:N){\n",
    "        X <- rnorm(n,mi[i],sig)\n",
    "        Z <- (mean(X) - 1.5) / (sig / sqrt(n))\n",
    "        z_q <- qnorm(1 - alf)\n",
    "        if(Z>-z_q){\n",
    "            test12_3 <- test12_3+1\n",
    "        }\n",
    "    }\n",
    "    m3[i] <- test12_3/N\n",
    "}"
   ]
  },
  {
   "cell_type": "code",
   "execution_count": 33,
   "metadata": {
    "vscode": {
     "languageId": "r"
    }
   },
   "outputs": [
    {
     "data": {
      "text/html": [
       "<ol class=list-inline>\n",
       "\t<li>0.001</li>\n",
       "\t<li>0.069</li>\n",
       "\t<li>0.52</li>\n",
       "</ol>\n"
      ],
      "text/latex": [
       "\\begin{enumerate*}\n",
       "\\item 0.001\n",
       "\\item 0.069\n",
       "\\item 0.52\n",
       "\\end{enumerate*}\n"
      ],
      "text/markdown": [
       "1. 0.001\n",
       "2. 0.069\n",
       "3. 0.52\n",
       "\n",
       "\n"
      ],
      "text/plain": [
       "[1] 0.001 0.069 0.520"
      ]
     },
     "metadata": {},
     "output_type": "display_data"
    }
   ],
   "source": [
    "m3"
   ]
  },
  {
   "cell_type": "markdown",
   "metadata": {},
   "source": [
    "moc testu"
   ]
  },
  {
   "cell_type": "code",
   "execution_count": 34,
   "metadata": {
    "vscode": {
     "languageId": "r"
    }
   },
   "outputs": [
    {
     "data": {
      "text/html": [
       "<ol class=list-inline>\n",
       "\t<li>0.999</li>\n",
       "\t<li>0.931</li>\n",
       "\t<li>0.48</li>\n",
       "</ol>\n"
      ],
      "text/latex": [
       "\\begin{enumerate*}\n",
       "\\item 0.999\n",
       "\\item 0.931\n",
       "\\item 0.48\n",
       "\\end{enumerate*}\n"
      ],
      "text/markdown": [
       "1. 0.999\n",
       "2. 0.931\n",
       "3. 0.48\n",
       "\n",
       "\n"
      ],
      "text/plain": [
       "[1] 0.999 0.931 0.480"
      ]
     },
     "metadata": {},
     "output_type": "display_data"
    }
   ],
   "source": [
    "1-m3"
   ]
  },
  {
   "cell_type": "markdown",
   "metadata": {},
   "source": [
    "# Zadanie 2"
   ]
  },
  {
   "cell_type": "code",
   "execution_count": 35,
   "metadata": {
    "vscode": {
     "languageId": "r"
    }
   },
   "outputs": [],
   "source": [
    "alf <- 0.05\n",
    "n <- 1000\n",
    "mi <- 0.2\n",
    "sig_2 <- 1.5\n",
    "N <- 1000"
   ]
  },
  {
   "cell_type": "markdown",
   "metadata": {},
   "source": [
    "<b>BŁĄD PIERWSZEGO RODZAJU</b>"
   ]
  },
  {
   "cell_type": "markdown",
   "metadata": {},
   "source": [
    "sig!=sig_0"
   ]
  },
  {
   "cell_type": "code",
   "execution_count": 10,
   "metadata": {
    "vscode": {
     "languageId": "r"
    }
   },
   "outputs": [],
   "source": [
    "b4 <- numeric()\n",
    "for(j in 1:M){\n",
    "    test2_1 <- 0\n",
    "    for(i in 1:N){\n",
    "        X <- rnorm(n, mi, sqrt(sig_2))\n",
    "        chi <- (n - 1) * var(X) / (sig_2)\n",
    "        chi_q1 <- qchisq(alf / 2, n-1)\n",
    "        chi_q2 <- qchisq(1 - alf / 2, n-1)\n",
    "        if(chi <= chi_q1 || chi >= chi_q2){\n",
    "            test2_1 <- test2_1 + 1\n",
    "        }\n",
    "    }\n",
    "    b4[j] <- test2_1/N\n",
    "}\n"
   ]
  },
  {
   "cell_type": "code",
   "execution_count": 11,
   "metadata": {
    "vscode": {
     "languageId": "r"
    }
   },
   "outputs": [
    {
     "data": {
      "image/png": "[encoded data removed]",
      "text/plain": [
       "Plot with title \"Błąd I rodzaju - H1\""
      ]
     },
     "metadata": {},
     "output_type": "display_data"
    }
   ],
   "source": [
    "boxplot(b4, col='aquamarine', main='Błąd I rodzaju - H1')"
   ]
  },
  {
   "cell_type": "markdown",
   "metadata": {},
   "source": [
    "sig>sig_0"
   ]
  },
  {
   "cell_type": "code",
   "execution_count": 3,
   "metadata": {
    "vscode": {
     "languageId": "r"
    }
   },
   "outputs": [],
   "source": [
    "b5 <- numeric()\n",
    "for(j in 1:M){\n",
    "    test2_2 <- 0\n",
    "    for(i in 1:N){\n",
    "        X <- rnorm(n, mi, sqrt(sig_2))\n",
    "        chi <- (n - 1) * var(X) / (sig_2)\n",
    "        chi_q <- qchisq(1-alf, n-1)\n",
    "        if(chi >= chi_q){\n",
    "            test2_2 <- test2_2 + 1\n",
    "        }\n",
    "    }\n",
    "    b5[j] <- test2_2/N\n",
    "}"
   ]
  },
  {
   "cell_type": "code",
   "execution_count": 4,
   "metadata": {
    "vscode": {
     "languageId": "r"
    }
   },
   "outputs": [
    {
     "data": {
      "image/png": "[encoded data removed]",
      "text/plain": [
       "Plot with title \"Błąd I rodzaju - H2\""
      ]
     },
     "metadata": {},
     "output_type": "display_data"
    }
   ],
   "source": [
    "boxplot(b5, col='aquamarine', main='Błąd I rodzaju - H2')"
   ]
  },
  {
   "cell_type": "markdown",
   "metadata": {},
   "source": [
    "sig<sig_0"
   ]
  },
  {
   "cell_type": "code",
   "execution_count": 5,
   "metadata": {
    "vscode": {
     "languageId": "r"
    }
   },
   "outputs": [],
   "source": [
    "b6 <- numeric()\n",
    "for(j in 1:M){\n",
    "    test2_3 <- 0\n",
    "    for(i in 1:N){\n",
    "        X <- rnorm(n, mi, sqrt(sig_2))\n",
    "        chi <- (n - 1) * var(X) / (sig_2)\n",
    "        chi_q <- qchisq(alf, n-1)\n",
    "        if(chi <= chi_q){\n",
    "            test2_3 <- test2_3 + 1\n",
    "        }\n",
    "    }\n",
    "    b6[j] <- test2_3/N\n",
    "}"
   ]
  },
  {
   "cell_type": "code",
   "execution_count": 6,
   "metadata": {
    "vscode": {
     "languageId": "r"
    }
   },
   "outputs": [
    {
     "data": {
      "image/png": "[encoded data removed]",
      "text/plain": [
       "Plot with title \"Błąd I rodzaju - H3\""
      ]
     },
     "metadata": {},
     "output_type": "display_data"
    }
   ],
   "source": [
    "boxplot(b6, col='aquamarine', main='Błąd I rodzaju - H3')"
   ]
  },
  {
   "cell_type": "markdown",
   "metadata": {},
   "source": [
    "<b>BŁĄD DRUGIEGO RODZAJU</b>"
   ]
  },
  {
   "cell_type": "code",
   "execution_count": null,
   "metadata": {
    "vscode": {
     "languageId": "r"
    }
   },
   "outputs": [],
   "source": []
  },
  {
   "cell_type": "markdown",
   "metadata": {},
   "source": [
    "sig!=sig_0"
   ]
  },
  {
   "cell_type": "code",
   "execution_count": 73,
   "metadata": {
    "vscode": {
     "languageId": "r"
    }
   },
   "outputs": [],
   "source": [
    "alf <- 0.05\n",
    "n <- 1000\n",
    "mi_2 <- 0.2\n",
    "sig_3 <- c(1.47, 1.48, 1.49, 1.51, 1.52, 1.53)\n",
    "N <- 1000"
   ]
  },
  {
   "cell_type": "code",
   "execution_count": 78,
   "metadata": {
    "vscode": {
     "languageId": "r"
    }
   },
   "outputs": [],
   "source": [
    "sig1 <- numeric()\n",
    "for(i in 1:length(sig_3)){\n",
    "    test22_1 <- 0\n",
    "    for(j in 1:N){\n",
    "        X <- rnorm(n,mi_2,sqrt(sig_3[i]))\n",
    "        chi <- (n - 1) * var(X) / 1.5\n",
    "        chi_q1 <- qchisq(alf / 2, n-1)\n",
    "        chi_q2 <- qchisq(1 - alf / 2, n-1)\n",
    "        if(chi_q1< chi && chi < chi_q2){\n",
    "            test22_1 <- test22_1 + 1\n",
    "        }\n",
    "    }\n",
    "    sig1[i] <- test22_1/N\n",
    "}"
   ]
  },
  {
   "cell_type": "code",
   "execution_count": 79,
   "metadata": {
    "vscode": {
     "languageId": "r"
    }
   },
   "outputs": [
    {
     "data": {
      "text/html": [
       "<ol class=list-inline>\n",
       "\t<li>0.92</li>\n",
       "\t<li>0.933</li>\n",
       "\t<li>0.95</li>\n",
       "\t<li>0.951</li>\n",
       "\t<li>0.946</li>\n",
       "\t<li>0.927</li>\n",
       "</ol>\n"
      ],
      "text/latex": [
       "\\begin{enumerate*}\n",
       "\\item 0.92\n",
       "\\item 0.933\n",
       "\\item 0.95\n",
       "\\item 0.951\n",
       "\\item 0.946\n",
       "\\item 0.927\n",
       "\\end{enumerate*}\n"
      ],
      "text/markdown": [
       "1. 0.92\n",
       "2. 0.933\n",
       "3. 0.95\n",
       "4. 0.951\n",
       "5. 0.946\n",
       "6. 0.927\n",
       "\n",
       "\n"
      ],
      "text/plain": [
       "[1] 0.920 0.933 0.950 0.951 0.946 0.927"
      ]
     },
     "metadata": {},
     "output_type": "display_data"
    }
   ],
   "source": [
    "sig1"
   ]
  },
  {
   "cell_type": "markdown",
   "metadata": {},
   "source": [
    "moc testu"
   ]
  },
  {
   "cell_type": "code",
   "execution_count": 53,
   "metadata": {
    "vscode": {
     "languageId": "r"
    }
   },
   "outputs": [
    {
     "data": {
      "text/html": [
       "<ol class=list-inline>\n",
       "\t<li>0.073</li>\n",
       "\t<li>0.0639999999999999</li>\n",
       "\t<li>0.04</li>\n",
       "\t<li>0.055</li>\n",
       "\t<li>0.056</li>\n",
       "\t<li>0.07</li>\n",
       "</ol>\n"
      ],
      "text/latex": [
       "\\begin{enumerate*}\n",
       "\\item 0.073\n",
       "\\item 0.0639999999999999\n",
       "\\item 0.04\n",
       "\\item 0.055\n",
       "\\item 0.056\n",
       "\\item 0.07\n",
       "\\end{enumerate*}\n"
      ],
      "text/markdown": [
       "1. 0.073\n",
       "2. 0.0639999999999999\n",
       "3. 0.04\n",
       "4. 0.055\n",
       "5. 0.056\n",
       "6. 0.07\n",
       "\n",
       "\n"
      ],
      "text/plain": [
       "[1] 0.073 0.064 0.040 0.055 0.056 0.070"
      ]
     },
     "metadata": {},
     "output_type": "display_data"
    }
   ],
   "source": [
    "1-sig1"
   ]
  },
  {
   "cell_type": "markdown",
   "metadata": {},
   "source": [
    "sig>sig_0"
   ]
  },
  {
   "cell_type": "code",
   "execution_count": 80,
   "metadata": {
    "vscode": {
     "languageId": "r"
    }
   },
   "outputs": [],
   "source": [
    "sig2 <- numeric()\n",
    "for(i in 1:3){\n",
    "    test22_2 <- 0\n",
    "    for(j in 1:N){\n",
    "        X <- rnorm(n,mi,sqrt(sig_2[3+i]))\n",
    "        chi <- (n - 1) * var(X) / 1.5\n",
    "        chi_q <- qchisq(1-alf, n-1)\n",
    "        if(chi < chi_q){\n",
    "            test22_2 <- test22_2 + 1\n",
    "        }\n",
    "    }\n",
    "    sig2[i] <- test22_2/N\n",
    "}"
   ]
  },
  {
   "cell_type": "code",
   "execution_count": 81,
   "metadata": {
    "vscode": {
     "languageId": "r"
    }
   },
   "outputs": [
    {
     "data": {
      "text/html": [
       "<ol class=list-inline>\n",
       "\t<li>0.939</li>\n",
       "\t<li>0.91</li>\n",
       "\t<li>0.872</li>\n",
       "</ol>\n"
      ],
      "text/latex": [
       "\\begin{enumerate*}\n",
       "\\item 0.939\n",
       "\\item 0.91\n",
       "\\item 0.872\n",
       "\\end{enumerate*}\n"
      ],
      "text/markdown": [
       "1. 0.939\n",
       "2. 0.91\n",
       "3. 0.872\n",
       "\n",
       "\n"
      ],
      "text/plain": [
       "[1] 0.939 0.910 0.872"
      ]
     },
     "metadata": {},
     "output_type": "display_data"
    }
   ],
   "source": [
    "sig2"
   ]
  },
  {
   "cell_type": "markdown",
   "metadata": {},
   "source": [
    "moc testu"
   ]
  },
  {
   "cell_type": "code",
   "execution_count": 82,
   "metadata": {
    "vscode": {
     "languageId": "r"
    }
   },
   "outputs": [
    {
     "data": {
      "text/html": [
       "<ol class=list-inline>\n",
       "\t<li>0.0610000000000001</li>\n",
       "\t<li>0.09</li>\n",
       "\t<li>0.128</li>\n",
       "</ol>\n"
      ],
      "text/latex": [
       "\\begin{enumerate*}\n",
       "\\item 0.0610000000000001\n",
       "\\item 0.09\n",
       "\\item 0.128\n",
       "\\end{enumerate*}\n"
      ],
      "text/markdown": [
       "1. 0.0610000000000001\n",
       "2. 0.09\n",
       "3. 0.128\n",
       "\n",
       "\n"
      ],
      "text/plain": [
       "[1] 0.061 0.090 0.128"
      ]
     },
     "metadata": {},
     "output_type": "display_data"
    }
   ],
   "source": [
    "1-sig2"
   ]
  },
  {
   "cell_type": "markdown",
   "metadata": {},
   "source": [
    "sig<sig_0"
   ]
  },
  {
   "cell_type": "code",
   "execution_count": 83,
   "metadata": {
    "vscode": {
     "languageId": "r"
    }
   },
   "outputs": [],
   "source": [
    "sig3 <- numeric()\n",
    "for(i in 1:3){\n",
    "    test22_3 <- 0\n",
    "    for(j in 1:N){\n",
    "        X <- rnorm(n,mi,sqrt(sig_2[i]))\n",
    "        chi <- (n - 1) * var(X) / 1.5\n",
    "        chi_q <- qchisq(alf, n-1)\n",
    "        if(chi > chi_q){\n",
    "            test22_3 <- test22_3 + 1\n",
    "        }\n",
    "    }\n",
    "    sig3[i] <- test22_3/N\n",
    "}"
   ]
  },
  {
   "cell_type": "code",
   "execution_count": 84,
   "metadata": {
    "vscode": {
     "languageId": "r"
    }
   },
   "outputs": [
    {
     "data": {
      "text/html": [
       "<ol class=list-inline>\n",
       "\t<li>0.885</li>\n",
       "\t<li>0.926</li>\n",
       "\t<li>0.933</li>\n",
       "</ol>\n"
      ],
      "text/latex": [
       "\\begin{enumerate*}\n",
       "\\item 0.885\n",
       "\\item 0.926\n",
       "\\item 0.933\n",
       "\\end{enumerate*}\n"
      ],
      "text/markdown": [
       "1. 0.885\n",
       "2. 0.926\n",
       "3. 0.933\n",
       "\n",
       "\n"
      ],
      "text/plain": [
       "[1] 0.885 0.926 0.933"
      ]
     },
     "metadata": {},
     "output_type": "display_data"
    }
   ],
   "source": [
    "sig3"
   ]
  },
  {
   "cell_type": "markdown",
   "metadata": {},
   "source": [
    "moc testu"
   ]
  },
  {
   "cell_type": "code",
   "execution_count": 85,
   "metadata": {
    "vscode": {
     "languageId": "r"
    }
   },
   "outputs": [
    {
     "data": {
      "text/html": [
       "<ol class=list-inline>\n",
       "\t<li>0.115</li>\n",
       "\t<li>0.074</li>\n",
       "\t<li>0.0669999999999999</li>\n",
       "</ol>\n"
      ],
      "text/latex": [
       "\\begin{enumerate*}\n",
       "\\item 0.115\n",
       "\\item 0.074\n",
       "\\item 0.0669999999999999\n",
       "\\end{enumerate*}\n"
      ],
      "text/markdown": [
       "1. 0.115\n",
       "2. 0.074\n",
       "3. 0.0669999999999999\n",
       "\n",
       "\n"
      ],
      "text/plain": [
       "[1] 0.115 0.074 0.067"
      ]
     },
     "metadata": {},
     "output_type": "display_data"
    }
   ],
   "source": [
    "1-sig3"
   ]
  },
  {
   "cell_type": "code",
   "execution_count": null,
   "metadata": {
    "vscode": {
     "languageId": "r"
    }
   },
   "outputs": [],
   "source": []
  }
 ],
 "metadata": {
  "kernelspec": {
   "display_name": "R",
   "language": "R",
   "name": "ir"
  },
  "language_info": {
   "codemirror_mode": "r",
   "file_extension": ".r",
   "mimetype": "text/x-r-source",
   "name": "R",
   "pygments_lexer": "r",
   "version": "3.6.1"
  },
  "orig_nbformat": 4,
  "vscode": {
   "interpreter": {
    "hash": "8b3d8d9f83d0dd8c07a13472687ab92b02076f93e076e7251f2752c71d76a292"
   }
  }
 },
 "nbformat": 4,
 "nbformat_minor": 2
}
