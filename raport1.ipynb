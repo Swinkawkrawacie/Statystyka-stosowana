{
 "cells": [
  {
   "cell_type": "markdown",
   "metadata": {},
   "source": [
    "https://www.kaggle.com/datasets/mysarahmadbhat/lung-cancer?resource=download"
   ]
  },
  {
   "cell_type": "code",
   "execution_count": 1,
   "metadata": {
    "vscode": {
     "languageId": "r"
    }
   },
   "outputs": [],
   "source": [
    "data_set = read.csv('survey lung cancer.csv')"
   ]
  },
  {
   "cell_type": "code",
   "execution_count": 11,
   "metadata": {
    "vscode": {
     "languageId": "r"
    }
   },
   "outputs": [
    {
     "name": "stderr",
     "output_type": "stream",
     "text": [
      "also installing the dependencies 'tmvnsim', 'mnormt'\n",
      "\n"
     ]
    },
    {
     "name": "stdout",
     "output_type": "stream",
     "text": [
      "\n",
      "  There is a binary version available but the source version is later:\n",
      "      binary source needs_compilation\n",
      "psych  2.1.3  2.2.3             FALSE\n",
      "\n",
      "package 'tmvnsim' successfully unpacked and MD5 sums checked\n",
      "package 'mnormt' successfully unpacked and MD5 sums checked\n",
      "\n",
      "The downloaded binary packages are in\n",
      "\tC:\\Users\\mazur\\AppData\\Local\\Temp\\RtmpiiEJWe\\downloaded_packages\n"
     ]
    },
    {
     "name": "stderr",
     "output_type": "stream",
     "text": [
      "installing the source package 'psych'\n",
      "\n"
     ]
    }
   ],
   "source": [
    "install.packages(\"psych\")"
   ]
  },
  {
   "cell_type": "code",
   "execution_count": 12,
   "metadata": {
    "vscode": {
     "languageId": "r"
    }
   },
   "outputs": [],
   "source": [
    "library(\"psych\")\n",
    "library(repr)"
   ]
  },
  {
   "cell_type": "code",
   "execution_count": 13,
   "metadata": {
    "scrolled": true,
    "vscode": {
     "languageId": "r"
    }
   },
   "outputs": [
    {
     "data": {
      "text/html": [
       "<table>\n",
       "<thead><tr><th scope=col>GENDER</th><th scope=col>AGE</th><th scope=col>SMOKING</th><th scope=col>YELLOW_FINGERS</th><th scope=col>ANXIETY</th><th scope=col>PEER_PRESSURE</th><th scope=col>CHRONIC.DISEASE</th><th scope=col>FATIGUE</th><th scope=col>ALLERGY</th><th scope=col>WHEEZING</th><th scope=col>ALCOHOL.CONSUMING</th><th scope=col>COUGHING</th><th scope=col>SHORTNESS.OF.BREATH</th><th scope=col>SWALLOWING.DIFFICULTY</th><th scope=col>CHEST.PAIN</th><th scope=col>LUNG_CANCER</th></tr></thead>\n",
       "<tbody>\n",
       "\t<tr><td>M  </td><td>69 </td><td>1  </td><td>2  </td><td>2  </td><td>1  </td><td>1  </td><td>2  </td><td>1  </td><td>2  </td><td>2  </td><td>2  </td><td>2  </td><td>2  </td><td>2  </td><td>YES</td></tr>\n",
       "\t<tr><td>M  </td><td>74 </td><td>2  </td><td>1  </td><td>1  </td><td>1  </td><td>2  </td><td>2  </td><td>2  </td><td>1  </td><td>1  </td><td>1  </td><td>2  </td><td>2  </td><td>2  </td><td>YES</td></tr>\n",
       "\t<tr><td>F  </td><td>59 </td><td>1  </td><td>1  </td><td>1  </td><td>2  </td><td>1  </td><td>2  </td><td>1  </td><td>2  </td><td>1  </td><td>2  </td><td>2  </td><td>1  </td><td>2  </td><td>NO </td></tr>\n",
       "\t<tr><td>M  </td><td>63 </td><td>2  </td><td>2  </td><td>2  </td><td>1  </td><td>1  </td><td>1  </td><td>1  </td><td>1  </td><td>2  </td><td>1  </td><td>1  </td><td>2  </td><td>2  </td><td>NO </td></tr>\n",
       "\t<tr><td>F  </td><td>63 </td><td>1  </td><td>2  </td><td>1  </td><td>1  </td><td>1  </td><td>1  </td><td>1  </td><td>2  </td><td>1  </td><td>2  </td><td>2  </td><td>1  </td><td>1  </td><td>NO </td></tr>\n",
       "\t<tr><td>F  </td><td>75 </td><td>1  </td><td>2  </td><td>1  </td><td>1  </td><td>2  </td><td>2  </td><td>2  </td><td>2  </td><td>1  </td><td>2  </td><td>2  </td><td>1  </td><td>1  </td><td>YES</td></tr>\n",
       "\t<tr><td>M  </td><td>52 </td><td>2  </td><td>1  </td><td>1  </td><td>1  </td><td>1  </td><td>2  </td><td>1  </td><td>2  </td><td>2  </td><td>2  </td><td>2  </td><td>1  </td><td>2  </td><td>YES</td></tr>\n",
       "\t<tr><td>F  </td><td>51 </td><td>2  </td><td>2  </td><td>2  </td><td>2  </td><td>1  </td><td>2  </td><td>2  </td><td>1  </td><td>1  </td><td>1  </td><td>2  </td><td>2  </td><td>1  </td><td>YES</td></tr>\n",
       "\t<tr><td>F  </td><td>68 </td><td>2  </td><td>1  </td><td>2  </td><td>1  </td><td>1  </td><td>2  </td><td>1  </td><td>1  </td><td>1  </td><td>1  </td><td>1  </td><td>1  </td><td>1  </td><td>NO </td></tr>\n",
       "\t<tr><td>M  </td><td>53 </td><td>2  </td><td>2  </td><td>2  </td><td>2  </td><td>2  </td><td>1  </td><td>2  </td><td>1  </td><td>2  </td><td>1  </td><td>1  </td><td>2  </td><td>2  </td><td>YES</td></tr>\n",
       "\t<tr><td>F  </td><td>61 </td><td>2  </td><td>2  </td><td>2  </td><td>2  </td><td>2  </td><td>2  </td><td>1  </td><td>2  </td><td>1  </td><td>2  </td><td>2  </td><td>2  </td><td>1  </td><td>YES</td></tr>\n",
       "\t<tr><td>M  </td><td>72 </td><td>1  </td><td>1  </td><td>1  </td><td>1  </td><td>2  </td><td>2  </td><td>2  </td><td>2  </td><td>2  </td><td>2  </td><td>2  </td><td>1  </td><td>2  </td><td>YES</td></tr>\n",
       "\t<tr><td>F  </td><td>60 </td><td>2  </td><td>1  </td><td>1  </td><td>1  </td><td>1  </td><td>2  </td><td>1  </td><td>1  </td><td>1  </td><td>1  </td><td>2  </td><td>1  </td><td>1  </td><td>NO </td></tr>\n",
       "\t<tr><td>M  </td><td>58 </td><td>2  </td><td>1  </td><td>1  </td><td>1  </td><td>1  </td><td>2  </td><td>2  </td><td>2  </td><td>2  </td><td>2  </td><td>2  </td><td>1  </td><td>2  </td><td>YES</td></tr>\n",
       "\t<tr><td>M  </td><td>69 </td><td>2  </td><td>1  </td><td>1  </td><td>1  </td><td>1  </td><td>1  </td><td>2  </td><td>2  </td><td>2  </td><td>2  </td><td>1  </td><td>1  </td><td>2  </td><td>NO </td></tr>\n",
       "\t<tr><td>F  </td><td>48 </td><td>1  </td><td>2  </td><td>2  </td><td>2  </td><td>2  </td><td>2  </td><td>2  </td><td>2  </td><td>1  </td><td>2  </td><td>2  </td><td>2  </td><td>1  </td><td>YES</td></tr>\n",
       "\t<tr><td>M  </td><td>75 </td><td>2  </td><td>1  </td><td>1  </td><td>1  </td><td>2  </td><td>1  </td><td>2  </td><td>2  </td><td>2  </td><td>2  </td><td>2  </td><td>1  </td><td>2  </td><td>YES</td></tr>\n",
       "\t<tr><td>M  </td><td>57 </td><td>2  </td><td>2  </td><td>2  </td><td>2  </td><td>2  </td><td>1  </td><td>1  </td><td>1  </td><td>2  </td><td>1  </td><td>1  </td><td>2  </td><td>2  </td><td>YES</td></tr>\n",
       "\t<tr><td>F  </td><td>68 </td><td>2  </td><td>2  </td><td>2  </td><td>2  </td><td>2  </td><td>2  </td><td>1  </td><td>1  </td><td>1  </td><td>2  </td><td>2  </td><td>1  </td><td>1  </td><td>YES</td></tr>\n",
       "\t<tr><td>F  </td><td>61 </td><td>1  </td><td>1  </td><td>1  </td><td>1  </td><td>2  </td><td>2  </td><td>1  </td><td>1  </td><td>1  </td><td>1  </td><td>2  </td><td>1  </td><td>1  </td><td>NO </td></tr>\n",
       "\t<tr><td>F  </td><td>44 </td><td>2  </td><td>2  </td><td>2  </td><td>2  </td><td>2  </td><td>2  </td><td>1  </td><td>1  </td><td>1  </td><td>1  </td><td>2  </td><td>2  </td><td>1  </td><td>YES</td></tr>\n",
       "\t<tr><td>F  </td><td>64 </td><td>1  </td><td>2  </td><td>2  </td><td>2  </td><td>1  </td><td>1  </td><td>2  </td><td>2  </td><td>1  </td><td>2  </td><td>1  </td><td>2  </td><td>1  </td><td>YES</td></tr>\n",
       "\t<tr><td>F  </td><td>21 </td><td>2  </td><td>1  </td><td>1  </td><td>1  </td><td>2  </td><td>2  </td><td>2  </td><td>1  </td><td>1  </td><td>1  </td><td>2  </td><td>1  </td><td>1  </td><td>NO </td></tr>\n",
       "\t<tr><td>M  </td><td>60 </td><td>2  </td><td>1  </td><td>1  </td><td>1  </td><td>1  </td><td>2  </td><td>2  </td><td>2  </td><td>2  </td><td>2  </td><td>2  </td><td>1  </td><td>2  </td><td>YES</td></tr>\n",
       "\t<tr><td>M  </td><td>72 </td><td>2  </td><td>2  </td><td>2  </td><td>2  </td><td>2  </td><td>1  </td><td>2  </td><td>2  </td><td>2  </td><td>2  </td><td>1  </td><td>2  </td><td>2  </td><td>YES</td></tr>\n",
       "\t<tr><td>M  </td><td>65 </td><td>1  </td><td>2  </td><td>2  </td><td>1  </td><td>1  </td><td>2  </td><td>1  </td><td>2  </td><td>2  </td><td>2  </td><td>2  </td><td>2  </td><td>2  </td><td>YES</td></tr>\n",
       "\t<tr><td>F  </td><td>61 </td><td>2  </td><td>2  </td><td>2  </td><td>1  </td><td>1  </td><td>2  </td><td>2  </td><td>1  </td><td>2  </td><td>1  </td><td>2  </td><td>2  </td><td>2  </td><td>YES</td></tr>\n",
       "\t<tr><td>M  </td><td>69 </td><td>1  </td><td>1  </td><td>1  </td><td>2  </td><td>1  </td><td>2  </td><td>1  </td><td>2  </td><td>1  </td><td>2  </td><td>2  </td><td>1  </td><td>2  </td><td>NO </td></tr>\n",
       "\t<tr><td>F  </td><td>53 </td><td>2  </td><td>2  </td><td>2  </td><td>1  </td><td>2  </td><td>1  </td><td>1  </td><td>2  </td><td>2  </td><td>1  </td><td>2  </td><td>2  </td><td>2  </td><td>YES</td></tr>\n",
       "\t<tr><td>M  </td><td>55 </td><td>1  </td><td>2  </td><td>1  </td><td>1  </td><td>1  </td><td>2  </td><td>1  </td><td>2  </td><td>2  </td><td>2  </td><td>2  </td><td>1  </td><td>1  </td><td>NO </td></tr>\n",
       "\t<tr><td>...</td><td>...</td><td>...</td><td>...</td><td>...</td><td>...</td><td>...</td><td>...</td><td>...</td><td>...</td><td>...</td><td>...</td><td>...</td><td>...</td><td>...</td><td>...</td></tr>\n",
       "\t<tr><td>F  </td><td>59 </td><td>1  </td><td>2  </td><td>2  </td><td>2  </td><td>1  </td><td>1  </td><td>2  </td><td>2  </td><td>1  </td><td>2  </td><td>1  </td><td>2  </td><td>1  </td><td>YES</td></tr>\n",
       "\t<tr><td>F  </td><td>59 </td><td>2  </td><td>1  </td><td>1  </td><td>1  </td><td>2  </td><td>2  </td><td>2  </td><td>1  </td><td>1  </td><td>1  </td><td>2  </td><td>1  </td><td>1  </td><td>NO </td></tr>\n",
       "\t<tr><td>M  </td><td>55 </td><td>2  </td><td>1  </td><td>1  </td><td>1  </td><td>1  </td><td>2  </td><td>2  </td><td>1  </td><td>1  </td><td>1  </td><td>2  </td><td>1  </td><td>2  </td><td>NO </td></tr>\n",
       "\t<tr><td>M  </td><td>46 </td><td>1  </td><td>2  </td><td>2  </td><td>1  </td><td>1  </td><td>1  </td><td>1  </td><td>1  </td><td>1  </td><td>1  </td><td>1  </td><td>2  </td><td>2  </td><td>NO </td></tr>\n",
       "\t<tr><td>M  </td><td>60 </td><td>1  </td><td>2  </td><td>2  </td><td>1  </td><td>1  </td><td>2  </td><td>1  </td><td>2  </td><td>2  </td><td>2  </td><td>2  </td><td>2  </td><td>2  </td><td>YES</td></tr>\n",
       "\t<tr><td>M  </td><td>58 </td><td>2  </td><td>2  </td><td>2  </td><td>2  </td><td>2  </td><td>1  </td><td>1  </td><td>1  </td><td>2  </td><td>1  </td><td>1  </td><td>2  </td><td>2  </td><td>YES</td></tr>\n",
       "\t<tr><td>F  </td><td>58 </td><td>2  </td><td>2  </td><td>2  </td><td>2  </td><td>1  </td><td>2  </td><td>1  </td><td>1  </td><td>1  </td><td>2  </td><td>2  </td><td>2  </td><td>1  </td><td>YES</td></tr>\n",
       "\t<tr><td>F  </td><td>63 </td><td>1  </td><td>1  </td><td>1  </td><td>1  </td><td>2  </td><td>2  </td><td>1  </td><td>1  </td><td>1  </td><td>1  </td><td>2  </td><td>1  </td><td>1  </td><td>NO </td></tr>\n",
       "\t<tr><td>F  </td><td>51 </td><td>2  </td><td>2  </td><td>2  </td><td>2  </td><td>1  </td><td>2  </td><td>1  </td><td>1  </td><td>1  </td><td>1  </td><td>2  </td><td>2  </td><td>1  </td><td>YES</td></tr>\n",
       "\t<tr><td>F  </td><td>61 </td><td>1  </td><td>2  </td><td>2  </td><td>2  </td><td>1  </td><td>1  </td><td>2  </td><td>2  </td><td>1  </td><td>2  </td><td>1  </td><td>2  </td><td>1  </td><td>YES</td></tr>\n",
       "\t<tr><td>F  </td><td>61 </td><td>2  </td><td>1  </td><td>1  </td><td>1  </td><td>2  </td><td>2  </td><td>2  </td><td>1  </td><td>1  </td><td>1  </td><td>2  </td><td>1  </td><td>1  </td><td>YES</td></tr>\n",
       "\t<tr><td>M  </td><td>76 </td><td>2  </td><td>1  </td><td>1  </td><td>1  </td><td>1  </td><td>2  </td><td>2  </td><td>2  </td><td>2  </td><td>2  </td><td>2  </td><td>1  </td><td>2  </td><td>YES</td></tr>\n",
       "\t<tr><td>M  </td><td>71 </td><td>2  </td><td>2  </td><td>2  </td><td>1  </td><td>2  </td><td>1  </td><td>2  </td><td>2  </td><td>2  </td><td>2  </td><td>1  </td><td>2  </td><td>2  </td><td>YES</td></tr>\n",
       "\t<tr><td>M  </td><td>69 </td><td>1  </td><td>1  </td><td>2  </td><td>1  </td><td>1  </td><td>2  </td><td>1  </td><td>2  </td><td>2  </td><td>2  </td><td>2  </td><td>2  </td><td>1  </td><td>YES</td></tr>\n",
       "\t<tr><td>F  </td><td>56 </td><td>2  </td><td>2  </td><td>2  </td><td>1  </td><td>1  </td><td>2  </td><td>2  </td><td>1  </td><td>1  </td><td>1  </td><td>2  </td><td>1  </td><td>2  </td><td>YES</td></tr>\n",
       "\t<tr><td>M  </td><td>67 </td><td>1  </td><td>1  </td><td>1  </td><td>2  </td><td>1  </td><td>2  </td><td>1  </td><td>2  </td><td>1  </td><td>2  </td><td>2  </td><td>1  </td><td>2  </td><td>YES</td></tr>\n",
       "\t<tr><td>F  </td><td>54 </td><td>2  </td><td>2  </td><td>2  </td><td>1  </td><td>2  </td><td>1  </td><td>1  </td><td>2  </td><td>2  </td><td>1  </td><td>2  </td><td>2  </td><td>2  </td><td>YES</td></tr>\n",
       "\t<tr><td>M  </td><td>63 </td><td>1  </td><td>2  </td><td>1  </td><td>1  </td><td>1  </td><td>2  </td><td>1  </td><td>2  </td><td>2  </td><td>2  </td><td>2  </td><td>1  </td><td>1  </td><td>YES</td></tr>\n",
       "\t<tr><td>F  </td><td>47 </td><td>2  </td><td>2  </td><td>1  </td><td>2  </td><td>2  </td><td>2  </td><td>2  </td><td>2  </td><td>1  </td><td>2  </td><td>2  </td><td>1  </td><td>1  </td><td>YES</td></tr>\n",
       "\t<tr><td>M  </td><td>62 </td><td>2  </td><td>1  </td><td>2  </td><td>1  </td><td>1  </td><td>2  </td><td>1  </td><td>2  </td><td>2  </td><td>2  </td><td>2  </td><td>1  </td><td>2  </td><td>YES</td></tr>\n",
       "\t<tr><td>M  </td><td>65 </td><td>2  </td><td>2  </td><td>2  </td><td>2  </td><td>1  </td><td>2  </td><td>2  </td><td>1  </td><td>1  </td><td>1  </td><td>2  </td><td>2  </td><td>1  </td><td>YES</td></tr>\n",
       "\t<tr><td>F  </td><td>63 </td><td>2  </td><td>2  </td><td>2  </td><td>2  </td><td>2  </td><td>2  </td><td>2  </td><td>2  </td><td>1  </td><td>2  </td><td>2  </td><td>2  </td><td>2  </td><td>YES</td></tr>\n",
       "\t<tr><td>M  </td><td>64 </td><td>1  </td><td>2  </td><td>2  </td><td>2  </td><td>1  </td><td>1  </td><td>2  </td><td>1  </td><td>2  </td><td>1  </td><td>1  </td><td>2  </td><td>2  </td><td>YES</td></tr>\n",
       "\t<tr><td>F  </td><td>65 </td><td>2  </td><td>2  </td><td>2  </td><td>2  </td><td>1  </td><td>2  </td><td>1  </td><td>2  </td><td>1  </td><td>2  </td><td>2  </td><td>2  </td><td>1  </td><td>YES</td></tr>\n",
       "\t<tr><td>M  </td><td>51 </td><td>1  </td><td>2  </td><td>1  </td><td>1  </td><td>2  </td><td>2  </td><td>2  </td><td>2  </td><td>2  </td><td>2  </td><td>2  </td><td>1  </td><td>2  </td><td>YES</td></tr>\n",
       "\t<tr><td>F  </td><td>56 </td><td>1  </td><td>1  </td><td>1  </td><td>2  </td><td>2  </td><td>2  </td><td>1  </td><td>1  </td><td>2  </td><td>2  </td><td>2  </td><td>2  </td><td>1  </td><td>YES</td></tr>\n",
       "\t<tr><td>M  </td><td>70 </td><td>2  </td><td>1  </td><td>1  </td><td>1  </td><td>1  </td><td>2  </td><td>2  </td><td>2  </td><td>2  </td><td>2  </td><td>2  </td><td>1  </td><td>2  </td><td>YES</td></tr>\n",
       "\t<tr><td>M  </td><td>58 </td><td>2  </td><td>1  </td><td>1  </td><td>1  </td><td>1  </td><td>1  </td><td>2  </td><td>2  </td><td>2  </td><td>2  </td><td>1  </td><td>1  </td><td>2  </td><td>YES</td></tr>\n",
       "\t<tr><td>M  </td><td>67 </td><td>2  </td><td>1  </td><td>2  </td><td>1  </td><td>1  </td><td>2  </td><td>2  </td><td>1  </td><td>2  </td><td>2  </td><td>2  </td><td>1  </td><td>2  </td><td>YES</td></tr>\n",
       "\t<tr><td>M  </td><td>62 </td><td>1  </td><td>1  </td><td>1  </td><td>2  </td><td>1  </td><td>2  </td><td>2  </td><td>2  </td><td>2  </td><td>1  </td><td>1  </td><td>2  </td><td>1  </td><td>YES</td></tr>\n",
       "</tbody>\n",
       "</table>\n"
      ],
      "text/latex": [
       "\\begin{tabular}{r|llllllllllllllll}\n",
       " GENDER & AGE & SMOKING & YELLOW\\_FINGERS & ANXIETY & PEER\\_PRESSURE & CHRONIC.DISEASE & FATIGUE & ALLERGY & WHEEZING & ALCOHOL.CONSUMING & COUGHING & SHORTNESS.OF.BREATH & SWALLOWING.DIFFICULTY & CHEST.PAIN & LUNG\\_CANCER\\\\\n",
       "\\hline\n",
       "\t M   & 69  & 1   & 2   & 2   & 1   & 1   & 2   & 1   & 2   & 2   & 2   & 2   & 2   & 2   & YES\\\\\n",
       "\t M   & 74  & 2   & 1   & 1   & 1   & 2   & 2   & 2   & 1   & 1   & 1   & 2   & 2   & 2   & YES\\\\\n",
       "\t F   & 59  & 1   & 1   & 1   & 2   & 1   & 2   & 1   & 2   & 1   & 2   & 2   & 1   & 2   & NO \\\\\n",
       "\t M   & 63  & 2   & 2   & 2   & 1   & 1   & 1   & 1   & 1   & 2   & 1   & 1   & 2   & 2   & NO \\\\\n",
       "\t F   & 63  & 1   & 2   & 1   & 1   & 1   & 1   & 1   & 2   & 1   & 2   & 2   & 1   & 1   & NO \\\\\n",
       "\t F   & 75  & 1   & 2   & 1   & 1   & 2   & 2   & 2   & 2   & 1   & 2   & 2   & 1   & 1   & YES\\\\\n",
       "\t M   & 52  & 2   & 1   & 1   & 1   & 1   & 2   & 1   & 2   & 2   & 2   & 2   & 1   & 2   & YES\\\\\n",
       "\t F   & 51  & 2   & 2   & 2   & 2   & 1   & 2   & 2   & 1   & 1   & 1   & 2   & 2   & 1   & YES\\\\\n",
       "\t F   & 68  & 2   & 1   & 2   & 1   & 1   & 2   & 1   & 1   & 1   & 1   & 1   & 1   & 1   & NO \\\\\n",
       "\t M   & 53  & 2   & 2   & 2   & 2   & 2   & 1   & 2   & 1   & 2   & 1   & 1   & 2   & 2   & YES\\\\\n",
       "\t F   & 61  & 2   & 2   & 2   & 2   & 2   & 2   & 1   & 2   & 1   & 2   & 2   & 2   & 1   & YES\\\\\n",
       "\t M   & 72  & 1   & 1   & 1   & 1   & 2   & 2   & 2   & 2   & 2   & 2   & 2   & 1   & 2   & YES\\\\\n",
       "\t F   & 60  & 2   & 1   & 1   & 1   & 1   & 2   & 1   & 1   & 1   & 1   & 2   & 1   & 1   & NO \\\\\n",
       "\t M   & 58  & 2   & 1   & 1   & 1   & 1   & 2   & 2   & 2   & 2   & 2   & 2   & 1   & 2   & YES\\\\\n",
       "\t M   & 69  & 2   & 1   & 1   & 1   & 1   & 1   & 2   & 2   & 2   & 2   & 1   & 1   & 2   & NO \\\\\n",
       "\t F   & 48  & 1   & 2   & 2   & 2   & 2   & 2   & 2   & 2   & 1   & 2   & 2   & 2   & 1   & YES\\\\\n",
       "\t M   & 75  & 2   & 1   & 1   & 1   & 2   & 1   & 2   & 2   & 2   & 2   & 2   & 1   & 2   & YES\\\\\n",
       "\t M   & 57  & 2   & 2   & 2   & 2   & 2   & 1   & 1   & 1   & 2   & 1   & 1   & 2   & 2   & YES\\\\\n",
       "\t F   & 68  & 2   & 2   & 2   & 2   & 2   & 2   & 1   & 1   & 1   & 2   & 2   & 1   & 1   & YES\\\\\n",
       "\t F   & 61  & 1   & 1   & 1   & 1   & 2   & 2   & 1   & 1   & 1   & 1   & 2   & 1   & 1   & NO \\\\\n",
       "\t F   & 44  & 2   & 2   & 2   & 2   & 2   & 2   & 1   & 1   & 1   & 1   & 2   & 2   & 1   & YES\\\\\n",
       "\t F   & 64  & 1   & 2   & 2   & 2   & 1   & 1   & 2   & 2   & 1   & 2   & 1   & 2   & 1   & YES\\\\\n",
       "\t F   & 21  & 2   & 1   & 1   & 1   & 2   & 2   & 2   & 1   & 1   & 1   & 2   & 1   & 1   & NO \\\\\n",
       "\t M   & 60  & 2   & 1   & 1   & 1   & 1   & 2   & 2   & 2   & 2   & 2   & 2   & 1   & 2   & YES\\\\\n",
       "\t M   & 72  & 2   & 2   & 2   & 2   & 2   & 1   & 2   & 2   & 2   & 2   & 1   & 2   & 2   & YES\\\\\n",
       "\t M   & 65  & 1   & 2   & 2   & 1   & 1   & 2   & 1   & 2   & 2   & 2   & 2   & 2   & 2   & YES\\\\\n",
       "\t F   & 61  & 2   & 2   & 2   & 1   & 1   & 2   & 2   & 1   & 2   & 1   & 2   & 2   & 2   & YES\\\\\n",
       "\t M   & 69  & 1   & 1   & 1   & 2   & 1   & 2   & 1   & 2   & 1   & 2   & 2   & 1   & 2   & NO \\\\\n",
       "\t F   & 53  & 2   & 2   & 2   & 1   & 2   & 1   & 1   & 2   & 2   & 1   & 2   & 2   & 2   & YES\\\\\n",
       "\t M   & 55  & 1   & 2   & 1   & 1   & 1   & 2   & 1   & 2   & 2   & 2   & 2   & 1   & 1   & NO \\\\\n",
       "\t ... & ... & ... & ... & ... & ... & ... & ... & ... & ... & ... & ... & ... & ... & ... & ...\\\\\n",
       "\t F   & 59  & 1   & 2   & 2   & 2   & 1   & 1   & 2   & 2   & 1   & 2   & 1   & 2   & 1   & YES\\\\\n",
       "\t F   & 59  & 2   & 1   & 1   & 1   & 2   & 2   & 2   & 1   & 1   & 1   & 2   & 1   & 1   & NO \\\\\n",
       "\t M   & 55  & 2   & 1   & 1   & 1   & 1   & 2   & 2   & 1   & 1   & 1   & 2   & 1   & 2   & NO \\\\\n",
       "\t M   & 46  & 1   & 2   & 2   & 1   & 1   & 1   & 1   & 1   & 1   & 1   & 1   & 2   & 2   & NO \\\\\n",
       "\t M   & 60  & 1   & 2   & 2   & 1   & 1   & 2   & 1   & 2   & 2   & 2   & 2   & 2   & 2   & YES\\\\\n",
       "\t M   & 58  & 2   & 2   & 2   & 2   & 2   & 1   & 1   & 1   & 2   & 1   & 1   & 2   & 2   & YES\\\\\n",
       "\t F   & 58  & 2   & 2   & 2   & 2   & 1   & 2   & 1   & 1   & 1   & 2   & 2   & 2   & 1   & YES\\\\\n",
       "\t F   & 63  & 1   & 1   & 1   & 1   & 2   & 2   & 1   & 1   & 1   & 1   & 2   & 1   & 1   & NO \\\\\n",
       "\t F   & 51  & 2   & 2   & 2   & 2   & 1   & 2   & 1   & 1   & 1   & 1   & 2   & 2   & 1   & YES\\\\\n",
       "\t F   & 61  & 1   & 2   & 2   & 2   & 1   & 1   & 2   & 2   & 1   & 2   & 1   & 2   & 1   & YES\\\\\n",
       "\t F   & 61  & 2   & 1   & 1   & 1   & 2   & 2   & 2   & 1   & 1   & 1   & 2   & 1   & 1   & YES\\\\\n",
       "\t M   & 76  & 2   & 1   & 1   & 1   & 1   & 2   & 2   & 2   & 2   & 2   & 2   & 1   & 2   & YES\\\\\n",
       "\t M   & 71  & 2   & 2   & 2   & 1   & 2   & 1   & 2   & 2   & 2   & 2   & 1   & 2   & 2   & YES\\\\\n",
       "\t M   & 69  & 1   & 1   & 2   & 1   & 1   & 2   & 1   & 2   & 2   & 2   & 2   & 2   & 1   & YES\\\\\n",
       "\t F   & 56  & 2   & 2   & 2   & 1   & 1   & 2   & 2   & 1   & 1   & 1   & 2   & 1   & 2   & YES\\\\\n",
       "\t M   & 67  & 1   & 1   & 1   & 2   & 1   & 2   & 1   & 2   & 1   & 2   & 2   & 1   & 2   & YES\\\\\n",
       "\t F   & 54  & 2   & 2   & 2   & 1   & 2   & 1   & 1   & 2   & 2   & 1   & 2   & 2   & 2   & YES\\\\\n",
       "\t M   & 63  & 1   & 2   & 1   & 1   & 1   & 2   & 1   & 2   & 2   & 2   & 2   & 1   & 1   & YES\\\\\n",
       "\t F   & 47  & 2   & 2   & 1   & 2   & 2   & 2   & 2   & 2   & 1   & 2   & 2   & 1   & 1   & YES\\\\\n",
       "\t M   & 62  & 2   & 1   & 2   & 1   & 1   & 2   & 1   & 2   & 2   & 2   & 2   & 1   & 2   & YES\\\\\n",
       "\t M   & 65  & 2   & 2   & 2   & 2   & 1   & 2   & 2   & 1   & 1   & 1   & 2   & 2   & 1   & YES\\\\\n",
       "\t F   & 63  & 2   & 2   & 2   & 2   & 2   & 2   & 2   & 2   & 1   & 2   & 2   & 2   & 2   & YES\\\\\n",
       "\t M   & 64  & 1   & 2   & 2   & 2   & 1   & 1   & 2   & 1   & 2   & 1   & 1   & 2   & 2   & YES\\\\\n",
       "\t F   & 65  & 2   & 2   & 2   & 2   & 1   & 2   & 1   & 2   & 1   & 2   & 2   & 2   & 1   & YES\\\\\n",
       "\t M   & 51  & 1   & 2   & 1   & 1   & 2   & 2   & 2   & 2   & 2   & 2   & 2   & 1   & 2   & YES\\\\\n",
       "\t F   & 56  & 1   & 1   & 1   & 2   & 2   & 2   & 1   & 1   & 2   & 2   & 2   & 2   & 1   & YES\\\\\n",
       "\t M   & 70  & 2   & 1   & 1   & 1   & 1   & 2   & 2   & 2   & 2   & 2   & 2   & 1   & 2   & YES\\\\\n",
       "\t M   & 58  & 2   & 1   & 1   & 1   & 1   & 1   & 2   & 2   & 2   & 2   & 1   & 1   & 2   & YES\\\\\n",
       "\t M   & 67  & 2   & 1   & 2   & 1   & 1   & 2   & 2   & 1   & 2   & 2   & 2   & 1   & 2   & YES\\\\\n",
       "\t M   & 62  & 1   & 1   & 1   & 2   & 1   & 2   & 2   & 2   & 2   & 1   & 1   & 2   & 1   & YES\\\\\n",
       "\\end{tabular}\n"
      ],
      "text/markdown": [
       "\n",
       "| GENDER | AGE | SMOKING | YELLOW_FINGERS | ANXIETY | PEER_PRESSURE | CHRONIC.DISEASE | FATIGUE | ALLERGY | WHEEZING | ALCOHOL.CONSUMING | COUGHING | SHORTNESS.OF.BREATH | SWALLOWING.DIFFICULTY | CHEST.PAIN | LUNG_CANCER |\n",
       "|---|---|---|---|---|---|---|---|---|---|---|---|---|---|---|---|\n",
       "| M   | 69  | 1   | 2   | 2   | 1   | 1   | 2   | 1   | 2   | 2   | 2   | 2   | 2   | 2   | YES |\n",
       "| M   | 74  | 2   | 1   | 1   | 1   | 2   | 2   | 2   | 1   | 1   | 1   | 2   | 2   | 2   | YES |\n",
       "| F   | 59  | 1   | 1   | 1   | 2   | 1   | 2   | 1   | 2   | 1   | 2   | 2   | 1   | 2   | NO  |\n",
       "| M   | 63  | 2   | 2   | 2   | 1   | 1   | 1   | 1   | 1   | 2   | 1   | 1   | 2   | 2   | NO  |\n",
       "| F   | 63  | 1   | 2   | 1   | 1   | 1   | 1   | 1   | 2   | 1   | 2   | 2   | 1   | 1   | NO  |\n",
       "| F   | 75  | 1   | 2   | 1   | 1   | 2   | 2   | 2   | 2   | 1   | 2   | 2   | 1   | 1   | YES |\n",
       "| M   | 52  | 2   | 1   | 1   | 1   | 1   | 2   | 1   | 2   | 2   | 2   | 2   | 1   | 2   | YES |\n",
       "| F   | 51  | 2   | 2   | 2   | 2   | 1   | 2   | 2   | 1   | 1   | 1   | 2   | 2   | 1   | YES |\n",
       "| F   | 68  | 2   | 1   | 2   | 1   | 1   | 2   | 1   | 1   | 1   | 1   | 1   | 1   | 1   | NO  |\n",
       "| M   | 53  | 2   | 2   | 2   | 2   | 2   | 1   | 2   | 1   | 2   | 1   | 1   | 2   | 2   | YES |\n",
       "| F   | 61  | 2   | 2   | 2   | 2   | 2   | 2   | 1   | 2   | 1   | 2   | 2   | 2   | 1   | YES |\n",
       "| M   | 72  | 1   | 1   | 1   | 1   | 2   | 2   | 2   | 2   | 2   | 2   | 2   | 1   | 2   | YES |\n",
       "| F   | 60  | 2   | 1   | 1   | 1   | 1   | 2   | 1   | 1   | 1   | 1   | 2   | 1   | 1   | NO  |\n",
       "| M   | 58  | 2   | 1   | 1   | 1   | 1   | 2   | 2   | 2   | 2   | 2   | 2   | 1   | 2   | YES |\n",
       "| M   | 69  | 2   | 1   | 1   | 1   | 1   | 1   | 2   | 2   | 2   | 2   | 1   | 1   | 2   | NO  |\n",
       "| F   | 48  | 1   | 2   | 2   | 2   | 2   | 2   | 2   | 2   | 1   | 2   | 2   | 2   | 1   | YES |\n",
       "| M   | 75  | 2   | 1   | 1   | 1   | 2   | 1   | 2   | 2   | 2   | 2   | 2   | 1   | 2   | YES |\n",
       "| M   | 57  | 2   | 2   | 2   | 2   | 2   | 1   | 1   | 1   | 2   | 1   | 1   | 2   | 2   | YES |\n",
       "| F   | 68  | 2   | 2   | 2   | 2   | 2   | 2   | 1   | 1   | 1   | 2   | 2   | 1   | 1   | YES |\n",
       "| F   | 61  | 1   | 1   | 1   | 1   | 2   | 2   | 1   | 1   | 1   | 1   | 2   | 1   | 1   | NO  |\n",
       "| F   | 44  | 2   | 2   | 2   | 2   | 2   | 2   | 1   | 1   | 1   | 1   | 2   | 2   | 1   | YES |\n",
       "| F   | 64  | 1   | 2   | 2   | 2   | 1   | 1   | 2   | 2   | 1   | 2   | 1   | 2   | 1   | YES |\n",
       "| F   | 21  | 2   | 1   | 1   | 1   | 2   | 2   | 2   | 1   | 1   | 1   | 2   | 1   | 1   | NO  |\n",
       "| M   | 60  | 2   | 1   | 1   | 1   | 1   | 2   | 2   | 2   | 2   | 2   | 2   | 1   | 2   | YES |\n",
       "| M   | 72  | 2   | 2   | 2   | 2   | 2   | 1   | 2   | 2   | 2   | 2   | 1   | 2   | 2   | YES |\n",
       "| M   | 65  | 1   | 2   | 2   | 1   | 1   | 2   | 1   | 2   | 2   | 2   | 2   | 2   | 2   | YES |\n",
       "| F   | 61  | 2   | 2   | 2   | 1   | 1   | 2   | 2   | 1   | 2   | 1   | 2   | 2   | 2   | YES |\n",
       "| M   | 69  | 1   | 1   | 1   | 2   | 1   | 2   | 1   | 2   | 1   | 2   | 2   | 1   | 2   | NO  |\n",
       "| F   | 53  | 2   | 2   | 2   | 1   | 2   | 1   | 1   | 2   | 2   | 1   | 2   | 2   | 2   | YES |\n",
       "| M   | 55  | 1   | 2   | 1   | 1   | 1   | 2   | 1   | 2   | 2   | 2   | 2   | 1   | 1   | NO  |\n",
       "| ... | ... | ... | ... | ... | ... | ... | ... | ... | ... | ... | ... | ... | ... | ... | ... |\n",
       "| F   | 59  | 1   | 2   | 2   | 2   | 1   | 1   | 2   | 2   | 1   | 2   | 1   | 2   | 1   | YES |\n",
       "| F   | 59  | 2   | 1   | 1   | 1   | 2   | 2   | 2   | 1   | 1   | 1   | 2   | 1   | 1   | NO  |\n",
       "| M   | 55  | 2   | 1   | 1   | 1   | 1   | 2   | 2   | 1   | 1   | 1   | 2   | 1   | 2   | NO  |\n",
       "| M   | 46  | 1   | 2   | 2   | 1   | 1   | 1   | 1   | 1   | 1   | 1   | 1   | 2   | 2   | NO  |\n",
       "| M   | 60  | 1   | 2   | 2   | 1   | 1   | 2   | 1   | 2   | 2   | 2   | 2   | 2   | 2   | YES |\n",
       "| M   | 58  | 2   | 2   | 2   | 2   | 2   | 1   | 1   | 1   | 2   | 1   | 1   | 2   | 2   | YES |\n",
       "| F   | 58  | 2   | 2   | 2   | 2   | 1   | 2   | 1   | 1   | 1   | 2   | 2   | 2   | 1   | YES |\n",
       "| F   | 63  | 1   | 1   | 1   | 1   | 2   | 2   | 1   | 1   | 1   | 1   | 2   | 1   | 1   | NO  |\n",
       "| F   | 51  | 2   | 2   | 2   | 2   | 1   | 2   | 1   | 1   | 1   | 1   | 2   | 2   | 1   | YES |\n",
       "| F   | 61  | 1   | 2   | 2   | 2   | 1   | 1   | 2   | 2   | 1   | 2   | 1   | 2   | 1   | YES |\n",
       "| F   | 61  | 2   | 1   | 1   | 1   | 2   | 2   | 2   | 1   | 1   | 1   | 2   | 1   | 1   | YES |\n",
       "| M   | 76  | 2   | 1   | 1   | 1   | 1   | 2   | 2   | 2   | 2   | 2   | 2   | 1   | 2   | YES |\n",
       "| M   | 71  | 2   | 2   | 2   | 1   | 2   | 1   | 2   | 2   | 2   | 2   | 1   | 2   | 2   | YES |\n",
       "| M   | 69  | 1   | 1   | 2   | 1   | 1   | 2   | 1   | 2   | 2   | 2   | 2   | 2   | 1   | YES |\n",
       "| F   | 56  | 2   | 2   | 2   | 1   | 1   | 2   | 2   | 1   | 1   | 1   | 2   | 1   | 2   | YES |\n",
       "| M   | 67  | 1   | 1   | 1   | 2   | 1   | 2   | 1   | 2   | 1   | 2   | 2   | 1   | 2   | YES |\n",
       "| F   | 54  | 2   | 2   | 2   | 1   | 2   | 1   | 1   | 2   | 2   | 1   | 2   | 2   | 2   | YES |\n",
       "| M   | 63  | 1   | 2   | 1   | 1   | 1   | 2   | 1   | 2   | 2   | 2   | 2   | 1   | 1   | YES |\n",
       "| F   | 47  | 2   | 2   | 1   | 2   | 2   | 2   | 2   | 2   | 1   | 2   | 2   | 1   | 1   | YES |\n",
       "| M   | 62  | 2   | 1   | 2   | 1   | 1   | 2   | 1   | 2   | 2   | 2   | 2   | 1   | 2   | YES |\n",
       "| M   | 65  | 2   | 2   | 2   | 2   | 1   | 2   | 2   | 1   | 1   | 1   | 2   | 2   | 1   | YES |\n",
       "| F   | 63  | 2   | 2   | 2   | 2   | 2   | 2   | 2   | 2   | 1   | 2   | 2   | 2   | 2   | YES |\n",
       "| M   | 64  | 1   | 2   | 2   | 2   | 1   | 1   | 2   | 1   | 2   | 1   | 1   | 2   | 2   | YES |\n",
       "| F   | 65  | 2   | 2   | 2   | 2   | 1   | 2   | 1   | 2   | 1   | 2   | 2   | 2   | 1   | YES |\n",
       "| M   | 51  | 1   | 2   | 1   | 1   | 2   | 2   | 2   | 2   | 2   | 2   | 2   | 1   | 2   | YES |\n",
       "| F   | 56  | 1   | 1   | 1   | 2   | 2   | 2   | 1   | 1   | 2   | 2   | 2   | 2   | 1   | YES |\n",
       "| M   | 70  | 2   | 1   | 1   | 1   | 1   | 2   | 2   | 2   | 2   | 2   | 2   | 1   | 2   | YES |\n",
       "| M   | 58  | 2   | 1   | 1   | 1   | 1   | 1   | 2   | 2   | 2   | 2   | 1   | 1   | 2   | YES |\n",
       "| M   | 67  | 2   | 1   | 2   | 1   | 1   | 2   | 2   | 1   | 2   | 2   | 2   | 1   | 2   | YES |\n",
       "| M   | 62  | 1   | 1   | 1   | 2   | 1   | 2   | 2   | 2   | 2   | 1   | 1   | 2   | 1   | YES |\n",
       "\n"
      ],
      "text/plain": [
       "    GENDER AGE SMOKING YELLOW_FINGERS ANXIETY PEER_PRESSURE CHRONIC.DISEASE\n",
       "1   M      69  1       2              2       1             1              \n",
       "2   M      74  2       1              1       1             2              \n",
       "3   F      59  1       1              1       2             1              \n",
       "4   M      63  2       2              2       1             1              \n",
       "5   F      63  1       2              1       1             1              \n",
       "6   F      75  1       2              1       1             2              \n",
       "7   M      52  2       1              1       1             1              \n",
       "8   F      51  2       2              2       2             1              \n",
       "9   F      68  2       1              2       1             1              \n",
       "10  M      53  2       2              2       2             2              \n",
       "11  F      61  2       2              2       2             2              \n",
       "12  M      72  1       1              1       1             2              \n",
       "13  F      60  2       1              1       1             1              \n",
       "14  M      58  2       1              1       1             1              \n",
       "15  M      69  2       1              1       1             1              \n",
       "16  F      48  1       2              2       2             2              \n",
       "17  M      75  2       1              1       1             2              \n",
       "18  M      57  2       2              2       2             2              \n",
       "19  F      68  2       2              2       2             2              \n",
       "20  F      61  1       1              1       1             2              \n",
       "21  F      44  2       2              2       2             2              \n",
       "22  F      64  1       2              2       2             1              \n",
       "23  F      21  2       1              1       1             2              \n",
       "24  M      60  2       1              1       1             1              \n",
       "25  M      72  2       2              2       2             2              \n",
       "26  M      65  1       2              2       1             1              \n",
       "27  F      61  2       2              2       1             1              \n",
       "28  M      69  1       1              1       2             1              \n",
       "29  F      53  2       2              2       1             2              \n",
       "30  M      55  1       2              1       1             1              \n",
       "... ...    ... ...     ...            ...     ...           ...            \n",
       "280 F      59  1       2              2       2             1              \n",
       "281 F      59  2       1              1       1             2              \n",
       "282 M      55  2       1              1       1             1              \n",
       "283 M      46  1       2              2       1             1              \n",
       "284 M      60  1       2              2       1             1              \n",
       "285 M      58  2       2              2       2             2              \n",
       "286 F      58  2       2              2       2             1              \n",
       "287 F      63  1       1              1       1             2              \n",
       "288 F      51  2       2              2       2             1              \n",
       "289 F      61  1       2              2       2             1              \n",
       "290 F      61  2       1              1       1             2              \n",
       "291 M      76  2       1              1       1             1              \n",
       "292 M      71  2       2              2       1             2              \n",
       "293 M      69  1       1              2       1             1              \n",
       "294 F      56  2       2              2       1             1              \n",
       "295 M      67  1       1              1       2             1              \n",
       "296 F      54  2       2              2       1             2              \n",
       "297 M      63  1       2              1       1             1              \n",
       "298 F      47  2       2              1       2             2              \n",
       "299 M      62  2       1              2       1             1              \n",
       "300 M      65  2       2              2       2             1              \n",
       "301 F      63  2       2              2       2             2              \n",
       "302 M      64  1       2              2       2             1              \n",
       "303 F      65  2       2              2       2             1              \n",
       "304 M      51  1       2              1       1             2              \n",
       "305 F      56  1       1              1       2             2              \n",
       "306 M      70  2       1              1       1             1              \n",
       "307 M      58  2       1              1       1             1              \n",
       "308 M      67  2       1              2       1             1              \n",
       "309 M      62  1       1              1       2             1              \n",
       "    FATIGUE ALLERGY WHEEZING ALCOHOL.CONSUMING COUGHING SHORTNESS.OF.BREATH\n",
       "1   2       1       2        2                 2        2                  \n",
       "2   2       2       1        1                 1        2                  \n",
       "3   2       1       2        1                 2        2                  \n",
       "4   1       1       1        2                 1        1                  \n",
       "5   1       1       2        1                 2        2                  \n",
       "6   2       2       2        1                 2        2                  \n",
       "7   2       1       2        2                 2        2                  \n",
       "8   2       2       1        1                 1        2                  \n",
       "9   2       1       1        1                 1        1                  \n",
       "10  1       2       1        2                 1        1                  \n",
       "11  2       1       2        1                 2        2                  \n",
       "12  2       2       2        2                 2        2                  \n",
       "13  2       1       1        1                 1        2                  \n",
       "14  2       2       2        2                 2        2                  \n",
       "15  1       2       2        2                 2        1                  \n",
       "16  2       2       2        1                 2        2                  \n",
       "17  1       2       2        2                 2        2                  \n",
       "18  1       1       1        2                 1        1                  \n",
       "19  2       1       1        1                 2        2                  \n",
       "20  2       1       1        1                 1        2                  \n",
       "21  2       1       1        1                 1        2                  \n",
       "22  1       2       2        1                 2        1                  \n",
       "23  2       2       1        1                 1        2                  \n",
       "24  2       2       2        2                 2        2                  \n",
       "25  1       2       2        2                 2        1                  \n",
       "26  2       1       2        2                 2        2                  \n",
       "27  2       2       1        2                 1        2                  \n",
       "28  2       1       2        1                 2        2                  \n",
       "29  1       1       2        2                 1        2                  \n",
       "30  2       1       2        2                 2        2                  \n",
       "... ...     ...     ...      ...               ...      ...                \n",
       "280 1       2       2        1                 2        1                  \n",
       "281 2       2       1        1                 1        2                  \n",
       "282 2       2       1        1                 1        2                  \n",
       "283 1       1       1        1                 1        1                  \n",
       "284 2       1       2        2                 2        2                  \n",
       "285 1       1       1        2                 1        1                  \n",
       "286 2       1       1        1                 2        2                  \n",
       "287 2       1       1        1                 1        2                  \n",
       "288 2       1       1        1                 1        2                  \n",
       "289 1       2       2        1                 2        1                  \n",
       "290 2       2       1        1                 1        2                  \n",
       "291 2       2       2        2                 2        2                  \n",
       "292 1       2       2        2                 2        1                  \n",
       "293 2       1       2        2                 2        2                  \n",
       "294 2       2       1        1                 1        2                  \n",
       "295 2       1       2        1                 2        2                  \n",
       "296 1       1       2        2                 1        2                  \n",
       "297 2       1       2        2                 2        2                  \n",
       "298 2       2       2        1                 2        2                  \n",
       "299 2       1       2        2                 2        2                  \n",
       "300 2       2       1        1                 1        2                  \n",
       "301 2       2       2        1                 2        2                  \n",
       "302 1       2       1        2                 1        1                  \n",
       "303 2       1       2        1                 2        2                  \n",
       "304 2       2       2        2                 2        2                  \n",
       "305 2       1       1        2                 2        2                  \n",
       "306 2       2       2        2                 2        2                  \n",
       "307 1       2       2        2                 2        1                  \n",
       "308 2       2       1        2                 2        2                  \n",
       "309 2       2       2        2                 1        1                  \n",
       "    SWALLOWING.DIFFICULTY CHEST.PAIN LUNG_CANCER\n",
       "1   2                     2          YES        \n",
       "2   2                     2          YES        \n",
       "3   1                     2          NO         \n",
       "4   2                     2          NO         \n",
       "5   1                     1          NO         \n",
       "6   1                     1          YES        \n",
       "7   1                     2          YES        \n",
       "8   2                     1          YES        \n",
       "9   1                     1          NO         \n",
       "10  2                     2          YES        \n",
       "11  2                     1          YES        \n",
       "12  1                     2          YES        \n",
       "13  1                     1          NO         \n",
       "14  1                     2          YES        \n",
       "15  1                     2          NO         \n",
       "16  2                     1          YES        \n",
       "17  1                     2          YES        \n",
       "18  2                     2          YES        \n",
       "19  1                     1          YES        \n",
       "20  1                     1          NO         \n",
       "21  2                     1          YES        \n",
       "22  2                     1          YES        \n",
       "23  1                     1          NO         \n",
       "24  1                     2          YES        \n",
       "25  2                     2          YES        \n",
       "26  2                     2          YES        \n",
       "27  2                     2          YES        \n",
       "28  1                     2          NO         \n",
       "29  2                     2          YES        \n",
       "30  1                     1          NO         \n",
       "... ...                   ...        ...        \n",
       "280 2                     1          YES        \n",
       "281 1                     1          NO         \n",
       "282 1                     2          NO         \n",
       "283 2                     2          NO         \n",
       "284 2                     2          YES        \n",
       "285 2                     2          YES        \n",
       "286 2                     1          YES        \n",
       "287 1                     1          NO         \n",
       "288 2                     1          YES        \n",
       "289 2                     1          YES        \n",
       "290 1                     1          YES        \n",
       "291 1                     2          YES        \n",
       "292 2                     2          YES        \n",
       "293 2                     1          YES        \n",
       "294 1                     2          YES        \n",
       "295 1                     2          YES        \n",
       "296 2                     2          YES        \n",
       "297 1                     1          YES        \n",
       "298 1                     1          YES        \n",
       "299 1                     2          YES        \n",
       "300 2                     1          YES        \n",
       "301 2                     2          YES        \n",
       "302 2                     2          YES        \n",
       "303 2                     1          YES        \n",
       "304 1                     2          YES        \n",
       "305 2                     1          YES        \n",
       "306 1                     2          YES        \n",
       "307 1                     2          YES        \n",
       "308 1                     2          YES        \n",
       "309 2                     1          YES        "
      ]
     },
     "metadata": {},
     "output_type": "display_data"
    }
   ],
   "source": [
    "data_set"
   ]
  },
  {
   "cell_type": "code",
   "execution_count": 15,
   "metadata": {
    "vscode": {
     "languageId": "r"
    }
   },
   "outputs": [
    {
     "data": {
      "text/plain": [
       " GENDER       AGE           SMOKING      YELLOW_FINGERS     ANXIETY     \n",
       " F:125   Min.   :38.00   Min.   :1.000   Min.   :1.000   Min.   :1.000  \n",
       " M:145   1st Qu.:58.00   1st Qu.:1.000   1st Qu.:1.000   1st Qu.:1.000  \n",
       "         Median :62.50   Median :2.000   Median :2.000   Median :2.000  \n",
       "         Mean   :62.95   Mean   :1.574   Mean   :1.604   Mean   :1.526  \n",
       "         3rd Qu.:69.00   3rd Qu.:2.000   3rd Qu.:2.000   3rd Qu.:2.000  \n",
       "         Max.   :81.00   Max.   :2.000   Max.   :2.000   Max.   :2.000  \n",
       " PEER_PRESSURE   CHRONIC.DISEASE    FATIGUE       ALLERGY         WHEEZING    \n",
       " Min.   :1.000   Min.   :1.000   Min.   :1.0   Min.   :1.000   Min.   :1.000  \n",
       " 1st Qu.:1.000   1st Qu.:1.000   1st Qu.:1.0   1st Qu.:1.000   1st Qu.:1.000  \n",
       " Median :2.000   Median :2.000   Median :2.0   Median :2.000   Median :2.000  \n",
       " Mean   :1.537   Mean   :1.526   Mean   :1.7   Mean   :1.619   Mean   :1.604  \n",
       " 3rd Qu.:2.000   3rd Qu.:2.000   3rd Qu.:2.0   3rd Qu.:2.000   3rd Qu.:2.000  \n",
       " Max.   :2.000   Max.   :2.000   Max.   :2.0   Max.   :2.000   Max.   :2.000  \n",
       " ALCOHOL.CONSUMING    COUGHING     SHORTNESS.OF.BREATH SWALLOWING.DIFFICULTY\n",
       " Min.   :1.000     Min.   :1.000   Min.   :1.000       Min.   :1.000        \n",
       " 1st Qu.:1.000     1st Qu.:1.000   1st Qu.:1.000       1st Qu.:1.000        \n",
       " Median :2.000     Median :2.000   Median :2.000       Median :2.000        \n",
       " Mean   :1.611     Mean   :1.626   Mean   :1.652       Mean   :1.519        \n",
       " 3rd Qu.:2.000     3rd Qu.:2.000   3rd Qu.:2.000       3rd Qu.:2.000        \n",
       " Max.   :2.000     Max.   :2.000   Max.   :2.000       Max.   :2.000        \n",
       "   CHEST.PAIN    LUNG_CANCER\n",
       " Min.   :1.000   NO :  0    \n",
       " 1st Qu.:1.000   YES:270    \n",
       " Median :2.000              \n",
       " Mean   :1.593              \n",
       " 3rd Qu.:2.000              \n",
       " Max.   :2.000              "
      ]
     },
     "metadata": {},
     "output_type": "display_data"
    }
   ],
   "source": [
    "data_set <- subset(data_set, LUNG_CANCER == \"YES\")\n",
    "summary(data_set)"
   ]
  },
  {
   "cell_type": "markdown",
   "metadata": {},
   "source": [
    "**Średnia arytmetyczna**"
   ]
  },
  {
   "cell_type": "code",
   "execution_count": 16,
   "metadata": {
    "vscode": {
     "languageId": "r"
    }
   },
   "outputs": [
    {
     "data": {
      "text/html": [
       "<dl class=dl-horizontal>\n",
       "\t<dt>F</dt>\n",
       "\t\t<dd>62.784</dd>\n",
       "\t<dt>M</dt>\n",
       "\t\t<dd>63.0965517241379</dd>\n",
       "</dl>\n"
      ],
      "text/latex": [
       "\\begin{description*}\n",
       "\\item[F] 62.784\n",
       "\\item[M] 63.0965517241379\n",
       "\\end{description*}\n"
      ],
      "text/markdown": [
       "F\n",
       ":   62.784M\n",
       ":   63.0965517241379\n",
       "\n"
      ],
      "text/plain": [
       "       F        M \n",
       "62.78400 63.09655 "
      ]
     },
     "metadata": {},
     "output_type": "display_data"
    }
   ],
   "source": [
    "tapply(data_set$AGE, data_set$GENDER, mean)"
   ]
  },
  {
   "cell_type": "code",
   "execution_count": 17,
   "metadata": {
    "vscode": {
     "languageId": "r"
    }
   },
   "outputs": [
    {
     "data": {
      "text/html": [
       "62.9518518518518"
      ],
      "text/latex": [
       "62.9518518518518"
      ],
      "text/markdown": [
       "62.9518518518518"
      ],
      "text/plain": [
       "[1] 62.95185"
      ]
     },
     "metadata": {},
     "output_type": "display_data"
    }
   ],
   "source": [
    "mean(data_set$AGE)"
   ]
  },
  {
   "cell_type": "markdown",
   "metadata": {},
   "source": [
    "**Średnia harmoniczna**"
   ]
  },
  {
   "cell_type": "code",
   "execution_count": 18,
   "metadata": {
    "vscode": {
     "languageId": "r"
    }
   },
   "outputs": [
    {
     "data": {
      "text/html": [
       "<dl class=dl-horizontal>\n",
       "\t<dt>F</dt>\n",
       "\t\t<dd>61.5830329383075</dd>\n",
       "\t<dt>M</dt>\n",
       "\t\t<dd>62.1738826735992</dd>\n",
       "</dl>\n"
      ],
      "text/latex": [
       "\\begin{description*}\n",
       "\\item[F] 61.5830329383075\n",
       "\\item[M] 62.1738826735992\n",
       "\\end{description*}\n"
      ],
      "text/markdown": [
       "F\n",
       ":   61.5830329383075M\n",
       ":   62.1738826735992\n",
       "\n"
      ],
      "text/plain": [
       "       F        M \n",
       "61.58303 62.17388 "
      ]
     },
     "metadata": {},
     "output_type": "display_data"
    }
   ],
   "source": [
    "tapply(data_set$AGE, data_set$GENDER, harmonic.mean)"
   ]
  },
  {
   "cell_type": "code",
   "execution_count": 19,
   "metadata": {
    "vscode": {
     "languageId": "r"
    }
   },
   "outputs": [
    {
     "data": {
      "text/html": [
       "61.8989379322753"
      ],
      "text/latex": [
       "61.8989379322753"
      ],
      "text/markdown": [
       "61.8989379322753"
      ],
      "text/plain": [
       "[1] 61.89894"
      ]
     },
     "metadata": {},
     "output_type": "display_data"
    }
   ],
   "source": [
    "harmonic.mean(data_set$AGE)"
   ]
  },
  {
   "cell_type": "markdown",
   "metadata": {},
   "source": [
    "**Średnia geometryczna**"
   ]
  },
  {
   "cell_type": "code",
   "execution_count": 20,
   "metadata": {
    "vscode": {
     "languageId": "r"
    }
   },
   "outputs": [
    {
     "data": {
      "text/html": [
       "<dl class=dl-horizontal>\n",
       "\t<dt>F</dt>\n",
       "\t\t<dd>62.1920542317242</dd>\n",
       "\t<dt>M</dt>\n",
       "\t\t<dd>62.6445929419632</dd>\n",
       "</dl>\n"
      ],
      "text/latex": [
       "\\begin{description*}\n",
       "\\item[F] 62.1920542317242\n",
       "\\item[M] 62.6445929419632\n",
       "\\end{description*}\n"
      ],
      "text/markdown": [
       "F\n",
       ":   62.1920542317242M\n",
       ":   62.6445929419632\n",
       "\n"
      ],
      "text/plain": [
       "       F        M \n",
       "62.19205 62.64459 "
      ]
     },
     "metadata": {},
     "output_type": "display_data"
    }
   ],
   "source": [
    "tapply(data_set$AGE, data_set$GENDER, geometric.mean)"
   ]
  },
  {
   "cell_type": "code",
   "execution_count": 21,
   "metadata": {
    "vscode": {
     "languageId": "r"
    }
   },
   "outputs": [
    {
     "data": {
      "text/html": [
       "62.4346763737523"
      ],
      "text/latex": [
       "62.4346763737523"
      ],
      "text/markdown": [
       "62.4346763737523"
      ],
      "text/plain": [
       "[1] 62.43468"
      ]
     },
     "metadata": {},
     "output_type": "display_data"
    }
   ],
   "source": [
    "geometric.mean(data_set$AGE)"
   ]
  },
  {
   "cell_type": "markdown",
   "metadata": {},
   "source": [
    "**Średnia ucinana**"
   ]
  },
  {
   "cell_type": "code",
   "execution_count": 22,
   "metadata": {
    "vscode": {
     "languageId": "r"
    }
   },
   "outputs": [],
   "source": [
    "su <- function(X, k=50) {\n",
    "  P <- sort(X)\n",
    "  return(1 / (length(P) - 2 * k) * sum(P[(k + 1):(length(P) - k)]))\n",
    "}"
   ]
  },
  {
   "cell_type": "code",
   "execution_count": 23,
   "metadata": {
    "scrolled": true,
    "vscode": {
     "languageId": "r"
    }
   },
   "outputs": [
    {
     "data": {
      "text/html": [
       "<dl class=dl-horizontal>\n",
       "\t<dt>F</dt>\n",
       "\t\t<dd>62.12</dd>\n",
       "\t<dt>M</dt>\n",
       "\t\t<dd>62.8222222222222</dd>\n",
       "</dl>\n"
      ],
      "text/latex": [
       "\\begin{description*}\n",
       "\\item[F] 62.12\n",
       "\\item[M] 62.8222222222222\n",
       "\\end{description*}\n"
      ],
      "text/markdown": [
       "F\n",
       ":   62.12M\n",
       ":   62.8222222222222\n",
       "\n"
      ],
      "text/plain": [
       "       F        M \n",
       "62.12000 62.82222 "
      ]
     },
     "metadata": {},
     "output_type": "display_data"
    }
   ],
   "source": [
    "tapply(data_set$AGE, data_set$GENDER, su)"
   ]
  },
  {
   "cell_type": "code",
   "execution_count": 24,
   "metadata": {
    "vscode": {
     "languageId": "r"
    }
   },
   "outputs": [
    {
     "data": {
      "text/html": [
       "62.8823529411765"
      ],
      "text/latex": [
       "62.8823529411765"
      ],
      "text/markdown": [
       "62.8823529411765"
      ],
      "text/plain": [
       "[1] 62.88235"
      ]
     },
     "metadata": {},
     "output_type": "display_data"
    }
   ],
   "source": [
    "su(data_set$AGE)"
   ]
  },
  {
   "cell_type": "code",
   "execution_count": 25,
   "metadata": {
    "vscode": {
     "languageId": "r"
    }
   },
   "outputs": [
    {
     "data": {
      "image/png": "[encoded data removed]",
      "text/plain": [
       "plot without title"
      ]
     },
     "metadata": {},
     "output_type": "display_data"
    }
   ],
   "source": [
    "k1 <- seq(0, length(data_set$AGE) / 2 - 1, 1)\n",
    "k2 <- numeric()\n",
    "for(t in 1:length(k1)) {\n",
    "  k2[t] <- su(data_set$AGE, k1[t])\n",
    "}\n",
    "options(repr.plot.width = 6, repr.plot.height = 5)\n",
    "plot(k1, k2)\n",
    "lines(k1, rep(mean(data_set$AGE), length(k1)), col = \"green\")"
   ]
  },
  {
   "cell_type": "markdown",
   "metadata": {},
   "source": [
    "**Średnia windsorowska**"
   ]
  },
  {
   "cell_type": "code",
   "execution_count": 26,
   "metadata": {
    "vscode": {
     "languageId": "r"
    }
   },
   "outputs": [],
   "source": [
    "sw <- function(X, k=50) {\n",
    "  P <- sort(X)\n",
    "  return(1 / length(P) * ((k + 1) * P[k + 1] + sum(P[(k + 2):(length(P) - k - 1)]) + (k + 1) * P[length(P) - k]))\n",
    "}"
   ]
  },
  {
   "cell_type": "code",
   "execution_count": 27,
   "metadata": {
    "vscode": {
     "languageId": "r"
    }
   },
   "outputs": [
    {
     "data": {
      "text/html": [
       "<dl class=dl-horizontal>\n",
       "\t<dt>F</dt>\n",
       "\t\t<dd>62.424</dd>\n",
       "\t<dt>M</dt>\n",
       "\t\t<dd>62.9448275862069</dd>\n",
       "</dl>\n"
      ],
      "text/latex": [
       "\\begin{description*}\n",
       "\\item[F] 62.424\n",
       "\\item[M] 62.9448275862069\n",
       "\\end{description*}\n"
      ],
      "text/markdown": [
       "F\n",
       ":   62.424M\n",
       ":   62.9448275862069\n",
       "\n"
      ],
      "text/plain": [
       "       F        M \n",
       "62.42400 62.94483 "
      ]
     },
     "metadata": {},
     "output_type": "display_data"
    }
   ],
   "source": [
    "tapply(data_set$AGE, data_set$GENDER, sw)"
   ]
  },
  {
   "cell_type": "code",
   "execution_count": 28,
   "metadata": {
    "vscode": {
     "languageId": "r"
    }
   },
   "outputs": [
    {
     "data": {
      "text/html": [
       "63.1111111111111"
      ],
      "text/latex": [
       "63.1111111111111"
      ],
      "text/markdown": [
       "63.1111111111111"
      ],
      "text/plain": [
       "[1] 63.11111"
      ]
     },
     "metadata": {},
     "output_type": "display_data"
    }
   ],
   "source": [
    "sw(data_set$AGE)"
   ]
  },
  {
   "cell_type": "code",
   "execution_count": 29,
   "metadata": {
    "vscode": {
     "languageId": "r"
    }
   },
   "outputs": [
    {
     "data": {
      "image/png": "[encoded data removed]",
      "text/plain": [
       "plot without title"
      ]
     },
     "metadata": {},
     "output_type": "display_data"
    }
   ],
   "source": [
    "k1 <- seq(0, length(data_set$AGE) / 2 - 2, 1)\n",
    "k2 <- numeric()\n",
    "for(t in 1:length(k1)) {\n",
    "  k2[t] <- sw(data_set$AGE, k1[t])\n",
    "}\n",
    "plot(k1, k2)\n",
    "lines(k1, rep(mean(data_set$AGE), length(k1)), col = \"green\")"
   ]
  },
  {
   "cell_type": "markdown",
   "metadata": {},
   "source": [
    "**Mediana**"
   ]
  },
  {
   "cell_type": "code",
   "execution_count": 30,
   "metadata": {
    "vscode": {
     "languageId": "r"
    }
   },
   "outputs": [
    {
     "data": {
      "text/html": [
       "<dl class=dl-horizontal>\n",
       "\t<dt>F</dt>\n",
       "\t\t<dd>62</dd>\n",
       "\t<dt>M</dt>\n",
       "\t\t<dd>63</dd>\n",
       "</dl>\n"
      ],
      "text/latex": [
       "\\begin{description*}\n",
       "\\item[F] 62\n",
       "\\item[M] 63\n",
       "\\end{description*}\n"
      ],
      "text/markdown": [
       "F\n",
       ":   62M\n",
       ":   63\n",
       "\n"
      ],
      "text/plain": [
       " F  M \n",
       "62 63 "
      ]
     },
     "metadata": {},
     "output_type": "display_data"
    }
   ],
   "source": [
    "tapply(data_set$AGE, data_set$GENDER, median)"
   ]
  },
  {
   "cell_type": "code",
   "execution_count": 31,
   "metadata": {
    "vscode": {
     "languageId": "r"
    }
   },
   "outputs": [
    {
     "data": {
      "text/html": [
       "62.5"
      ],
      "text/latex": [
       "62.5"
      ],
      "text/markdown": [
       "62.5"
      ],
      "text/plain": [
       "[1] 62.5"
      ]
     },
     "metadata": {},
     "output_type": "display_data"
    }
   ],
   "source": [
    "median(data_set$AGE)"
   ]
  },
  {
   "cell_type": "markdown",
   "metadata": {},
   "source": [
    "**Histogram**"
   ]
  },
  {
   "cell_type": "code",
   "execution_count": 35,
   "metadata": {
    "vscode": {
     "languageId": "r"
    }
   },
   "outputs": [
    {
     "data": {
      "image/png": "[encoded data removed]",
      "text/plain": [
       "Plot with title \"Histogram of age\""
      ]
     },
     "metadata": {},
     "output_type": "display_data"
    }
   ],
   "source": [
    "hist(data_set$AGE, \n",
    "    breaks = seq(min(data_set$AGE), max(data_set$AGE), length.out = 21),\n",
    "    col = \"lightpink\", xlab = \"Age\", main = \"Histogram of age\")\n",
    "f <- density(data_set$AGE)\n",
    "lines(f$x, f$y, col = \"green\")\n",
    "legend(40, 30, legend = \"density\", col = \"green\", lty = 1, cex = 0.8)"
   ]
  },
  {
   "cell_type": "code",
   "execution_count": 37,
   "metadata": {
    "vscode": {
     "languageId": "r"
    }
   },
   "outputs": [
    {
     "data": {
      "image/png": "[encoded data removed]",
      "text/plain": [
       "Plot with title \"Histogram of age\""
      ]
     },
     "metadata": {},
     "output_type": "display_data"
    }
   ],
   "source": [
    "hist(data_set$AGE,\n",
    "    breaks = seq(min(data_set$AGE), max(data_set$AGE), length.out = 21),\n",
    "    col = \"lightpink\", freq = FALSE, xlab = \"Age\", main = \"Histogram of age\")\n",
    "f <- density(data_set$AGE)\n",
    "lines(f$x, f$y, col = \"green\")\n",
    "legend(40, 0.05, legend = \"density\", col = \"green\", lty = 1, cex = 0.8)"
   ]
  },
  {
   "cell_type": "code",
   "execution_count": 38,
   "metadata": {
    "vscode": {
     "languageId": "r"
    }
   },
   "outputs": [
    {
     "data": {
      "image/png": "[encoded data removed]",
      "text/plain": [
       "Plot with title \"Histogram of age (women)\""
      ]
     },
     "metadata": {},
     "output_type": "display_data"
    }
   ],
   "source": [
    "women <- subset(data_set, GENDER == \"F\")\n",
    "hist(women$AGE,\n",
    "    breaks = seq(min(women$AGE), max(women$AGE), length.out = 21),\n",
    "    col = \"lightpink\", freq = FALSE, xlab = \"Age\",\n",
    "    main = \"Histogram of age (women)\")\n",
    "f <- density(women$AGE)\n",
    "lines(f$x, f$y, col = \"green\")\n",
    "legend(40, 0.06, legend = \"density\", col = \"green\", lty = 1, cex = 0.8)"
   ]
  },
  {
   "cell_type": "code",
   "execution_count": 41,
   "metadata": {
    "vscode": {
     "languageId": "r"
    }
   },
   "outputs": [
    {
     "data": {
      "image/png": "[encoded data removed]",
      "text/plain": [
       "Plot with title \"Histogram of age (men)\""
      ]
     },
     "metadata": {},
     "output_type": "display_data"
    }
   ],
   "source": [
    "men <- subset(data_set, GENDER == \"M\")\n",
    "hist(men$AGE, breaks = seq(min(men$AGE), max(men$AGE), length.out = 21),\n",
    "    col = \"pink\", freq = FALSE, xlab = \"Age\", main = \"Histogram of age (men)\")\n",
    "f <- density(men$AGE)\n",
    "lines(f$x, f$y, col = \"green\")\n",
    "legend(40, 0.06, legend = \"density\", col = \"green\", lty = 1, cex = 0.8)"
   ]
  },
  {
   "cell_type": "markdown",
   "metadata": {},
   "source": [
    "Boxplot"
   ]
  },
  {
   "cell_type": "code",
   "execution_count": 42,
   "metadata": {
    "vscode": {
     "languageId": "r"
    }
   },
   "outputs": [
    {
     "data": {
      "image/png": "[encoded data removed]",
      "text/plain": [
       "plot without title"
      ]
     },
     "metadata": {},
     "output_type": "display_data"
    }
   ],
   "source": [
    "boxplot(data_set$AGE, col = \"aquamarine\", border = \"violetred4\")"
   ]
  },
  {
   "cell_type": "code",
   "execution_count": 43,
   "metadata": {
    "scrolled": false,
    "vscode": {
     "languageId": "r"
    }
   },
   "outputs": [
    {
     "data": {
      "image/png": "[encoded data removed]",
      "text/plain": [
       "plot without title"
      ]
     },
     "metadata": {},
     "output_type": "display_data"
    }
   ],
   "source": [
    "boxplot(women$AGE, men$AGE, col = \"aquamarine\",\n",
    "    border = \"violetred4\", names = c(\"women\", \"men\"))\n",
    "k <- seq(0, 5, 0.1)\n",
    "#lines(k, rep(mean(data_set$AGE), length(k)))"
   ]
  },
  {
   "cell_type": "code",
   "execution_count": 44,
   "metadata": {
    "vscode": {
     "languageId": "r"
    }
   },
   "outputs": [],
   "source": [
    "sm_women <- subset(women, SMOKING > 1)\n",
    "non_sm_women <- subset(women, SMOKING < 2)\n",
    "sm_men <- subset(men, SMOKING > 1)\n",
    "non_sm_men <- subset(men, SMOKING < 2)"
   ]
  },
  {
   "cell_type": "code",
   "execution_count": 45,
   "metadata": {
    "vscode": {
     "languageId": "r"
    }
   },
   "outputs": [
    {
     "data": {
      "text/html": [
       "<strong>png:</strong> 2"
      ],
      "text/latex": [
       "\\textbf{png:} 2"
      ],
      "text/markdown": [
       "**png:** 2"
      ],
      "text/plain": [
       "png \n",
       "  2 "
      ]
     },
     "metadata": {},
     "output_type": "display_data"
    }
   ],
   "source": [
    "jpeg(\"boxplot_gender_smoking.jpg\", width = 600, height = 800)\n",
    "options(repr.plot.width = 6, repr.plot.height = 10)\n",
    "boxplot(sm_women$AGE, sm_men$AGE, non_sm_women$AGE, non_sm_men$AGE,\n",
    "    horizontal = TRUE, col = \"aquamarine\", border = \"violetred4\",\n",
    "    names=c(\"smoking women\", \"smoking men\",\n",
    "        \"not smoking women\", \"not smoking men\"))\n",
    "dev.off()"
   ]
  },
  {
   "cell_type": "code",
   "execution_count": 46,
   "metadata": {
    "vscode": {
     "languageId": "r"
    }
   },
   "outputs": [
    {
     "data": {
      "image/png": "[encoded data removed]",
      "text/plain": [
       "plot without title"
      ]
     },
     "metadata": {},
     "output_type": "display_data"
    }
   ],
   "source": [
    "options(repr.plot.width = 6, repr.plot.height = 10)\n",
    "boxplot(sm_women$AGE, sm_men$AGE, non_sm_women$AGE, non_sm_men$AGE,\n",
    "    horizontal = TRUE, col = \"aquamarine\", border = \"violetred4\",\n",
    "    names=c(\"smoking women\", \"smoking men\",\n",
    "        \"not smoking women\", \"not smoking men\"))"
   ]
  },
  {
   "cell_type": "markdown",
   "metadata": {},
   "source": [
    "Dystrybuanta empiryczna"
   ]
  },
  {
   "cell_type": "code",
   "execution_count": 50,
   "metadata": {
    "vscode": {
     "languageId": "r"
    }
   },
   "outputs": [
    {
     "data": {
      "image/png": "[encoded data removed]",
      "text/plain": [
       "plot without title"
      ]
     },
     "metadata": {},
     "output_type": "display_data"
    }
   ],
   "source": [
    "options(repr.plot.width = 6, repr.plot.height = 5)\n",
    "F <- ecdf(data_set$AGE)\n",
    "x <- seq(35, 85)\n",
    "plot(x, F(x))"
   ]
  },
  {
   "cell_type": "code",
   "execution_count": 52,
   "metadata": {
    "vscode": {
     "languageId": "r"
    }
   },
   "outputs": [
    {
     "data": {
      "image/png": "[encoded data removed]",
      "text/plain": [
       "plot without title"
      ]
     },
     "metadata": {},
     "output_type": "display_data"
    }
   ],
   "source": [
    "F1 <- ecdf(women$AGE)\n",
    "plot(x, F1(x), col = \"aquamarine3\")"
   ]
  },
  {
   "cell_type": "code",
   "execution_count": 53,
   "metadata": {
    "vscode": {
     "languageId": "r"
    }
   },
   "outputs": [
    {
     "data": {
      "image/png": "[encoded data removed]",
      "text/plain": [
       "plot without title"
      ]
     },
     "metadata": {},
     "output_type": "display_data"
    }
   ],
   "source": [
    "F2 <- ecdf(men$AGE)\n",
    "plot(x, F2(x), col = \"purple\")"
   ]
  },
  {
   "cell_type": "code",
   "execution_count": null,
   "metadata": {
    "vscode": {
     "languageId": "r"
    }
   },
   "outputs": [],
   "source": []
  }
 ],
 "metadata": {
  "kernelspec": {
   "display_name": "R",
   "language": "R",
   "name": "ir"
  },
  "language_info": {
   "codemirror_mode": "r",
   "file_extension": ".r",
   "mimetype": "text/x-r-source",
   "name": "R",
   "pygments_lexer": "r",
   "version": "3.6.1"
  }
 },
 "nbformat": 4,
 "nbformat_minor": 4
}
