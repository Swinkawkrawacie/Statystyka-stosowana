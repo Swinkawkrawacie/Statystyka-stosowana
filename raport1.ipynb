{
 "cells": [
  {
   "cell_type": "markdown",
   "metadata": {},
   "source": [
    "https://www.kaggle.com/datasets/mysarahmadbhat/lung-cancer?resource=download"
   ]
  },
  {
   "cell_type": "code",
   "execution_count": 1,
   "metadata": {
    "vscode": {
     "languageId": "r"
    }
   },
   "outputs": [],
   "source": [
    "data_set = read.csv('survey lung cancer.csv')"
   ]
  },
  {
   "cell_type": "code",
   "execution_count": 11,
   "metadata": {
    "vscode": {
     "languageId": "r"
    }
   },
   "outputs": [
    {
     "name": "stderr",
     "output_type": "stream",
     "text": [
      "also installing the dependencies 'tmvnsim', 'mnormt'\n",
      "\n"
     ]
    },
    {
     "name": "stdout",
     "output_type": "stream",
     "text": [
      "\n",
      "  There is a binary version available but the source version is later:\n",
      "      binary source needs_compilation\n",
      "psych  2.1.3  2.2.3             FALSE\n",
      "\n",
      "package 'tmvnsim' successfully unpacked and MD5 sums checked\n",
      "package 'mnormt' successfully unpacked and MD5 sums checked\n",
      "\n",
      "The downloaded binary packages are in\n",
      "\tC:\\Users\\mazur\\AppData\\Local\\Temp\\RtmpiiEJWe\\downloaded_packages\n"
     ]
    },
    {
     "name": "stderr",
     "output_type": "stream",
     "text": [
      "installing the source package 'psych'\n",
      "\n"
     ]
    }
   ],
   "source": [
    "install.packages(\"psych\")"
   ]
  },
  {
   "cell_type": "code",
   "execution_count": 2,
   "metadata": {
    "vscode": {
     "languageId": "r"
    }
   },
   "outputs": [],
   "source": [
    "library(\"psych\")\n",
    "library(repr)"
   ]
  },
  {
   "cell_type": "code",
   "execution_count": 13,
   "metadata": {
    "scrolled": true,
    "vscode": {
     "languageId": "r"
    }
   },
   "outputs": [
    {
     "data": {
      "text/html": [
       "<table>\n",
       "<thead><tr><th scope=col>GENDER</th><th scope=col>AGE</th><th scope=col>SMOKING</th><th scope=col>YELLOW_FINGERS</th><th scope=col>ANXIETY</th><th scope=col>PEER_PRESSURE</th><th scope=col>CHRONIC.DISEASE</th><th scope=col>FATIGUE</th><th scope=col>ALLERGY</th><th scope=col>WHEEZING</th><th scope=col>ALCOHOL.CONSUMING</th><th scope=col>COUGHING</th><th scope=col>SHORTNESS.OF.BREATH</th><th scope=col>SWALLOWING.DIFFICULTY</th><th scope=col>CHEST.PAIN</th><th scope=col>LUNG_CANCER</th></tr></thead>\n",
       "<tbody>\n",
       "\t<tr><td>M  </td><td>69 </td><td>1  </td><td>2  </td><td>2  </td><td>1  </td><td>1  </td><td>2  </td><td>1  </td><td>2  </td><td>2  </td><td>2  </td><td>2  </td><td>2  </td><td>2  </td><td>YES</td></tr>\n",
       "\t<tr><td>M  </td><td>74 </td><td>2  </td><td>1  </td><td>1  </td><td>1  </td><td>2  </td><td>2  </td><td>2  </td><td>1  </td><td>1  </td><td>1  </td><td>2  </td><td>2  </td><td>2  </td><td>YES</td></tr>\n",
       "\t<tr><td>F  </td><td>59 </td><td>1  </td><td>1  </td><td>1  </td><td>2  </td><td>1  </td><td>2  </td><td>1  </td><td>2  </td><td>1  </td><td>2  </td><td>2  </td><td>1  </td><td>2  </td><td>NO </td></tr>\n",
       "\t<tr><td>M  </td><td>63 </td><td>2  </td><td>2  </td><td>2  </td><td>1  </td><td>1  </td><td>1  </td><td>1  </td><td>1  </td><td>2  </td><td>1  </td><td>1  </td><td>2  </td><td>2  </td><td>NO </td></tr>\n",
       "\t<tr><td>F  </td><td>63 </td><td>1  </td><td>2  </td><td>1  </td><td>1  </td><td>1  </td><td>1  </td><td>1  </td><td>2  </td><td>1  </td><td>2  </td><td>2  </td><td>1  </td><td>1  </td><td>NO </td></tr>\n",
       "\t<tr><td>F  </td><td>75 </td><td>1  </td><td>2  </td><td>1  </td><td>1  </td><td>2  </td><td>2  </td><td>2  </td><td>2  </td><td>1  </td><td>2  </td><td>2  </td><td>1  </td><td>1  </td><td>YES</td></tr>\n",
       "\t<tr><td>M  </td><td>52 </td><td>2  </td><td>1  </td><td>1  </td><td>1  </td><td>1  </td><td>2  </td><td>1  </td><td>2  </td><td>2  </td><td>2  </td><td>2  </td><td>1  </td><td>2  </td><td>YES</td></tr>\n",
       "\t<tr><td>F  </td><td>51 </td><td>2  </td><td>2  </td><td>2  </td><td>2  </td><td>1  </td><td>2  </td><td>2  </td><td>1  </td><td>1  </td><td>1  </td><td>2  </td><td>2  </td><td>1  </td><td>YES</td></tr>\n",
       "\t<tr><td>F  </td><td>68 </td><td>2  </td><td>1  </td><td>2  </td><td>1  </td><td>1  </td><td>2  </td><td>1  </td><td>1  </td><td>1  </td><td>1  </td><td>1  </td><td>1  </td><td>1  </td><td>NO </td></tr>\n",
       "\t<tr><td>M  </td><td>53 </td><td>2  </td><td>2  </td><td>2  </td><td>2  </td><td>2  </td><td>1  </td><td>2  </td><td>1  </td><td>2  </td><td>1  </td><td>1  </td><td>2  </td><td>2  </td><td>YES</td></tr>\n",
       "\t<tr><td>F  </td><td>61 </td><td>2  </td><td>2  </td><td>2  </td><td>2  </td><td>2  </td><td>2  </td><td>1  </td><td>2  </td><td>1  </td><td>2  </td><td>2  </td><td>2  </td><td>1  </td><td>YES</td></tr>\n",
       "\t<tr><td>M  </td><td>72 </td><td>1  </td><td>1  </td><td>1  </td><td>1  </td><td>2  </td><td>2  </td><td>2  </td><td>2  </td><td>2  </td><td>2  </td><td>2  </td><td>1  </td><td>2  </td><td>YES</td></tr>\n",
       "\t<tr><td>F  </td><td>60 </td><td>2  </td><td>1  </td><td>1  </td><td>1  </td><td>1  </td><td>2  </td><td>1  </td><td>1  </td><td>1  </td><td>1  </td><td>2  </td><td>1  </td><td>1  </td><td>NO </td></tr>\n",
       "\t<tr><td>M  </td><td>58 </td><td>2  </td><td>1  </td><td>1  </td><td>1  </td><td>1  </td><td>2  </td><td>2  </td><td>2  </td><td>2  </td><td>2  </td><td>2  </td><td>1  </td><td>2  </td><td>YES</td></tr>\n",
       "\t<tr><td>M  </td><td>69 </td><td>2  </td><td>1  </td><td>1  </td><td>1  </td><td>1  </td><td>1  </td><td>2  </td><td>2  </td><td>2  </td><td>2  </td><td>1  </td><td>1  </td><td>2  </td><td>NO </td></tr>\n",
       "\t<tr><td>F  </td><td>48 </td><td>1  </td><td>2  </td><td>2  </td><td>2  </td><td>2  </td><td>2  </td><td>2  </td><td>2  </td><td>1  </td><td>2  </td><td>2  </td><td>2  </td><td>1  </td><td>YES</td></tr>\n",
       "\t<tr><td>M  </td><td>75 </td><td>2  </td><td>1  </td><td>1  </td><td>1  </td><td>2  </td><td>1  </td><td>2  </td><td>2  </td><td>2  </td><td>2  </td><td>2  </td><td>1  </td><td>2  </td><td>YES</td></tr>\n",
       "\t<tr><td>M  </td><td>57 </td><td>2  </td><td>2  </td><td>2  </td><td>2  </td><td>2  </td><td>1  </td><td>1  </td><td>1  </td><td>2  </td><td>1  </td><td>1  </td><td>2  </td><td>2  </td><td>YES</td></tr>\n",
       "\t<tr><td>F  </td><td>68 </td><td>2  </td><td>2  </td><td>2  </td><td>2  </td><td>2  </td><td>2  </td><td>1  </td><td>1  </td><td>1  </td><td>2  </td><td>2  </td><td>1  </td><td>1  </td><td>YES</td></tr>\n",
       "\t<tr><td>F  </td><td>61 </td><td>1  </td><td>1  </td><td>1  </td><td>1  </td><td>2  </td><td>2  </td><td>1  </td><td>1  </td><td>1  </td><td>1  </td><td>2  </td><td>1  </td><td>1  </td><td>NO </td></tr>\n",
       "\t<tr><td>F  </td><td>44 </td><td>2  </td><td>2  </td><td>2  </td><td>2  </td><td>2  </td><td>2  </td><td>1  </td><td>1  </td><td>1  </td><td>1  </td><td>2  </td><td>2  </td><td>1  </td><td>YES</td></tr>\n",
       "\t<tr><td>F  </td><td>64 </td><td>1  </td><td>2  </td><td>2  </td><td>2  </td><td>1  </td><td>1  </td><td>2  </td><td>2  </td><td>1  </td><td>2  </td><td>1  </td><td>2  </td><td>1  </td><td>YES</td></tr>\n",
       "\t<tr><td>F  </td><td>21 </td><td>2  </td><td>1  </td><td>1  </td><td>1  </td><td>2  </td><td>2  </td><td>2  </td><td>1  </td><td>1  </td><td>1  </td><td>2  </td><td>1  </td><td>1  </td><td>NO </td></tr>\n",
       "\t<tr><td>M  </td><td>60 </td><td>2  </td><td>1  </td><td>1  </td><td>1  </td><td>1  </td><td>2  </td><td>2  </td><td>2  </td><td>2  </td><td>2  </td><td>2  </td><td>1  </td><td>2  </td><td>YES</td></tr>\n",
       "\t<tr><td>M  </td><td>72 </td><td>2  </td><td>2  </td><td>2  </td><td>2  </td><td>2  </td><td>1  </td><td>2  </td><td>2  </td><td>2  </td><td>2  </td><td>1  </td><td>2  </td><td>2  </td><td>YES</td></tr>\n",
       "\t<tr><td>M  </td><td>65 </td><td>1  </td><td>2  </td><td>2  </td><td>1  </td><td>1  </td><td>2  </td><td>1  </td><td>2  </td><td>2  </td><td>2  </td><td>2  </td><td>2  </td><td>2  </td><td>YES</td></tr>\n",
       "\t<tr><td>F  </td><td>61 </td><td>2  </td><td>2  </td><td>2  </td><td>1  </td><td>1  </td><td>2  </td><td>2  </td><td>1  </td><td>2  </td><td>1  </td><td>2  </td><td>2  </td><td>2  </td><td>YES</td></tr>\n",
       "\t<tr><td>M  </td><td>69 </td><td>1  </td><td>1  </td><td>1  </td><td>2  </td><td>1  </td><td>2  </td><td>1  </td><td>2  </td><td>1  </td><td>2  </td><td>2  </td><td>1  </td><td>2  </td><td>NO </td></tr>\n",
       "\t<tr><td>F  </td><td>53 </td><td>2  </td><td>2  </td><td>2  </td><td>1  </td><td>2  </td><td>1  </td><td>1  </td><td>2  </td><td>2  </td><td>1  </td><td>2  </td><td>2  </td><td>2  </td><td>YES</td></tr>\n",
       "\t<tr><td>M  </td><td>55 </td><td>1  </td><td>2  </td><td>1  </td><td>1  </td><td>1  </td><td>2  </td><td>1  </td><td>2  </td><td>2  </td><td>2  </td><td>2  </td><td>1  </td><td>1  </td><td>NO </td></tr>\n",
       "\t<tr><td>...</td><td>...</td><td>...</td><td>...</td><td>...</td><td>...</td><td>...</td><td>...</td><td>...</td><td>...</td><td>...</td><td>...</td><td>...</td><td>...</td><td>...</td><td>...</td></tr>\n",
       "\t<tr><td>F  </td><td>59 </td><td>1  </td><td>2  </td><td>2  </td><td>2  </td><td>1  </td><td>1  </td><td>2  </td><td>2  </td><td>1  </td><td>2  </td><td>1  </td><td>2  </td><td>1  </td><td>YES</td></tr>\n",
       "\t<tr><td>F  </td><td>59 </td><td>2  </td><td>1  </td><td>1  </td><td>1  </td><td>2  </td><td>2  </td><td>2  </td><td>1  </td><td>1  </td><td>1  </td><td>2  </td><td>1  </td><td>1  </td><td>NO </td></tr>\n",
       "\t<tr><td>M  </td><td>55 </td><td>2  </td><td>1  </td><td>1  </td><td>1  </td><td>1  </td><td>2  </td><td>2  </td><td>1  </td><td>1  </td><td>1  </td><td>2  </td><td>1  </td><td>2  </td><td>NO </td></tr>\n",
       "\t<tr><td>M  </td><td>46 </td><td>1  </td><td>2  </td><td>2  </td><td>1  </td><td>1  </td><td>1  </td><td>1  </td><td>1  </td><td>1  </td><td>1  </td><td>1  </td><td>2  </td><td>2  </td><td>NO </td></tr>\n",
       "\t<tr><td>M  </td><td>60 </td><td>1  </td><td>2  </td><td>2  </td><td>1  </td><td>1  </td><td>2  </td><td>1  </td><td>2  </td><td>2  </td><td>2  </td><td>2  </td><td>2  </td><td>2  </td><td>YES</td></tr>\n",
       "\t<tr><td>M  </td><td>58 </td><td>2  </td><td>2  </td><td>2  </td><td>2  </td><td>2  </td><td>1  </td><td>1  </td><td>1  </td><td>2  </td><td>1  </td><td>1  </td><td>2  </td><td>2  </td><td>YES</td></tr>\n",
       "\t<tr><td>F  </td><td>58 </td><td>2  </td><td>2  </td><td>2  </td><td>2  </td><td>1  </td><td>2  </td><td>1  </td><td>1  </td><td>1  </td><td>2  </td><td>2  </td><td>2  </td><td>1  </td><td>YES</td></tr>\n",
       "\t<tr><td>F  </td><td>63 </td><td>1  </td><td>1  </td><td>1  </td><td>1  </td><td>2  </td><td>2  </td><td>1  </td><td>1  </td><td>1  </td><td>1  </td><td>2  </td><td>1  </td><td>1  </td><td>NO </td></tr>\n",
       "\t<tr><td>F  </td><td>51 </td><td>2  </td><td>2  </td><td>2  </td><td>2  </td><td>1  </td><td>2  </td><td>1  </td><td>1  </td><td>1  </td><td>1  </td><td>2  </td><td>2  </td><td>1  </td><td>YES</td></tr>\n",
       "\t<tr><td>F  </td><td>61 </td><td>1  </td><td>2  </td><td>2  </td><td>2  </td><td>1  </td><td>1  </td><td>2  </td><td>2  </td><td>1  </td><td>2  </td><td>1  </td><td>2  </td><td>1  </td><td>YES</td></tr>\n",
       "\t<tr><td>F  </td><td>61 </td><td>2  </td><td>1  </td><td>1  </td><td>1  </td><td>2  </td><td>2  </td><td>2  </td><td>1  </td><td>1  </td><td>1  </td><td>2  </td><td>1  </td><td>1  </td><td>YES</td></tr>\n",
       "\t<tr><td>M  </td><td>76 </td><td>2  </td><td>1  </td><td>1  </td><td>1  </td><td>1  </td><td>2  </td><td>2  </td><td>2  </td><td>2  </td><td>2  </td><td>2  </td><td>1  </td><td>2  </td><td>YES</td></tr>\n",
       "\t<tr><td>M  </td><td>71 </td><td>2  </td><td>2  </td><td>2  </td><td>1  </td><td>2  </td><td>1  </td><td>2  </td><td>2  </td><td>2  </td><td>2  </td><td>1  </td><td>2  </td><td>2  </td><td>YES</td></tr>\n",
       "\t<tr><td>M  </td><td>69 </td><td>1  </td><td>1  </td><td>2  </td><td>1  </td><td>1  </td><td>2  </td><td>1  </td><td>2  </td><td>2  </td><td>2  </td><td>2  </td><td>2  </td><td>1  </td><td>YES</td></tr>\n",
       "\t<tr><td>F  </td><td>56 </td><td>2  </td><td>2  </td><td>2  </td><td>1  </td><td>1  </td><td>2  </td><td>2  </td><td>1  </td><td>1  </td><td>1  </td><td>2  </td><td>1  </td><td>2  </td><td>YES</td></tr>\n",
       "\t<tr><td>M  </td><td>67 </td><td>1  </td><td>1  </td><td>1  </td><td>2  </td><td>1  </td><td>2  </td><td>1  </td><td>2  </td><td>1  </td><td>2  </td><td>2  </td><td>1  </td><td>2  </td><td>YES</td></tr>\n",
       "\t<tr><td>F  </td><td>54 </td><td>2  </td><td>2  </td><td>2  </td><td>1  </td><td>2  </td><td>1  </td><td>1  </td><td>2  </td><td>2  </td><td>1  </td><td>2  </td><td>2  </td><td>2  </td><td>YES</td></tr>\n",
       "\t<tr><td>M  </td><td>63 </td><td>1  </td><td>2  </td><td>1  </td><td>1  </td><td>1  </td><td>2  </td><td>1  </td><td>2  </td><td>2  </td><td>2  </td><td>2  </td><td>1  </td><td>1  </td><td>YES</td></tr>\n",
       "\t<tr><td>F  </td><td>47 </td><td>2  </td><td>2  </td><td>1  </td><td>2  </td><td>2  </td><td>2  </td><td>2  </td><td>2  </td><td>1  </td><td>2  </td><td>2  </td><td>1  </td><td>1  </td><td>YES</td></tr>\n",
       "\t<tr><td>M  </td><td>62 </td><td>2  </td><td>1  </td><td>2  </td><td>1  </td><td>1  </td><td>2  </td><td>1  </td><td>2  </td><td>2  </td><td>2  </td><td>2  </td><td>1  </td><td>2  </td><td>YES</td></tr>\n",
       "\t<tr><td>M  </td><td>65 </td><td>2  </td><td>2  </td><td>2  </td><td>2  </td><td>1  </td><td>2  </td><td>2  </td><td>1  </td><td>1  </td><td>1  </td><td>2  </td><td>2  </td><td>1  </td><td>YES</td></tr>\n",
       "\t<tr><td>F  </td><td>63 </td><td>2  </td><td>2  </td><td>2  </td><td>2  </td><td>2  </td><td>2  </td><td>2  </td><td>2  </td><td>1  </td><td>2  </td><td>2  </td><td>2  </td><td>2  </td><td>YES</td></tr>\n",
       "\t<tr><td>M  </td><td>64 </td><td>1  </td><td>2  </td><td>2  </td><td>2  </td><td>1  </td><td>1  </td><td>2  </td><td>1  </td><td>2  </td><td>1  </td><td>1  </td><td>2  </td><td>2  </td><td>YES</td></tr>\n",
       "\t<tr><td>F  </td><td>65 </td><td>2  </td><td>2  </td><td>2  </td><td>2  </td><td>1  </td><td>2  </td><td>1  </td><td>2  </td><td>1  </td><td>2  </td><td>2  </td><td>2  </td><td>1  </td><td>YES</td></tr>\n",
       "\t<tr><td>M  </td><td>51 </td><td>1  </td><td>2  </td><td>1  </td><td>1  </td><td>2  </td><td>2  </td><td>2  </td><td>2  </td><td>2  </td><td>2  </td><td>2  </td><td>1  </td><td>2  </td><td>YES</td></tr>\n",
       "\t<tr><td>F  </td><td>56 </td><td>1  </td><td>1  </td><td>1  </td><td>2  </td><td>2  </td><td>2  </td><td>1  </td><td>1  </td><td>2  </td><td>2  </td><td>2  </td><td>2  </td><td>1  </td><td>YES</td></tr>\n",
       "\t<tr><td>M  </td><td>70 </td><td>2  </td><td>1  </td><td>1  </td><td>1  </td><td>1  </td><td>2  </td><td>2  </td><td>2  </td><td>2  </td><td>2  </td><td>2  </td><td>1  </td><td>2  </td><td>YES</td></tr>\n",
       "\t<tr><td>M  </td><td>58 </td><td>2  </td><td>1  </td><td>1  </td><td>1  </td><td>1  </td><td>1  </td><td>2  </td><td>2  </td><td>2  </td><td>2  </td><td>1  </td><td>1  </td><td>2  </td><td>YES</td></tr>\n",
       "\t<tr><td>M  </td><td>67 </td><td>2  </td><td>1  </td><td>2  </td><td>1  </td><td>1  </td><td>2  </td><td>2  </td><td>1  </td><td>2  </td><td>2  </td><td>2  </td><td>1  </td><td>2  </td><td>YES</td></tr>\n",
       "\t<tr><td>M  </td><td>62 </td><td>1  </td><td>1  </td><td>1  </td><td>2  </td><td>1  </td><td>2  </td><td>2  </td><td>2  </td><td>2  </td><td>1  </td><td>1  </td><td>2  </td><td>1  </td><td>YES</td></tr>\n",
       "</tbody>\n",
       "</table>\n"
      ],
      "text/latex": [
       "\\begin{tabular}{r|llllllllllllllll}\n",
       " GENDER & AGE & SMOKING & YELLOW\\_FINGERS & ANXIETY & PEER\\_PRESSURE & CHRONIC.DISEASE & FATIGUE & ALLERGY & WHEEZING & ALCOHOL.CONSUMING & COUGHING & SHORTNESS.OF.BREATH & SWALLOWING.DIFFICULTY & CHEST.PAIN & LUNG\\_CANCER\\\\\n",
       "\\hline\n",
       "\t M   & 69  & 1   & 2   & 2   & 1   & 1   & 2   & 1   & 2   & 2   & 2   & 2   & 2   & 2   & YES\\\\\n",
       "\t M   & 74  & 2   & 1   & 1   & 1   & 2   & 2   & 2   & 1   & 1   & 1   & 2   & 2   & 2   & YES\\\\\n",
       "\t F   & 59  & 1   & 1   & 1   & 2   & 1   & 2   & 1   & 2   & 1   & 2   & 2   & 1   & 2   & NO \\\\\n",
       "\t M   & 63  & 2   & 2   & 2   & 1   & 1   & 1   & 1   & 1   & 2   & 1   & 1   & 2   & 2   & NO \\\\\n",
       "\t F   & 63  & 1   & 2   & 1   & 1   & 1   & 1   & 1   & 2   & 1   & 2   & 2   & 1   & 1   & NO \\\\\n",
       "\t F   & 75  & 1   & 2   & 1   & 1   & 2   & 2   & 2   & 2   & 1   & 2   & 2   & 1   & 1   & YES\\\\\n",
       "\t M   & 52  & 2   & 1   & 1   & 1   & 1   & 2   & 1   & 2   & 2   & 2   & 2   & 1   & 2   & YES\\\\\n",
       "\t F   & 51  & 2   & 2   & 2   & 2   & 1   & 2   & 2   & 1   & 1   & 1   & 2   & 2   & 1   & YES\\\\\n",
       "\t F   & 68  & 2   & 1   & 2   & 1   & 1   & 2   & 1   & 1   & 1   & 1   & 1   & 1   & 1   & NO \\\\\n",
       "\t M   & 53  & 2   & 2   & 2   & 2   & 2   & 1   & 2   & 1   & 2   & 1   & 1   & 2   & 2   & YES\\\\\n",
       "\t F   & 61  & 2   & 2   & 2   & 2   & 2   & 2   & 1   & 2   & 1   & 2   & 2   & 2   & 1   & YES\\\\\n",
       "\t M   & 72  & 1   & 1   & 1   & 1   & 2   & 2   & 2   & 2   & 2   & 2   & 2   & 1   & 2   & YES\\\\\n",
       "\t F   & 60  & 2   & 1   & 1   & 1   & 1   & 2   & 1   & 1   & 1   & 1   & 2   & 1   & 1   & NO \\\\\n",
       "\t M   & 58  & 2   & 1   & 1   & 1   & 1   & 2   & 2   & 2   & 2   & 2   & 2   & 1   & 2   & YES\\\\\n",
       "\t M   & 69  & 2   & 1   & 1   & 1   & 1   & 1   & 2   & 2   & 2   & 2   & 1   & 1   & 2   & NO \\\\\n",
       "\t F   & 48  & 1   & 2   & 2   & 2   & 2   & 2   & 2   & 2   & 1   & 2   & 2   & 2   & 1   & YES\\\\\n",
       "\t M   & 75  & 2   & 1   & 1   & 1   & 2   & 1   & 2   & 2   & 2   & 2   & 2   & 1   & 2   & YES\\\\\n",
       "\t M   & 57  & 2   & 2   & 2   & 2   & 2   & 1   & 1   & 1   & 2   & 1   & 1   & 2   & 2   & YES\\\\\n",
       "\t F   & 68  & 2   & 2   & 2   & 2   & 2   & 2   & 1   & 1   & 1   & 2   & 2   & 1   & 1   & YES\\\\\n",
       "\t F   & 61  & 1   & 1   & 1   & 1   & 2   & 2   & 1   & 1   & 1   & 1   & 2   & 1   & 1   & NO \\\\\n",
       "\t F   & 44  & 2   & 2   & 2   & 2   & 2   & 2   & 1   & 1   & 1   & 1   & 2   & 2   & 1   & YES\\\\\n",
       "\t F   & 64  & 1   & 2   & 2   & 2   & 1   & 1   & 2   & 2   & 1   & 2   & 1   & 2   & 1   & YES\\\\\n",
       "\t F   & 21  & 2   & 1   & 1   & 1   & 2   & 2   & 2   & 1   & 1   & 1   & 2   & 1   & 1   & NO \\\\\n",
       "\t M   & 60  & 2   & 1   & 1   & 1   & 1   & 2   & 2   & 2   & 2   & 2   & 2   & 1   & 2   & YES\\\\\n",
       "\t M   & 72  & 2   & 2   & 2   & 2   & 2   & 1   & 2   & 2   & 2   & 2   & 1   & 2   & 2   & YES\\\\\n",
       "\t M   & 65  & 1   & 2   & 2   & 1   & 1   & 2   & 1   & 2   & 2   & 2   & 2   & 2   & 2   & YES\\\\\n",
       "\t F   & 61  & 2   & 2   & 2   & 1   & 1   & 2   & 2   & 1   & 2   & 1   & 2   & 2   & 2   & YES\\\\\n",
       "\t M   & 69  & 1   & 1   & 1   & 2   & 1   & 2   & 1   & 2   & 1   & 2   & 2   & 1   & 2   & NO \\\\\n",
       "\t F   & 53  & 2   & 2   & 2   & 1   & 2   & 1   & 1   & 2   & 2   & 1   & 2   & 2   & 2   & YES\\\\\n",
       "\t M   & 55  & 1   & 2   & 1   & 1   & 1   & 2   & 1   & 2   & 2   & 2   & 2   & 1   & 1   & NO \\\\\n",
       "\t ... & ... & ... & ... & ... & ... & ... & ... & ... & ... & ... & ... & ... & ... & ... & ...\\\\\n",
       "\t F   & 59  & 1   & 2   & 2   & 2   & 1   & 1   & 2   & 2   & 1   & 2   & 1   & 2   & 1   & YES\\\\\n",
       "\t F   & 59  & 2   & 1   & 1   & 1   & 2   & 2   & 2   & 1   & 1   & 1   & 2   & 1   & 1   & NO \\\\\n",
       "\t M   & 55  & 2   & 1   & 1   & 1   & 1   & 2   & 2   & 1   & 1   & 1   & 2   & 1   & 2   & NO \\\\\n",
       "\t M   & 46  & 1   & 2   & 2   & 1   & 1   & 1   & 1   & 1   & 1   & 1   & 1   & 2   & 2   & NO \\\\\n",
       "\t M   & 60  & 1   & 2   & 2   & 1   & 1   & 2   & 1   & 2   & 2   & 2   & 2   & 2   & 2   & YES\\\\\n",
       "\t M   & 58  & 2   & 2   & 2   & 2   & 2   & 1   & 1   & 1   & 2   & 1   & 1   & 2   & 2   & YES\\\\\n",
       "\t F   & 58  & 2   & 2   & 2   & 2   & 1   & 2   & 1   & 1   & 1   & 2   & 2   & 2   & 1   & YES\\\\\n",
       "\t F   & 63  & 1   & 1   & 1   & 1   & 2   & 2   & 1   & 1   & 1   & 1   & 2   & 1   & 1   & NO \\\\\n",
       "\t F   & 51  & 2   & 2   & 2   & 2   & 1   & 2   & 1   & 1   & 1   & 1   & 2   & 2   & 1   & YES\\\\\n",
       "\t F   & 61  & 1   & 2   & 2   & 2   & 1   & 1   & 2   & 2   & 1   & 2   & 1   & 2   & 1   & YES\\\\\n",
       "\t F   & 61  & 2   & 1   & 1   & 1   & 2   & 2   & 2   & 1   & 1   & 1   & 2   & 1   & 1   & YES\\\\\n",
       "\t M   & 76  & 2   & 1   & 1   & 1   & 1   & 2   & 2   & 2   & 2   & 2   & 2   & 1   & 2   & YES\\\\\n",
       "\t M   & 71  & 2   & 2   & 2   & 1   & 2   & 1   & 2   & 2   & 2   & 2   & 1   & 2   & 2   & YES\\\\\n",
       "\t M   & 69  & 1   & 1   & 2   & 1   & 1   & 2   & 1   & 2   & 2   & 2   & 2   & 2   & 1   & YES\\\\\n",
       "\t F   & 56  & 2   & 2   & 2   & 1   & 1   & 2   & 2   & 1   & 1   & 1   & 2   & 1   & 2   & YES\\\\\n",
       "\t M   & 67  & 1   & 1   & 1   & 2   & 1   & 2   & 1   & 2   & 1   & 2   & 2   & 1   & 2   & YES\\\\\n",
       "\t F   & 54  & 2   & 2   & 2   & 1   & 2   & 1   & 1   & 2   & 2   & 1   & 2   & 2   & 2   & YES\\\\\n",
       "\t M   & 63  & 1   & 2   & 1   & 1   & 1   & 2   & 1   & 2   & 2   & 2   & 2   & 1   & 1   & YES\\\\\n",
       "\t F   & 47  & 2   & 2   & 1   & 2   & 2   & 2   & 2   & 2   & 1   & 2   & 2   & 1   & 1   & YES\\\\\n",
       "\t M   & 62  & 2   & 1   & 2   & 1   & 1   & 2   & 1   & 2   & 2   & 2   & 2   & 1   & 2   & YES\\\\\n",
       "\t M   & 65  & 2   & 2   & 2   & 2   & 1   & 2   & 2   & 1   & 1   & 1   & 2   & 2   & 1   & YES\\\\\n",
       "\t F   & 63  & 2   & 2   & 2   & 2   & 2   & 2   & 2   & 2   & 1   & 2   & 2   & 2   & 2   & YES\\\\\n",
       "\t M   & 64  & 1   & 2   & 2   & 2   & 1   & 1   & 2   & 1   & 2   & 1   & 1   & 2   & 2   & YES\\\\\n",
       "\t F   & 65  & 2   & 2   & 2   & 2   & 1   & 2   & 1   & 2   & 1   & 2   & 2   & 2   & 1   & YES\\\\\n",
       "\t M   & 51  & 1   & 2   & 1   & 1   & 2   & 2   & 2   & 2   & 2   & 2   & 2   & 1   & 2   & YES\\\\\n",
       "\t F   & 56  & 1   & 1   & 1   & 2   & 2   & 2   & 1   & 1   & 2   & 2   & 2   & 2   & 1   & YES\\\\\n",
       "\t M   & 70  & 2   & 1   & 1   & 1   & 1   & 2   & 2   & 2   & 2   & 2   & 2   & 1   & 2   & YES\\\\\n",
       "\t M   & 58  & 2   & 1   & 1   & 1   & 1   & 1   & 2   & 2   & 2   & 2   & 1   & 1   & 2   & YES\\\\\n",
       "\t M   & 67  & 2   & 1   & 2   & 1   & 1   & 2   & 2   & 1   & 2   & 2   & 2   & 1   & 2   & YES\\\\\n",
       "\t M   & 62  & 1   & 1   & 1   & 2   & 1   & 2   & 2   & 2   & 2   & 1   & 1   & 2   & 1   & YES\\\\\n",
       "\\end{tabular}\n"
      ],
      "text/markdown": [
       "\n",
       "| GENDER | AGE | SMOKING | YELLOW_FINGERS | ANXIETY | PEER_PRESSURE | CHRONIC.DISEASE | FATIGUE | ALLERGY | WHEEZING | ALCOHOL.CONSUMING | COUGHING | SHORTNESS.OF.BREATH | SWALLOWING.DIFFICULTY | CHEST.PAIN | LUNG_CANCER |\n",
       "|---|---|---|---|---|---|---|---|---|---|---|---|---|---|---|---|\n",
       "| M   | 69  | 1   | 2   | 2   | 1   | 1   | 2   | 1   | 2   | 2   | 2   | 2   | 2   | 2   | YES |\n",
       "| M   | 74  | 2   | 1   | 1   | 1   | 2   | 2   | 2   | 1   | 1   | 1   | 2   | 2   | 2   | YES |\n",
       "| F   | 59  | 1   | 1   | 1   | 2   | 1   | 2   | 1   | 2   | 1   | 2   | 2   | 1   | 2   | NO  |\n",
       "| M   | 63  | 2   | 2   | 2   | 1   | 1   | 1   | 1   | 1   | 2   | 1   | 1   | 2   | 2   | NO  |\n",
       "| F   | 63  | 1   | 2   | 1   | 1   | 1   | 1   | 1   | 2   | 1   | 2   | 2   | 1   | 1   | NO  |\n",
       "| F   | 75  | 1   | 2   | 1   | 1   | 2   | 2   | 2   | 2   | 1   | 2   | 2   | 1   | 1   | YES |\n",
       "| M   | 52  | 2   | 1   | 1   | 1   | 1   | 2   | 1   | 2   | 2   | 2   | 2   | 1   | 2   | YES |\n",
       "| F   | 51  | 2   | 2   | 2   | 2   | 1   | 2   | 2   | 1   | 1   | 1   | 2   | 2   | 1   | YES |\n",
       "| F   | 68  | 2   | 1   | 2   | 1   | 1   | 2   | 1   | 1   | 1   | 1   | 1   | 1   | 1   | NO  |\n",
       "| M   | 53  | 2   | 2   | 2   | 2   | 2   | 1   | 2   | 1   | 2   | 1   | 1   | 2   | 2   | YES |\n",
       "| F   | 61  | 2   | 2   | 2   | 2   | 2   | 2   | 1   | 2   | 1   | 2   | 2   | 2   | 1   | YES |\n",
       "| M   | 72  | 1   | 1   | 1   | 1   | 2   | 2   | 2   | 2   | 2   | 2   | 2   | 1   | 2   | YES |\n",
       "| F   | 60  | 2   | 1   | 1   | 1   | 1   | 2   | 1   | 1   | 1   | 1   | 2   | 1   | 1   | NO  |\n",
       "| M   | 58  | 2   | 1   | 1   | 1   | 1   | 2   | 2   | 2   | 2   | 2   | 2   | 1   | 2   | YES |\n",
       "| M   | 69  | 2   | 1   | 1   | 1   | 1   | 1   | 2   | 2   | 2   | 2   | 1   | 1   | 2   | NO  |\n",
       "| F   | 48  | 1   | 2   | 2   | 2   | 2   | 2   | 2   | 2   | 1   | 2   | 2   | 2   | 1   | YES |\n",
       "| M   | 75  | 2   | 1   | 1   | 1   | 2   | 1   | 2   | 2   | 2   | 2   | 2   | 1   | 2   | YES |\n",
       "| M   | 57  | 2   | 2   | 2   | 2   | 2   | 1   | 1   | 1   | 2   | 1   | 1   | 2   | 2   | YES |\n",
       "| F   | 68  | 2   | 2   | 2   | 2   | 2   | 2   | 1   | 1   | 1   | 2   | 2   | 1   | 1   | YES |\n",
       "| F   | 61  | 1   | 1   | 1   | 1   | 2   | 2   | 1   | 1   | 1   | 1   | 2   | 1   | 1   | NO  |\n",
       "| F   | 44  | 2   | 2   | 2   | 2   | 2   | 2   | 1   | 1   | 1   | 1   | 2   | 2   | 1   | YES |\n",
       "| F   | 64  | 1   | 2   | 2   | 2   | 1   | 1   | 2   | 2   | 1   | 2   | 1   | 2   | 1   | YES |\n",
       "| F   | 21  | 2   | 1   | 1   | 1   | 2   | 2   | 2   | 1   | 1   | 1   | 2   | 1   | 1   | NO  |\n",
       "| M   | 60  | 2   | 1   | 1   | 1   | 1   | 2   | 2   | 2   | 2   | 2   | 2   | 1   | 2   | YES |\n",
       "| M   | 72  | 2   | 2   | 2   | 2   | 2   | 1   | 2   | 2   | 2   | 2   | 1   | 2   | 2   | YES |\n",
       "| M   | 65  | 1   | 2   | 2   | 1   | 1   | 2   | 1   | 2   | 2   | 2   | 2   | 2   | 2   | YES |\n",
       "| F   | 61  | 2   | 2   | 2   | 1   | 1   | 2   | 2   | 1   | 2   | 1   | 2   | 2   | 2   | YES |\n",
       "| M   | 69  | 1   | 1   | 1   | 2   | 1   | 2   | 1   | 2   | 1   | 2   | 2   | 1   | 2   | NO  |\n",
       "| F   | 53  | 2   | 2   | 2   | 1   | 2   | 1   | 1   | 2   | 2   | 1   | 2   | 2   | 2   | YES |\n",
       "| M   | 55  | 1   | 2   | 1   | 1   | 1   | 2   | 1   | 2   | 2   | 2   | 2   | 1   | 1   | NO  |\n",
       "| ... | ... | ... | ... | ... | ... | ... | ... | ... | ... | ... | ... | ... | ... | ... | ... |\n",
       "| F   | 59  | 1   | 2   | 2   | 2   | 1   | 1   | 2   | 2   | 1   | 2   | 1   | 2   | 1   | YES |\n",
       "| F   | 59  | 2   | 1   | 1   | 1   | 2   | 2   | 2   | 1   | 1   | 1   | 2   | 1   | 1   | NO  |\n",
       "| M   | 55  | 2   | 1   | 1   | 1   | 1   | 2   | 2   | 1   | 1   | 1   | 2   | 1   | 2   | NO  |\n",
       "| M   | 46  | 1   | 2   | 2   | 1   | 1   | 1   | 1   | 1   | 1   | 1   | 1   | 2   | 2   | NO  |\n",
       "| M   | 60  | 1   | 2   | 2   | 1   | 1   | 2   | 1   | 2   | 2   | 2   | 2   | 2   | 2   | YES |\n",
       "| M   | 58  | 2   | 2   | 2   | 2   | 2   | 1   | 1   | 1   | 2   | 1   | 1   | 2   | 2   | YES |\n",
       "| F   | 58  | 2   | 2   | 2   | 2   | 1   | 2   | 1   | 1   | 1   | 2   | 2   | 2   | 1   | YES |\n",
       "| F   | 63  | 1   | 1   | 1   | 1   | 2   | 2   | 1   | 1   | 1   | 1   | 2   | 1   | 1   | NO  |\n",
       "| F   | 51  | 2   | 2   | 2   | 2   | 1   | 2   | 1   | 1   | 1   | 1   | 2   | 2   | 1   | YES |\n",
       "| F   | 61  | 1   | 2   | 2   | 2   | 1   | 1   | 2   | 2   | 1   | 2   | 1   | 2   | 1   | YES |\n",
       "| F   | 61  | 2   | 1   | 1   | 1   | 2   | 2   | 2   | 1   | 1   | 1   | 2   | 1   | 1   | YES |\n",
       "| M   | 76  | 2   | 1   | 1   | 1   | 1   | 2   | 2   | 2   | 2   | 2   | 2   | 1   | 2   | YES |\n",
       "| M   | 71  | 2   | 2   | 2   | 1   | 2   | 1   | 2   | 2   | 2   | 2   | 1   | 2   | 2   | YES |\n",
       "| M   | 69  | 1   | 1   | 2   | 1   | 1   | 2   | 1   | 2   | 2   | 2   | 2   | 2   | 1   | YES |\n",
       "| F   | 56  | 2   | 2   | 2   | 1   | 1   | 2   | 2   | 1   | 1   | 1   | 2   | 1   | 2   | YES |\n",
       "| M   | 67  | 1   | 1   | 1   | 2   | 1   | 2   | 1   | 2   | 1   | 2   | 2   | 1   | 2   | YES |\n",
       "| F   | 54  | 2   | 2   | 2   | 1   | 2   | 1   | 1   | 2   | 2   | 1   | 2   | 2   | 2   | YES |\n",
       "| M   | 63  | 1   | 2   | 1   | 1   | 1   | 2   | 1   | 2   | 2   | 2   | 2   | 1   | 1   | YES |\n",
       "| F   | 47  | 2   | 2   | 1   | 2   | 2   | 2   | 2   | 2   | 1   | 2   | 2   | 1   | 1   | YES |\n",
       "| M   | 62  | 2   | 1   | 2   | 1   | 1   | 2   | 1   | 2   | 2   | 2   | 2   | 1   | 2   | YES |\n",
       "| M   | 65  | 2   | 2   | 2   | 2   | 1   | 2   | 2   | 1   | 1   | 1   | 2   | 2   | 1   | YES |\n",
       "| F   | 63  | 2   | 2   | 2   | 2   | 2   | 2   | 2   | 2   | 1   | 2   | 2   | 2   | 2   | YES |\n",
       "| M   | 64  | 1   | 2   | 2   | 2   | 1   | 1   | 2   | 1   | 2   | 1   | 1   | 2   | 2   | YES |\n",
       "| F   | 65  | 2   | 2   | 2   | 2   | 1   | 2   | 1   | 2   | 1   | 2   | 2   | 2   | 1   | YES |\n",
       "| M   | 51  | 1   | 2   | 1   | 1   | 2   | 2   | 2   | 2   | 2   | 2   | 2   | 1   | 2   | YES |\n",
       "| F   | 56  | 1   | 1   | 1   | 2   | 2   | 2   | 1   | 1   | 2   | 2   | 2   | 2   | 1   | YES |\n",
       "| M   | 70  | 2   | 1   | 1   | 1   | 1   | 2   | 2   | 2   | 2   | 2   | 2   | 1   | 2   | YES |\n",
       "| M   | 58  | 2   | 1   | 1   | 1   | 1   | 1   | 2   | 2   | 2   | 2   | 1   | 1   | 2   | YES |\n",
       "| M   | 67  | 2   | 1   | 2   | 1   | 1   | 2   | 2   | 1   | 2   | 2   | 2   | 1   | 2   | YES |\n",
       "| M   | 62  | 1   | 1   | 1   | 2   | 1   | 2   | 2   | 2   | 2   | 1   | 1   | 2   | 1   | YES |\n",
       "\n"
      ],
      "text/plain": [
       "    GENDER AGE SMOKING YELLOW_FINGERS ANXIETY PEER_PRESSURE CHRONIC.DISEASE\n",
       "1   M      69  1       2              2       1             1              \n",
       "2   M      74  2       1              1       1             2              \n",
       "3   F      59  1       1              1       2             1              \n",
       "4   M      63  2       2              2       1             1              \n",
       "5   F      63  1       2              1       1             1              \n",
       "6   F      75  1       2              1       1             2              \n",
       "7   M      52  2       1              1       1             1              \n",
       "8   F      51  2       2              2       2             1              \n",
       "9   F      68  2       1              2       1             1              \n",
       "10  M      53  2       2              2       2             2              \n",
       "11  F      61  2       2              2       2             2              \n",
       "12  M      72  1       1              1       1             2              \n",
       "13  F      60  2       1              1       1             1              \n",
       "14  M      58  2       1              1       1             1              \n",
       "15  M      69  2       1              1       1             1              \n",
       "16  F      48  1       2              2       2             2              \n",
       "17  M      75  2       1              1       1             2              \n",
       "18  M      57  2       2              2       2             2              \n",
       "19  F      68  2       2              2       2             2              \n",
       "20  F      61  1       1              1       1             2              \n",
       "21  F      44  2       2              2       2             2              \n",
       "22  F      64  1       2              2       2             1              \n",
       "23  F      21  2       1              1       1             2              \n",
       "24  M      60  2       1              1       1             1              \n",
       "25  M      72  2       2              2       2             2              \n",
       "26  M      65  1       2              2       1             1              \n",
       "27  F      61  2       2              2       1             1              \n",
       "28  M      69  1       1              1       2             1              \n",
       "29  F      53  2       2              2       1             2              \n",
       "30  M      55  1       2              1       1             1              \n",
       "... ...    ... ...     ...            ...     ...           ...            \n",
       "280 F      59  1       2              2       2             1              \n",
       "281 F      59  2       1              1       1             2              \n",
       "282 M      55  2       1              1       1             1              \n",
       "283 M      46  1       2              2       1             1              \n",
       "284 M      60  1       2              2       1             1              \n",
       "285 M      58  2       2              2       2             2              \n",
       "286 F      58  2       2              2       2             1              \n",
       "287 F      63  1       1              1       1             2              \n",
       "288 F      51  2       2              2       2             1              \n",
       "289 F      61  1       2              2       2             1              \n",
       "290 F      61  2       1              1       1             2              \n",
       "291 M      76  2       1              1       1             1              \n",
       "292 M      71  2       2              2       1             2              \n",
       "293 M      69  1       1              2       1             1              \n",
       "294 F      56  2       2              2       1             1              \n",
       "295 M      67  1       1              1       2             1              \n",
       "296 F      54  2       2              2       1             2              \n",
       "297 M      63  1       2              1       1             1              \n",
       "298 F      47  2       2              1       2             2              \n",
       "299 M      62  2       1              2       1             1              \n",
       "300 M      65  2       2              2       2             1              \n",
       "301 F      63  2       2              2       2             2              \n",
       "302 M      64  1       2              2       2             1              \n",
       "303 F      65  2       2              2       2             1              \n",
       "304 M      51  1       2              1       1             2              \n",
       "305 F      56  1       1              1       2             2              \n",
       "306 M      70  2       1              1       1             1              \n",
       "307 M      58  2       1              1       1             1              \n",
       "308 M      67  2       1              2       1             1              \n",
       "309 M      62  1       1              1       2             1              \n",
       "    FATIGUE ALLERGY WHEEZING ALCOHOL.CONSUMING COUGHING SHORTNESS.OF.BREATH\n",
       "1   2       1       2        2                 2        2                  \n",
       "2   2       2       1        1                 1        2                  \n",
       "3   2       1       2        1                 2        2                  \n",
       "4   1       1       1        2                 1        1                  \n",
       "5   1       1       2        1                 2        2                  \n",
       "6   2       2       2        1                 2        2                  \n",
       "7   2       1       2        2                 2        2                  \n",
       "8   2       2       1        1                 1        2                  \n",
       "9   2       1       1        1                 1        1                  \n",
       "10  1       2       1        2                 1        1                  \n",
       "11  2       1       2        1                 2        2                  \n",
       "12  2       2       2        2                 2        2                  \n",
       "13  2       1       1        1                 1        2                  \n",
       "14  2       2       2        2                 2        2                  \n",
       "15  1       2       2        2                 2        1                  \n",
       "16  2       2       2        1                 2        2                  \n",
       "17  1       2       2        2                 2        2                  \n",
       "18  1       1       1        2                 1        1                  \n",
       "19  2       1       1        1                 2        2                  \n",
       "20  2       1       1        1                 1        2                  \n",
       "21  2       1       1        1                 1        2                  \n",
       "22  1       2       2        1                 2        1                  \n",
       "23  2       2       1        1                 1        2                  \n",
       "24  2       2       2        2                 2        2                  \n",
       "25  1       2       2        2                 2        1                  \n",
       "26  2       1       2        2                 2        2                  \n",
       "27  2       2       1        2                 1        2                  \n",
       "28  2       1       2        1                 2        2                  \n",
       "29  1       1       2        2                 1        2                  \n",
       "30  2       1       2        2                 2        2                  \n",
       "... ...     ...     ...      ...               ...      ...                \n",
       "280 1       2       2        1                 2        1                  \n",
       "281 2       2       1        1                 1        2                  \n",
       "282 2       2       1        1                 1        2                  \n",
       "283 1       1       1        1                 1        1                  \n",
       "284 2       1       2        2                 2        2                  \n",
       "285 1       1       1        2                 1        1                  \n",
       "286 2       1       1        1                 2        2                  \n",
       "287 2       1       1        1                 1        2                  \n",
       "288 2       1       1        1                 1        2                  \n",
       "289 1       2       2        1                 2        1                  \n",
       "290 2       2       1        1                 1        2                  \n",
       "291 2       2       2        2                 2        2                  \n",
       "292 1       2       2        2                 2        1                  \n",
       "293 2       1       2        2                 2        2                  \n",
       "294 2       2       1        1                 1        2                  \n",
       "295 2       1       2        1                 2        2                  \n",
       "296 1       1       2        2                 1        2                  \n",
       "297 2       1       2        2                 2        2                  \n",
       "298 2       2       2        1                 2        2                  \n",
       "299 2       1       2        2                 2        2                  \n",
       "300 2       2       1        1                 1        2                  \n",
       "301 2       2       2        1                 2        2                  \n",
       "302 1       2       1        2                 1        1                  \n",
       "303 2       1       2        1                 2        2                  \n",
       "304 2       2       2        2                 2        2                  \n",
       "305 2       1       1        2                 2        2                  \n",
       "306 2       2       2        2                 2        2                  \n",
       "307 1       2       2        2                 2        1                  \n",
       "308 2       2       1        2                 2        2                  \n",
       "309 2       2       2        2                 1        1                  \n",
       "    SWALLOWING.DIFFICULTY CHEST.PAIN LUNG_CANCER\n",
       "1   2                     2          YES        \n",
       "2   2                     2          YES        \n",
       "3   1                     2          NO         \n",
       "4   2                     2          NO         \n",
       "5   1                     1          NO         \n",
       "6   1                     1          YES        \n",
       "7   1                     2          YES        \n",
       "8   2                     1          YES        \n",
       "9   1                     1          NO         \n",
       "10  2                     2          YES        \n",
       "11  2                     1          YES        \n",
       "12  1                     2          YES        \n",
       "13  1                     1          NO         \n",
       "14  1                     2          YES        \n",
       "15  1                     2          NO         \n",
       "16  2                     1          YES        \n",
       "17  1                     2          YES        \n",
       "18  2                     2          YES        \n",
       "19  1                     1          YES        \n",
       "20  1                     1          NO         \n",
       "21  2                     1          YES        \n",
       "22  2                     1          YES        \n",
       "23  1                     1          NO         \n",
       "24  1                     2          YES        \n",
       "25  2                     2          YES        \n",
       "26  2                     2          YES        \n",
       "27  2                     2          YES        \n",
       "28  1                     2          NO         \n",
       "29  2                     2          YES        \n",
       "30  1                     1          NO         \n",
       "... ...                   ...        ...        \n",
       "280 2                     1          YES        \n",
       "281 1                     1          NO         \n",
       "282 1                     2          NO         \n",
       "283 2                     2          NO         \n",
       "284 2                     2          YES        \n",
       "285 2                     2          YES        \n",
       "286 2                     1          YES        \n",
       "287 1                     1          NO         \n",
       "288 2                     1          YES        \n",
       "289 2                     1          YES        \n",
       "290 1                     1          YES        \n",
       "291 1                     2          YES        \n",
       "292 2                     2          YES        \n",
       "293 2                     1          YES        \n",
       "294 1                     2          YES        \n",
       "295 1                     2          YES        \n",
       "296 2                     2          YES        \n",
       "297 1                     1          YES        \n",
       "298 1                     1          YES        \n",
       "299 1                     2          YES        \n",
       "300 2                     1          YES        \n",
       "301 2                     2          YES        \n",
       "302 2                     2          YES        \n",
       "303 2                     1          YES        \n",
       "304 1                     2          YES        \n",
       "305 2                     1          YES        \n",
       "306 1                     2          YES        \n",
       "307 1                     2          YES        \n",
       "308 1                     2          YES        \n",
       "309 2                     1          YES        "
      ]
     },
     "metadata": {},
     "output_type": "display_data"
    }
   ],
   "source": [
    "data_set"
   ]
  },
  {
   "cell_type": "code",
   "execution_count": 75,
   "metadata": {
    "vscode": {
     "languageId": "r"
    }
   },
   "outputs": [
    {
     "data": {
      "text/plain": [
       " GENDER       AGE           SMOKING      YELLOW_FINGERS     ANXIETY     \n",
       " F:125   Min.   :38.00   Min.   :1.000   Min.   :1.000   Min.   :1.000  \n",
       " M:145   1st Qu.:58.00   1st Qu.:1.000   1st Qu.:1.000   1st Qu.:1.000  \n",
       "         Median :62.50   Median :2.000   Median :2.000   Median :2.000  \n",
       "         Mean   :62.95   Mean   :1.574   Mean   :1.604   Mean   :1.526  \n",
       "         3rd Qu.:69.00   3rd Qu.:2.000   3rd Qu.:2.000   3rd Qu.:2.000  \n",
       "         Max.   :81.00   Max.   :2.000   Max.   :2.000   Max.   :2.000  \n",
       " PEER_PRESSURE   CHRONIC.DISEASE    FATIGUE       ALLERGY         WHEEZING    \n",
       " Min.   :1.000   Min.   :1.000   Min.   :1.0   Min.   :1.000   Min.   :1.000  \n",
       " 1st Qu.:1.000   1st Qu.:1.000   1st Qu.:1.0   1st Qu.:1.000   1st Qu.:1.000  \n",
       " Median :2.000   Median :2.000   Median :2.0   Median :2.000   Median :2.000  \n",
       " Mean   :1.537   Mean   :1.526   Mean   :1.7   Mean   :1.619   Mean   :1.604  \n",
       " 3rd Qu.:2.000   3rd Qu.:2.000   3rd Qu.:2.0   3rd Qu.:2.000   3rd Qu.:2.000  \n",
       " Max.   :2.000   Max.   :2.000   Max.   :2.0   Max.   :2.000   Max.   :2.000  \n",
       " ALCOHOL.CONSUMING    COUGHING     SHORTNESS.OF.BREATH SWALLOWING.DIFFICULTY\n",
       " Min.   :1.000     Min.   :1.000   Min.   :1.000       Min.   :1.000        \n",
       " 1st Qu.:1.000     1st Qu.:1.000   1st Qu.:1.000       1st Qu.:1.000        \n",
       " Median :2.000     Median :2.000   Median :2.000       Median :2.000        \n",
       " Mean   :1.611     Mean   :1.626   Mean   :1.652       Mean   :1.519        \n",
       " 3rd Qu.:2.000     3rd Qu.:2.000   3rd Qu.:2.000       3rd Qu.:2.000        \n",
       " Max.   :2.000     Max.   :2.000   Max.   :2.000       Max.   :2.000        \n",
       "   CHEST.PAIN    LUNG_CANCER\n",
       " Min.   :1.000   NO :  0    \n",
       " 1st Qu.:1.000   YES:270    \n",
       " Median :2.000              \n",
       " Mean   :1.593              \n",
       " 3rd Qu.:2.000              \n",
       " Max.   :2.000              "
      ]
     },
     "metadata": {},
     "output_type": "display_data"
    }
   ],
   "source": [
    "data_set <- subset(data_set, LUNG_CANCER == \"YES\")\n",
    "summary(data_set)"
   ]
  },
  {
   "cell_type": "markdown",
   "metadata": {},
   "source": [
    "**Średnia arytmetyczna**"
   ]
  },
  {
   "cell_type": "code",
   "execution_count": 16,
   "metadata": {
    "vscode": {
     "languageId": "r"
    }
   },
   "outputs": [
    {
     "data": {
      "text/html": [
       "<dl class=dl-horizontal>\n",
       "\t<dt>F</dt>\n",
       "\t\t<dd>62.784</dd>\n",
       "\t<dt>M</dt>\n",
       "\t\t<dd>63.0965517241379</dd>\n",
       "</dl>\n"
      ],
      "text/latex": [
       "\\begin{description*}\n",
       "\\item[F] 62.784\n",
       "\\item[M] 63.0965517241379\n",
       "\\end{description*}\n"
      ],
      "text/markdown": [
       "F\n",
       ":   62.784M\n",
       ":   63.0965517241379\n",
       "\n"
      ],
      "text/plain": [
       "       F        M \n",
       "62.78400 63.09655 "
      ]
     },
     "metadata": {},
     "output_type": "display_data"
    }
   ],
   "source": [
    "tapply(data_set$AGE, data_set$GENDER, mean)"
   ]
  },
  {
   "cell_type": "code",
   "execution_count": 17,
   "metadata": {
    "vscode": {
     "languageId": "r"
    }
   },
   "outputs": [
    {
     "data": {
      "text/html": [
       "62.9518518518518"
      ],
      "text/latex": [
       "62.9518518518518"
      ],
      "text/markdown": [
       "62.9518518518518"
      ],
      "text/plain": [
       "[1] 62.95185"
      ]
     },
     "metadata": {},
     "output_type": "display_data"
    }
   ],
   "source": [
    "mean(data_set$AGE)"
   ]
  },
  {
   "cell_type": "markdown",
   "metadata": {},
   "source": [
    "**Średnia harmoniczna**"
   ]
  },
  {
   "cell_type": "code",
   "execution_count": 18,
   "metadata": {
    "vscode": {
     "languageId": "r"
    }
   },
   "outputs": [
    {
     "data": {
      "text/html": [
       "<dl class=dl-horizontal>\n",
       "\t<dt>F</dt>\n",
       "\t\t<dd>61.5830329383075</dd>\n",
       "\t<dt>M</dt>\n",
       "\t\t<dd>62.1738826735992</dd>\n",
       "</dl>\n"
      ],
      "text/latex": [
       "\\begin{description*}\n",
       "\\item[F] 61.5830329383075\n",
       "\\item[M] 62.1738826735992\n",
       "\\end{description*}\n"
      ],
      "text/markdown": [
       "F\n",
       ":   61.5830329383075M\n",
       ":   62.1738826735992\n",
       "\n"
      ],
      "text/plain": [
       "       F        M \n",
       "61.58303 62.17388 "
      ]
     },
     "metadata": {},
     "output_type": "display_data"
    }
   ],
   "source": [
    "tapply(data_set$AGE, data_set$GENDER, harmonic.mean)"
   ]
  },
  {
   "cell_type": "code",
   "execution_count": 19,
   "metadata": {
    "vscode": {
     "languageId": "r"
    }
   },
   "outputs": [
    {
     "data": {
      "text/html": [
       "61.8989379322753"
      ],
      "text/latex": [
       "61.8989379322753"
      ],
      "text/markdown": [
       "61.8989379322753"
      ],
      "text/plain": [
       "[1] 61.89894"
      ]
     },
     "metadata": {},
     "output_type": "display_data"
    }
   ],
   "source": [
    "harmonic.mean(data_set$AGE)"
   ]
  },
  {
   "cell_type": "markdown",
   "metadata": {},
   "source": [
    "**Średnia geometryczna**"
   ]
  },
  {
   "cell_type": "code",
   "execution_count": 20,
   "metadata": {
    "vscode": {
     "languageId": "r"
    }
   },
   "outputs": [
    {
     "data": {
      "text/html": [
       "<dl class=dl-horizontal>\n",
       "\t<dt>F</dt>\n",
       "\t\t<dd>62.1920542317242</dd>\n",
       "\t<dt>M</dt>\n",
       "\t\t<dd>62.6445929419632</dd>\n",
       "</dl>\n"
      ],
      "text/latex": [
       "\\begin{description*}\n",
       "\\item[F] 62.1920542317242\n",
       "\\item[M] 62.6445929419632\n",
       "\\end{description*}\n"
      ],
      "text/markdown": [
       "F\n",
       ":   62.1920542317242M\n",
       ":   62.6445929419632\n",
       "\n"
      ],
      "text/plain": [
       "       F        M \n",
       "62.19205 62.64459 "
      ]
     },
     "metadata": {},
     "output_type": "display_data"
    }
   ],
   "source": [
    "tapply(data_set$AGE, data_set$GENDER, geometric.mean)"
   ]
  },
  {
   "cell_type": "code",
   "execution_count": 21,
   "metadata": {
    "vscode": {
     "languageId": "r"
    }
   },
   "outputs": [
    {
     "data": {
      "text/html": [
       "62.4346763737523"
      ],
      "text/latex": [
       "62.4346763737523"
      ],
      "text/markdown": [
       "62.4346763737523"
      ],
      "text/plain": [
       "[1] 62.43468"
      ]
     },
     "metadata": {},
     "output_type": "display_data"
    }
   ],
   "source": [
    "geometric.mean(data_set$AGE)"
   ]
  },
  {
   "cell_type": "markdown",
   "metadata": {},
   "source": [
    "**Średnia ucinana**"
   ]
  },
  {
   "cell_type": "code",
   "execution_count": 22,
   "metadata": {
    "vscode": {
     "languageId": "r"
    }
   },
   "outputs": [],
   "source": [
    "su <- function(X, k=50) {\n",
    "  P <- sort(X)\n",
    "  return(1 / (length(P) - 2 * k) * sum(P[(k + 1):(length(P) - k)]))\n",
    "}"
   ]
  },
  {
   "cell_type": "code",
   "execution_count": 23,
   "metadata": {
    "scrolled": true,
    "vscode": {
     "languageId": "r"
    }
   },
   "outputs": [
    {
     "data": {
      "text/html": [
       "<dl class=dl-horizontal>\n",
       "\t<dt>F</dt>\n",
       "\t\t<dd>62.12</dd>\n",
       "\t<dt>M</dt>\n",
       "\t\t<dd>62.8222222222222</dd>\n",
       "</dl>\n"
      ],
      "text/latex": [
       "\\begin{description*}\n",
       "\\item[F] 62.12\n",
       "\\item[M] 62.8222222222222\n",
       "\\end{description*}\n"
      ],
      "text/markdown": [
       "F\n",
       ":   62.12M\n",
       ":   62.8222222222222\n",
       "\n"
      ],
      "text/plain": [
       "       F        M \n",
       "62.12000 62.82222 "
      ]
     },
     "metadata": {},
     "output_type": "display_data"
    }
   ],
   "source": [
    "tapply(data_set$AGE, data_set$GENDER, su)"
   ]
  },
  {
   "cell_type": "code",
   "execution_count": 24,
   "metadata": {
    "vscode": {
     "languageId": "r"
    }
   },
   "outputs": [
    {
     "data": {
      "text/html": [
       "62.8823529411765"
      ],
      "text/latex": [
       "62.8823529411765"
      ],
      "text/markdown": [
       "62.8823529411765"
      ],
      "text/plain": [
       "[1] 62.88235"
      ]
     },
     "metadata": {},
     "output_type": "display_data"
    }
   ],
   "source": [
    "su(data_set$AGE)"
   ]
  },
  {
   "cell_type": "code",
   "execution_count": 25,
   "metadata": {
    "vscode": {
     "languageId": "r"
    }
   },
   "outputs": [
    {
     "data": {
      "image/png": "[encoded data removed]",
      "text/plain": [
       "plot without title"
      ]
     },
     "metadata": {},
     "output_type": "display_data"
    }
   ],
   "source": [
    "k1 <- seq(0, length(data_set$AGE) / 2 - 1, 1)\n",
    "k2 <- numeric()\n",
    "for(t in 1:length(k1)) {\n",
    "  k2[t] <- su(data_set$AGE, k1[t])\n",
    "}\n",
    "options(repr.plot.width = 6, repr.plot.height = 5)\n",
    "plot(k1, k2)\n",
    "lines(k1, rep(mean(data_set$AGE), length(k1)), col = \"green\")"
   ]
  },
  {
   "cell_type": "markdown",
   "metadata": {},
   "source": [
    "**Średnia windsorowska**"
   ]
  },
  {
   "cell_type": "code",
   "execution_count": 26,
   "metadata": {
    "vscode": {
     "languageId": "r"
    }
   },
   "outputs": [],
   "source": [
    "sw <- function(X, k=50) {\n",
    "  P <- sort(X)\n",
    "  return(1 / length(P) * ((k + 1) * P[k + 1] + sum(P[(k + 2):(length(P) - k - 1)]) + (k + 1) * P[length(P) - k]))\n",
    "}"
   ]
  },
  {
   "cell_type": "code",
   "execution_count": 27,
   "metadata": {
    "vscode": {
     "languageId": "r"
    }
   },
   "outputs": [
    {
     "data": {
      "text/html": [
       "<dl class=dl-horizontal>\n",
       "\t<dt>F</dt>\n",
       "\t\t<dd>62.424</dd>\n",
       "\t<dt>M</dt>\n",
       "\t\t<dd>62.9448275862069</dd>\n",
       "</dl>\n"
      ],
      "text/latex": [
       "\\begin{description*}\n",
       "\\item[F] 62.424\n",
       "\\item[M] 62.9448275862069\n",
       "\\end{description*}\n"
      ],
      "text/markdown": [
       "F\n",
       ":   62.424M\n",
       ":   62.9448275862069\n",
       "\n"
      ],
      "text/plain": [
       "       F        M \n",
       "62.42400 62.94483 "
      ]
     },
     "metadata": {},
     "output_type": "display_data"
    }
   ],
   "source": [
    "tapply(data_set$AGE, data_set$GENDER, sw)"
   ]
  },
  {
   "cell_type": "code",
   "execution_count": 28,
   "metadata": {
    "vscode": {
     "languageId": "r"
    }
   },
   "outputs": [
    {
     "data": {
      "text/html": [
       "63.1111111111111"
      ],
      "text/latex": [
       "63.1111111111111"
      ],
      "text/markdown": [
       "63.1111111111111"
      ],
      "text/plain": [
       "[1] 63.11111"
      ]
     },
     "metadata": {},
     "output_type": "display_data"
    }
   ],
   "source": [
    "sw(data_set$AGE)"
   ]
  },
  {
   "cell_type": "code",
   "execution_count": 29,
   "metadata": {
    "vscode": {
     "languageId": "r"
    }
   },
   "outputs": [
    {
     "data": {
      "image/png": "[encoded data removed]",
      "text/plain": [
       "plot without title"
      ]
     },
     "metadata": {},
     "output_type": "display_data"
    }
   ],
   "source": [
    "k1 <- seq(0, length(data_set$AGE) / 2 - 2, 1)\n",
    "k2 <- numeric()\n",
    "for(t in 1:length(k1)) {\n",
    "  k2[t] <- sw(data_set$AGE, k1[t])\n",
    "}\n",
    "plot(k1, k2)\n",
    "lines(k1, rep(mean(data_set$AGE), length(k1)), col = \"green\")"
   ]
  },
  {
   "cell_type": "markdown",
   "metadata": {},
   "source": [
    "**Mediana**"
   ]
  },
  {
   "cell_type": "code",
   "execution_count": 30,
   "metadata": {
    "vscode": {
     "languageId": "r"
    }
   },
   "outputs": [
    {
     "data": {
      "text/html": [
       "<dl class=dl-horizontal>\n",
       "\t<dt>F</dt>\n",
       "\t\t<dd>62</dd>\n",
       "\t<dt>M</dt>\n",
       "\t\t<dd>63</dd>\n",
       "</dl>\n"
      ],
      "text/latex": [
       "\\begin{description*}\n",
       "\\item[F] 62\n",
       "\\item[M] 63\n",
       "\\end{description*}\n"
      ],
      "text/markdown": [
       "F\n",
       ":   62M\n",
       ":   63\n",
       "\n"
      ],
      "text/plain": [
       " F  M \n",
       "62 63 "
      ]
     },
     "metadata": {},
     "output_type": "display_data"
    }
   ],
   "source": [
    "tapply(data_set$AGE, data_set$GENDER, median)"
   ]
  },
  {
   "cell_type": "code",
   "execution_count": 31,
   "metadata": {
    "vscode": {
     "languageId": "r"
    }
   },
   "outputs": [
    {
     "data": {
      "text/html": [
       "62.5"
      ],
      "text/latex": [
       "62.5"
      ],
      "text/markdown": [
       "62.5"
      ],
      "text/plain": [
       "[1] 62.5"
      ]
     },
     "metadata": {},
     "output_type": "display_data"
    }
   ],
   "source": [
    "median(data_set$AGE)"
   ]
  },
  {
   "cell_type": "markdown",
   "metadata": {},
   "source": [
    "**Histogram**"
   ]
  },
  {
   "cell_type": "code",
   "execution_count": 76,
   "metadata": {
    "vscode": {
     "languageId": "r"
    }
   },
   "outputs": [
    {
     "data": {
      "text/html": [
       "<strong>png:</strong> 2"
      ],
      "text/latex": [
       "\\textbf{png:} 2"
      ],
      "text/markdown": [
       "**png:** 2"
      ],
      "text/plain": [
       "png \n",
       "  2 "
      ]
     },
     "metadata": {},
     "output_type": "display_data"
    }
   ],
   "source": [
    "jpeg(\"hist_base.jpg\", width = 600, height = 500)\n",
    "hist(data_set$AGE,\n",
    "    breaks = seq(min(data_set$AGE), max(data_set$AGE),\n",
    "    length.out = round(5 * log(length(data_set$AGE)))),\n",
    "    col = \"lightpink\", xlab = \"WIEK\", ylab = \"\",\n",
    "    main = \"Histogram liczebności\")\n",
    "dev.off()"
   ]
  },
  {
   "cell_type": "code",
   "execution_count": 159,
   "metadata": {
    "vscode": {
     "languageId": "r"
    }
   },
   "outputs": [
    {
     "data": {
      "image/png": "[encoded data removed]",
      "text/plain": [
       "Plot with title \"Histogram częstości\""
      ]
     },
     "metadata": {},
     "output_type": "display_data"
    }
   ],
   "source": [
    "#jpeg(\"hist_base_den.jpg\", width = 600, height = 500)\n",
    "hist(data_set$AGE,\n",
    "    breaks = seq(min(data_set$AGE), max(data_set$AGE),\n",
    "    length.out = round(5 * log(length(data_set$AGE)))),\n",
    "    col = \"lightpink\", freq = FALSE, xlab = \"WIEK\", ylab = \"\",\n",
    "    main = \"Histogram częstości\")\n",
    "f <- density(data_set$AGE)\n",
    "lines(f$x, f$y, col = \"green\")\n",
    "legend(38, 0.06, legend = \"gęstość empiryczna\", col = \"green\", lty = 1,\n",
    "    cex = 0.8)\n",
    "lines(x, dnorm(x, mean=62, sd=7.9))\n",
    "#dev.off()"
   ]
  },
  {
   "cell_type": "code",
   "execution_count": 136,
   "metadata": {
    "vscode": {
     "languageId": "r"
    }
   },
   "outputs": [
    {
     "data": {
      "image/png": "[encoded data removed]",
      "text/plain": [
       "Plot with title \"Histogram of age (women)\""
      ]
     },
     "metadata": {},
     "output_type": "display_data"
    }
   ],
   "source": [
    "women <- subset(data_set, GENDER == \"F\")\n",
    "hist(women$AGE,\n",
    "    breaks = seq(min(women$AGE), max(women$AGE),\n",
    "    length.out = round(5 * log(length(women$AGE)))),\n",
    "    col = \"lightpink\", freq = FALSE, xlab = \"Age\",\n",
    "    main = \"Histogram of age (women)\")\n",
    "f <- density(women$AGE)\n",
    "lines(f$x, f$y, col = \"green\")\n",
    "legend(20, 0.06, legend = \"density\", col = \"green\", lty = 1, cex = 0.8)"
   ]
  },
  {
   "cell_type": "code",
   "execution_count": 137,
   "metadata": {
    "vscode": {
     "languageId": "r"
    }
   },
   "outputs": [
    {
     "data": {
      "image/png": "[encoded data removed]",
      "text/plain": [
       "Plot with title \"Histogram of age (men)\""
      ]
     },
     "metadata": {},
     "output_type": "display_data"
    }
   ],
   "source": [
    "men <- subset(data_set, GENDER == \"M\")\n",
    "hist(men$AGE, breaks = seq(min(men$AGE), max(men$AGE),\n",
    "    length.out = round(5 * log(length(men$AGE)))),\n",
    "    col = \"pink\", freq = FALSE, xlab = \"Age\", main = \"Histogram of age (men)\")\n",
    "f <- density(men$AGE)\n",
    "lines(f$x, f$y, col = \"green\")\n",
    "legend(40, 0.08, legend = \"density\", col = \"green\", lty = 1, cex = 0.8)"
   ]
  },
  {
   "cell_type": "markdown",
   "metadata": {},
   "source": [
    "Boxplot"
   ]
  },
  {
   "cell_type": "code",
   "execution_count": 138,
   "metadata": {
    "vscode": {
     "languageId": "r"
    }
   },
   "outputs": [
    {
     "data": {
      "text/html": [
       "<strong>png:</strong> 2"
      ],
      "text/latex": [
       "\\textbf{png:} 2"
      ],
      "text/markdown": [
       "**png:** 2"
      ],
      "text/plain": [
       "png \n",
       "  2 "
      ]
     },
     "metadata": {},
     "output_type": "display_data"
    }
   ],
   "source": [
    "jpeg(\"boxplot_base.jpg\", width = 600, height = 500)\n",
    "options(repr.plot.width = 6, repr.plot.height = 5)\n",
    "boxplot(data_set$AGE, col = \"aquamarine\", border = \"violetred4\",\n",
    "    main = \"Wiek chorych\")\n",
    "dev.off()"
   ]
  },
  {
   "cell_type": "code",
   "execution_count": 139,
   "metadata": {
    "scrolled": false,
    "vscode": {
     "languageId": "r"
    }
   },
   "outputs": [
    {
     "data": {
      "image/png": "[encoded data removed]",
      "text/plain": [
       "plot without title"
      ]
     },
     "metadata": {},
     "output_type": "display_data"
    }
   ],
   "source": [
    "boxplot(women$AGE, men$AGE, col = \"aquamarine\",\n",
    "    border = \"violetred4\", names = c(\"women\", \"men\"))\n",
    "k <- seq(0, 5, 0.1)\n",
    "#lines(k, rep(mean(data_set$AGE), length(k)))"
   ]
  },
  {
   "cell_type": "code",
   "execution_count": 44,
   "metadata": {
    "vscode": {
     "languageId": "r"
    }
   },
   "outputs": [],
   "source": [
    "sm_women <- subset(women, SMOKING > 1)\n",
    "non_sm_women <- subset(women, SMOKING < 2)\n",
    "sm_men <- subset(men, SMOKING > 1)\n",
    "non_sm_men <- subset(men, SMOKING < 2)"
   ]
  },
  {
   "cell_type": "code",
   "execution_count": 45,
   "metadata": {
    "vscode": {
     "languageId": "r"
    }
   },
   "outputs": [
    {
     "data": {
      "text/html": [
       "<strong>png:</strong> 2"
      ],
      "text/latex": [
       "\\textbf{png:} 2"
      ],
      "text/markdown": [
       "**png:** 2"
      ],
      "text/plain": [
       "png \n",
       "  2 "
      ]
     },
     "metadata": {},
     "output_type": "display_data"
    }
   ],
   "source": [
    "jpeg(\"boxplot_gender_smoking.jpg\", width = 600, height = 800)\n",
    "options(repr.plot.width = 6, repr.plot.height = 10)\n",
    "boxplot(sm_women$AGE, sm_men$AGE, non_sm_women$AGE, non_sm_men$AGE,\n",
    "    horizontal = TRUE, col = \"aquamarine\", border = \"violetred4\",\n",
    "    names=c(\"smoking women\", \"smoking men\",\n",
    "        \"not smoking women\", \"not smoking men\"))\n",
    "dev.off()"
   ]
  },
  {
   "cell_type": "code",
   "execution_count": 46,
   "metadata": {
    "vscode": {
     "languageId": "r"
    }
   },
   "outputs": [
    {
     "data": {
      "image/png": "[encoded data removed]",
      "text/plain": [
       "plot without title"
      ]
     },
     "metadata": {},
     "output_type": "display_data"
    }
   ],
   "source": [
    "options(repr.plot.width = 6, repr.plot.height = 10)\n",
    "boxplot(sm_women$AGE, sm_men$AGE, non_sm_women$AGE, non_sm_men$AGE,\n",
    "    horizontal = TRUE, col = \"aquamarine\", border = \"violetred4\",\n",
    "    names=c(\"smoking women\", \"smoking men\",\n",
    "        \"not smoking women\", \"not smoking men\"))"
   ]
  },
  {
   "cell_type": "markdown",
   "metadata": {},
   "source": [
    "Dystrybuanta empiryczna"
   ]
  },
  {
   "cell_type": "code",
   "execution_count": 170,
   "metadata": {
    "vscode": {
     "languageId": "r"
    }
   },
   "outputs": [
    {
     "data": {
      "text/html": [
       "<strong>png:</strong> 2"
      ],
      "text/latex": [
       "\\textbf{png:} 2"
      ],
      "text/markdown": [
       "**png:** 2"
      ],
      "text/plain": [
       "png \n",
       "  2 "
      ]
     },
     "metadata": {},
     "output_type": "display_data"
    }
   ],
   "source": [
    "options(repr.plot.width = 6, repr.plot.height = 5)\n",
    "F <- ecdf(data_set$AGE)\n",
    "px <- seq(35, 85)\n",
    "jpeg(\"dystr_norm.jpg\", width = 600, height = 500)\n",
    "plot(x, F(x), ylab = \"F(x)\", col = \"purple\",\n",
    "    main = \"Dystrybuanta empiryczna\")\n",
    "#fit1 <- lm(F(x)~x)\n",
    "#second degree\n",
    "#fit2 <- lm(F(x)~poly(x,2,raw=TRUE))\n",
    "#third degree\n",
    "#fit3 <- lm(F(x)~poly(x,3,raw=TRUE))\n",
    "#fourth degree\n",
    "#fit4 <- lm(F(x)~poly(x,4,raw=TRUE))\n",
    "#lines(px, predict(fit1, data.frame(x=px)), col=\"red\")\n",
    "#lines(px, predict(fit2, data.frame(x=px)), col=\"green\")\n",
    "#lines(px, predict(fit3, data.frame(x=px)), col=\"blue\")\n",
    "#lines(px, predict(fit4, data.frame(x=px)), col=\"purple\")\n",
    "lines(x, pnorm(x, mean=62.95, sd=7.97), col = \"red\")\n",
    "legend(35, 1, legend = \"dystrybuanta N(62.95, 9.97)\", col = \"red\", lty = 1,\n",
    "    cex = 0.8)\n",
    "dev.off()"
   ]
  },
  {
   "cell_type": "code",
   "execution_count": 152,
   "metadata": {
    "vscode": {
     "languageId": "r"
    }
   },
   "outputs": [
    {
     "data": {
      "image/png": "[encoded data removed]",
      "text/plain": [
       "Plot with title \"Dystrybuanta empiryczna wieku badanych kobiet\""
      ]
     },
     "metadata": {},
     "output_type": "display_data"
    }
   ],
   "source": [
    "F1 <- ecdf(women$AGE)\n",
    "plot(x, F1(x), col = \"aquamarine3\", ylab = \"F(x)\",\n",
    "    main = \"Dystrybuanta empiryczna wieku badanych kobiet\")\n",
    "lines(x, pnorm(x, mean=62))"
   ]
  },
  {
   "cell_type": "code",
   "execution_count": 27,
   "metadata": {
    "vscode": {
     "languageId": "r"
    }
   },
   "outputs": [
    {
     "data": {
      "image/png": "[encoded data removed]",
      "text/plain": [
       "plot without title"
      ]
     },
     "metadata": {},
     "output_type": "display_data"
    }
   ],
   "source": [
    "F2 <- ecdf(men$AGE)\n",
    "plot(x, F2(x), col = \"purple\")"
   ]
  },
  {
   "cell_type": "code",
   "execution_count": 82,
   "metadata": {
    "vscode": {
     "languageId": "r"
    }
   },
   "outputs": [
    {
     "data": {
      "text/html": [
       "<dl class=dl-horizontal>\n",
       "\t<dt>1</dt>\n",
       "\t\t<dd>63.7739130434783</dd>\n",
       "\t<dt>2</dt>\n",
       "\t\t<dd>62.341935483871</dd>\n",
       "</dl>\n"
      ],
      "text/latex": [
       "\\begin{description*}\n",
       "\\item[1] 63.7739130434783\n",
       "\\item[2] 62.341935483871\n",
       "\\end{description*}\n"
      ],
      "text/markdown": [
       "1\n",
       ":   63.77391304347832\n",
       ":   62.341935483871\n",
       "\n"
      ],
      "text/plain": [
       "       1        2 \n",
       "63.77391 62.34194 "
      ]
     },
     "metadata": {},
     "output_type": "display_data"
    },
    {
     "data": {
      "text/plain": [
       "\n",
       "  1   2 \n",
       "115 155 "
      ]
     },
     "metadata": {},
     "output_type": "display_data"
    }
   ],
   "source": [
    "tapply(data_set$AGE, data_set$SMOKING, mean)\n",
    "table(data_set$SMOKING)"
   ]
  },
  {
   "cell_type": "code",
   "execution_count": 78,
   "metadata": {
    "vscode": {
     "languageId": "r"
    }
   },
   "outputs": [
    {
     "data": {
      "text/html": [
       "<strong>png:</strong> 2"
      ],
      "text/latex": [
       "\\textbf{png:} 2"
      ],
      "text/markdown": [
       "**png:** 2"
      ],
      "text/plain": [
       "png \n",
       "  2 "
      ]
     },
     "metadata": {},
     "output_type": "display_data"
    }
   ],
   "source": [
    "smoke <- subset(data_set, SMOKING > 1)\n",
    "non_smoke <- subset(data_set, SMOKING < 2)\n",
    "jpeg(\"boxplot_smoking.jpg\", width = 600, height = 600)\n",
    "options(repr.plot.width = 7, repr.plot.height = 5)\n",
    "boxplot(smoke$AGE, non_smoke$AGE, horizontal = TRUE, col = \"aquamarine\",\n",
    "    border = \"violetred4\", names = c(\"PALĄCY\", \"NIEPALĄCY\"))\n",
    "dev.off()"
   ]
  },
  {
   "cell_type": "code",
   "execution_count": 120,
   "metadata": {
    "vscode": {
     "languageId": "r"
    }
   },
   "outputs": [
    {
     "data": {
      "text/html": [
       "<strong>png:</strong> 2"
      ],
      "text/latex": [
       "\\textbf{png:} 2"
      ],
      "text/markdown": [
       "**png:** 2"
      ],
      "text/plain": [
       "png \n",
       "  2 "
      ]
     },
     "metadata": {},
     "output_type": "display_data"
    }
   ],
   "source": [
    "c1 <- rgb(204, 0, 86, max = 255, names = \"lt.red\")\n",
    "c2 <- rgb(173, 150, 214, max = 255, names = \"lt.green\")\n",
    "jpeg(\"hist_smoking.jpg\", width = 800, height = 600)\n",
    "h1 <- hist(smoke$AGE, breaks = seq(min(smoke$AGE), max(smoke$AGE),\n",
    "    length.out = round(5 * log(length(smoke$AGE)))), plot = FALSE)\n",
    "h2 <- hist(non_smoke$AGE, breaks = seq(min(non_smoke$AGE), max(non_smoke$AGE),\n",
    "    length.out = round(5 * log(length(non_smoke$AGE)))), plot = FALSE)\n",
    "\n",
    "plot(h1, col = c1, main = \"Histogram wieku palących i niepalących\",\n",
    "    xlab = \"WIEK\", ylab = \"\")\n",
    "plot(h2, col = c2, add = TRUE)\n",
    "legend(38, 20, legend = c(\"palący\", \"niepalący\"),\n",
    "    col = c(c1, c2), lwd = 3, cex = 1.2)\n",
    "dev.off()"
   ]
  },
  {
   "cell_type": "code",
   "execution_count": 126,
   "metadata": {
    "vscode": {
     "languageId": "r"
    }
   },
   "outputs": [
    {
     "data": {
      "text/html": [
       "40"
      ],
      "text/latex": [
       "40"
      ],
      "text/markdown": [
       "40"
      ],
      "text/plain": [
       "[1] 40"
      ]
     },
     "metadata": {},
     "output_type": "display_data"
    },
    {
     "data": {
      "text/html": [
       "90"
      ],
      "text/latex": [
       "90"
      ],
      "text/markdown": [
       "90"
      ],
      "text/plain": [
       "[1] 90"
      ]
     },
     "metadata": {},
     "output_type": "display_data"
    },
    {
     "data": {
      "image/png": "[encoded data removed]",
      "text/plain": [
       "plot without title"
      ]
     },
     "metadata": {},
     "output_type": "display_data"
    }
   ],
   "source": [
    "bad <- subset(data_set, SMOKING > 1 & ALCOHOL.CONSUMING > 1)\n",
    "good <- subset(data_set, SMOKING < 2 & ALCOHOL.CONSUMING < 2)\n",
    "#options(repr.plot.width = 7, repr.plot.height = 5)\n",
    "#boxplot(data_set$AGE, bad$AGE, good$AGE, horizontal = TRUE, col = \"aquamarine\",\n",
    "#    border = \"violetred4\", names = c(\"całość\", \"zły\", \"dobry\"))\n",
    "#length(good$AGE)\n",
    "#length(bad$AGE)\n",
    "#hist(bad$AGE, breaks = seq(min(bad$AGE), max(bad$AGE),\n",
    "#    length.out = round(5 * log(length(bad$AGE)))))\n",
    "#hist(good$AGE, breaks = seq(min(good$AGE), max(good$AGE),\n",
    " #   length.out = round(5 * log(length(good$AGE)))))"
   ]
  },
  {
   "cell_type": "code",
   "execution_count": 123,
   "metadata": {
    "vscode": {
     "languageId": "r"
    }
   },
   "outputs": [
    {
     "data": {
      "text/plain": [
       " GENDER       AGE           SMOKING      YELLOW_FINGERS     ANXIETY     \n",
       " F:125   Min.   :38.00   Min.   :1.000   Min.   :1.000   Min.   :1.000  \n",
       " M:145   1st Qu.:58.00   1st Qu.:1.000   1st Qu.:1.000   1st Qu.:1.000  \n",
       "         Median :62.50   Median :2.000   Median :2.000   Median :2.000  \n",
       "         Mean   :62.95   Mean   :1.574   Mean   :1.604   Mean   :1.526  \n",
       "         3rd Qu.:69.00   3rd Qu.:2.000   3rd Qu.:2.000   3rd Qu.:2.000  \n",
       "         Max.   :81.00   Max.   :2.000   Max.   :2.000   Max.   :2.000  \n",
       " PEER_PRESSURE   CHRONIC.DISEASE    FATIGUE       ALLERGY         WHEEZING    \n",
       " Min.   :1.000   Min.   :1.000   Min.   :1.0   Min.   :1.000   Min.   :1.000  \n",
       " 1st Qu.:1.000   1st Qu.:1.000   1st Qu.:1.0   1st Qu.:1.000   1st Qu.:1.000  \n",
       " Median :2.000   Median :2.000   Median :2.0   Median :2.000   Median :2.000  \n",
       " Mean   :1.537   Mean   :1.526   Mean   :1.7   Mean   :1.619   Mean   :1.604  \n",
       " 3rd Qu.:2.000   3rd Qu.:2.000   3rd Qu.:2.0   3rd Qu.:2.000   3rd Qu.:2.000  \n",
       " Max.   :2.000   Max.   :2.000   Max.   :2.0   Max.   :2.000   Max.   :2.000  \n",
       " ALCOHOL.CONSUMING    COUGHING     SHORTNESS.OF.BREATH SWALLOWING.DIFFICULTY\n",
       " Min.   :1.000     Min.   :1.000   Min.   :1.000       Min.   :1.000        \n",
       " 1st Qu.:1.000     1st Qu.:1.000   1st Qu.:1.000       1st Qu.:1.000        \n",
       " Median :2.000     Median :2.000   Median :2.000       Median :2.000        \n",
       " Mean   :1.611     Mean   :1.626   Mean   :1.652       Mean   :1.519        \n",
       " 3rd Qu.:2.000     3rd Qu.:2.000   3rd Qu.:2.000       3rd Qu.:2.000        \n",
       " Max.   :2.000     Max.   :2.000   Max.   :2.000       Max.   :2.000        \n",
       "   CHEST.PAIN    LUNG_CANCER\n",
       " Min.   :1.000   NO :  0    \n",
       " 1st Qu.:1.000   YES:270    \n",
       " Median :2.000              \n",
       " Mean   :1.593              \n",
       " 3rd Qu.:2.000              \n",
       " Max.   :2.000              "
      ]
     },
     "metadata": {},
     "output_type": "display_data"
    }
   ],
   "source": [
    "summary(data_set)"
   ]
  },
  {
   "cell_type": "code",
   "execution_count": 124,
   "metadata": {
    "vscode": {
     "languageId": "r"
    }
   },
   "outputs": [
    {
     "data": {
      "text/html": [
       "<table>\n",
       "<thead><tr><th></th><th scope=col>GENDER</th><th scope=col>AGE</th><th scope=col>SMOKING</th><th scope=col>YELLOW_FINGERS</th><th scope=col>ANXIETY</th><th scope=col>PEER_PRESSURE</th><th scope=col>CHRONIC.DISEASE</th><th scope=col>FATIGUE</th><th scope=col>ALLERGY</th><th scope=col>WHEEZING</th><th scope=col>ALCOHOL.CONSUMING</th><th scope=col>COUGHING</th><th scope=col>SHORTNESS.OF.BREATH</th><th scope=col>SWALLOWING.DIFFICULTY</th><th scope=col>CHEST.PAIN</th><th scope=col>LUNG_CANCER</th></tr></thead>\n",
       "<tbody>\n",
       "\t<tr><th scope=row>239</th><td>F  </td><td>38 </td><td>1  </td><td>2  </td><td>1  </td><td>1  </td><td>2  </td><td>2  </td><td>2  </td><td>2  </td><td>1  </td><td>2  </td><td>2  </td><td>1  </td><td>2  </td><td>YES</td></tr>\n",
       "\t<tr><th scope=row>262</th><td>M  </td><td>39 </td><td>2  </td><td>1  </td><td>1  </td><td>2  </td><td>1  </td><td>2  </td><td>2  </td><td>2  </td><td>2  </td><td>1  </td><td>2  </td><td>1  </td><td>2  </td><td>YES</td></tr>\n",
       "</tbody>\n",
       "</table>\n"
      ],
      "text/latex": [
       "\\begin{tabular}{r|llllllllllllllll}\n",
       "  & GENDER & AGE & SMOKING & YELLOW\\_FINGERS & ANXIETY & PEER\\_PRESSURE & CHRONIC.DISEASE & FATIGUE & ALLERGY & WHEEZING & ALCOHOL.CONSUMING & COUGHING & SHORTNESS.OF.BREATH & SWALLOWING.DIFFICULTY & CHEST.PAIN & LUNG\\_CANCER\\\\\n",
       "\\hline\n",
       "\t239 & F   & 38  & 1   & 2   & 1   & 1   & 2   & 2   & 2   & 2   & 1   & 2   & 2   & 1   & 2   & YES\\\\\n",
       "\t262 & M   & 39  & 2   & 1   & 1   & 2   & 1   & 2   & 2   & 2   & 2   & 1   & 2   & 1   & 2   & YES\\\\\n",
       "\\end{tabular}\n"
      ],
      "text/markdown": [
       "\n",
       "| <!--/--> | GENDER | AGE | SMOKING | YELLOW_FINGERS | ANXIETY | PEER_PRESSURE | CHRONIC.DISEASE | FATIGUE | ALLERGY | WHEEZING | ALCOHOL.CONSUMING | COUGHING | SHORTNESS.OF.BREATH | SWALLOWING.DIFFICULTY | CHEST.PAIN | LUNG_CANCER |\n",
       "|---|---|---|---|---|---|---|---|---|---|---|---|---|---|---|---|---|\n",
       "| 239 | F   | 38  | 1   | 2   | 1   | 1   | 2   | 2   | 2   | 2   | 1   | 2   | 2   | 1   | 2   | YES |\n",
       "| 262 | M   | 39  | 2   | 1   | 1   | 2   | 1   | 2   | 2   | 2   | 2   | 1   | 2   | 1   | 2   | YES |\n",
       "\n"
      ],
      "text/plain": [
       "    GENDER AGE SMOKING YELLOW_FINGERS ANXIETY PEER_PRESSURE CHRONIC.DISEASE\n",
       "239 F      38  1       2              1       1             2              \n",
       "262 M      39  2       1              1       2             1              \n",
       "    FATIGUE ALLERGY WHEEZING ALCOHOL.CONSUMING COUGHING SHORTNESS.OF.BREATH\n",
       "239 2       2       2        1                 2        2                  \n",
       "262 2       2       2        2                 1        2                  \n",
       "    SWALLOWING.DIFFICULTY CHEST.PAIN LUNG_CANCER\n",
       "239 1                     2          YES        \n",
       "262 1                     2          YES        "
      ]
     },
     "metadata": {},
     "output_type": "display_data"
    }
   ],
   "source": [
    "subset(data_set, AGE < 42)"
   ]
  },
  {
   "cell_type": "code",
   "execution_count": 134,
   "metadata": {
    "vscode": {
     "languageId": "r"
    }
   },
   "outputs": [
    {
     "data": {
      "image/png": "[encoded data removed]",
      "text/plain": [
       "plot without title"
      ]
     },
     "metadata": {},
     "output_type": "display_data"
    }
   ],
   "source": [
    "anx <- subset(data_set, ANXIETY > 1)\n",
    "no_anx <- subset(data_set, ANXIETY < 2)\n",
    "boxplot(no_anx$AGE, anx$AGE, names = c(\"no anxiety\", \"anxiety\"))"
   ]
  },
  {
   "cell_type": "code",
   "execution_count": null,
   "metadata": {
    "vscode": {
     "languageId": "r"
    }
   },
   "outputs": [],
   "source": [
    "anx <- subset(data_set, ANXIETY > 1)\n",
    "no_anx <- subset(data_set, ANXIETY < 2)\n",
    "boxplot(no_anx$AGE, anx$AGE, names = c(\"no anxiety\", \"anxiety\"))"
   ]
  },
  {
   "cell_type": "code",
   "execution_count": 144,
   "metadata": {
    "vscode": {
     "languageId": "r"
    }
   },
   "outputs": [
    {
     "data": {
      "text/html": [
       "55"
      ],
      "text/latex": [
       "55"
      ],
      "text/markdown": [
       "55"
      ],
      "text/plain": [
       "[1] 55"
      ]
     },
     "metadata": {},
     "output_type": "display_data"
    }
   ],
   "source": [
    "length(women[women$SMOKING == 1,]$SMOKING)"
   ]
  },
  {
   "cell_type": "code",
   "execution_count": 145,
   "metadata": {
    "vscode": {
     "languageId": "r"
    }
   },
   "outputs": [
    {
     "data": {
      "text/html": [
       "60"
      ],
      "text/latex": [
       "60"
      ],
      "text/markdown": [
       "60"
      ],
      "text/plain": [
       "[1] 60"
      ]
     },
     "metadata": {},
     "output_type": "display_data"
    }
   ],
   "source": [
    "length(men[men$SMOKING == 1,]$SMOKING)"
   ]
  },
  {
   "cell_type": "code",
   "execution_count": 149,
   "metadata": {
    "vscode": {
     "languageId": "r"
    }
   },
   "outputs": [
    {
     "data": {
      "image/png": "[encoded data removed]",
      "text/plain": [
       "plot without title"
      ]
     },
     "metadata": {},
     "output_type": "display_data"
    }
   ],
   "source": [
    "plot(x, pnorm(x))"
   ]
  },
  {
   "cell_type": "code",
   "execution_count": 151,
   "metadata": {
    "vscode": {
     "languageId": "r"
    }
   },
   "outputs": [
    {
     "name": "stdout",
     "output_type": "stream",
     "text": [
      "Normal                  package:stats                  R Documentation\n",
      "\n",
      "_\bT_\bh_\be _\bN_\bo_\br_\bm_\ba_\bl _\bD_\bi_\bs_\bt_\br_\bi_\bb_\bu_\bt_\bi_\bo_\bn\n",
      "\n",
      "_\bD_\be_\bs_\bc_\br_\bi_\bp_\bt_\bi_\bo_\bn:\n",
      "\n",
      "     Density, distribution function, quantile function and random\n",
      "     generation for the normal distribution with mean equal to 'mean'\n",
      "     and standard deviation equal to 'sd'.\n",
      "\n",
      "_\bU_\bs_\ba_\bg_\be:\n",
      "\n",
      "     dnorm(x, mean = 0, sd = 1, log = FALSE)\n",
      "     pnorm(q, mean = 0, sd = 1, lower.tail = TRUE, log.p = FALSE)\n",
      "     qnorm(p, mean = 0, sd = 1, lower.tail = TRUE, log.p = FALSE)\n",
      "     rnorm(n, mean = 0, sd = 1)\n",
      "     \n",
      "_\bA_\br_\bg_\bu_\bm_\be_\bn_\bt_\bs:\n",
      "\n",
      "    x, q: vector of quantiles.\n",
      "\n",
      "       p: vector of probabilities.\n",
      "\n",
      "       n: number of observations. If 'length(n) > 1', the length is\n",
      "          taken to be the number required.\n",
      "\n",
      "    mean: vector of means.\n",
      "\n",
      "      sd: vector of standard deviations.\n",
      "\n",
      "log, log.p: logical; if TRUE, probabilities p are given as log(p).\n",
      "\n",
      "lower.tail: logical; if TRUE (default), probabilities are P[X <= x]\n",
      "          otherwise, P[X > x].\n",
      "\n",
      "_\bD_\be_\bt_\ba_\bi_\bl_\bs:\n",
      "\n",
      "     If 'mean' or 'sd' are not specified they assume the default values\n",
      "     of '0' and '1', respectively.\n",
      "\n",
      "     The normal distribution has density\n",
      "\n",
      "            f(x) = 1/(sqrt(2 pi) sigma) e^-((x - mu)^2/(2 sigma^2))     \n",
      "     \n",
      "     where mu is the mean of the distribution and sigma the standard\n",
      "     deviation.\n",
      "\n",
      "_\bV_\ba_\bl_\bu_\be:\n",
      "\n",
      "     'dnorm' gives the density, 'pnorm' gives the distribution\n",
      "     function, 'qnorm' gives the quantile function, and 'rnorm'\n",
      "     generates random deviates.\n",
      "\n",
      "     The length of the result is determined by 'n' for 'rnorm', and is\n",
      "     the maximum of the lengths of the numerical arguments for the\n",
      "     other functions.\n",
      "\n",
      "     The numerical arguments other than 'n' are recycled to the length\n",
      "     of the result.  Only the first elements of the logical arguments\n",
      "     are used.\n",
      "\n",
      "     For 'sd = 0' this gives the limit as 'sd' decreases to 0, a point\n",
      "     mass at 'mu'.  'sd < 0' is an error and returns 'NaN'.\n",
      "\n",
      "_\bS_\bo_\bu_\br_\bc_\be:\n",
      "\n",
      "     For 'pnorm', based on\n",
      "\n",
      "     Cody, W. D. (1993) Algorithm 715: SPECFUN - A portable FORTRAN\n",
      "     package of special function routines and test drivers.  _ACM\n",
      "     Transactions on Mathematical Software_ *19*, 22-32.\n",
      "\n",
      "     For 'qnorm', the code is a C translation of\n",
      "\n",
      "     Wichura, M. J. (1988) Algorithm AS 241: The percentage points of\n",
      "     the normal distribution.  _Applied Statistics_, *37*, 477-484.\n",
      "\n",
      "     which provides precise results up to about 16 digits.\n",
      "\n",
      "     For 'rnorm', see RNG for how to select the algorithm and for\n",
      "     references to the supplied methods.\n",
      "\n",
      "_\bR_\be_\bf_\be_\br_\be_\bn_\bc_\be_\bs:\n",
      "\n",
      "     Becker, R. A., Chambers, J. M. and Wilks, A. R. (1988) _The New S\n",
      "     Language_.  Wadsworth & Brooks/Cole.\n",
      "\n",
      "     Johnson, N. L., Kotz, S. and Balakrishnan, N. (1995) _Continuous\n",
      "     Univariate Distributions_, volume 1, chapter 13.  Wiley, New York.\n",
      "\n",
      "_\bS_\be_\be _\bA_\bl_\bs_\bo:\n",
      "\n",
      "     Distributions for other standard distributions, including 'dlnorm'\n",
      "     for the _Log_normal distribution.\n",
      "\n",
      "_\bE_\bx_\ba_\bm_\bp_\bl_\be_\bs:\n",
      "\n",
      "     require(graphics)\n",
      "     \n",
      "     dnorm(0) == 1/sqrt(2*pi)\n",
      "     dnorm(1) == exp(-1/2)/sqrt(2*pi)\n",
      "     dnorm(1) == 1/sqrt(2*pi*exp(1))\n",
      "     \n",
      "     ## Using \"log = TRUE\" for an extended range :\n",
      "     par(mfrow = c(2,1))\n",
      "     plot(function(x) dnorm(x, log = TRUE), -60, 50,\n",
      "          main = \"log { Normal density }\")\n",
      "     curve(log(dnorm(x)), add = TRUE, col = \"red\", lwd = 2)\n",
      "     mtext(\"dnorm(x, log=TRUE)\", adj = 0)\n",
      "     mtext(\"log(dnorm(x))\", col = \"red\", adj = 1)\n",
      "     \n",
      "     plot(function(x) pnorm(x, log.p = TRUE), -50, 10,\n",
      "          main = \"log { Normal Cumulative }\")\n",
      "     curve(log(pnorm(x)), add = TRUE, col = \"red\", lwd = 2)\n",
      "     mtext(\"pnorm(x, log=TRUE)\", adj = 0)\n",
      "     mtext(\"log(pnorm(x))\", col = \"red\", adj = 1)\n",
      "     \n",
      "     ## if you want the so-called 'error function'\n",
      "     erf <- function(x) 2 * pnorm(x * sqrt(2)) - 1\n",
      "     ## (see Abramowitz and Stegun 29.2.29)\n",
      "     ## and the so-called 'complementary error function'\n",
      "     erfc <- function(x) 2 * pnorm(x * sqrt(2), lower = FALSE)\n",
      "     ## and the inverses\n",
      "     erfinv <- function (x) qnorm((1 + x)/2)/sqrt(2)\n",
      "     erfcinv <- function (x) qnorm(x/2, lower = FALSE)/sqrt(2)\n",
      "     "
     ]
    }
   ],
   "source": [
    "help(pnorm)"
   ]
  },
  {
   "cell_type": "code",
   "execution_count": null,
   "metadata": {
    "vscode": {
     "languageId": "r"
    }
   },
   "outputs": [],
   "source": []
  }
 ],
 "metadata": {
  "kernelspec": {
   "display_name": "R",
   "language": "R",
   "name": "ir"
  },
  "language_info": {
   "codemirror_mode": "r",
   "file_extension": ".r",
   "mimetype": "text/x-r-source",
   "name": "R",
   "pygments_lexer": "r",
   "version": "3.6.1"
  }
 },
 "nbformat": 4,
 "nbformat_minor": 4
}
