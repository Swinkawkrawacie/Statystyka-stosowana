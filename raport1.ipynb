{
 "cells": [
  {
   "cell_type": "markdown",
   "metadata": {},
   "source": [
    "Źródło danych:\n",
    "https://www.kaggle.com/datasets/mysarahmadbhat/lung-cancer?resource=download"
   ]
  },
  {
   "cell_type": "code",
   "execution_count": 1,
   "metadata": {
    "vscode": {
     "languageId": "r"
    }
   },
   "outputs": [],
   "source": [
    "data_set = read.csv('survey lung cancer.csv')"
   ]
  },
  {
   "cell_type": "code",
   "execution_count": 2,
   "metadata": {
    "vscode": {
     "languageId": "r"
    }
   },
   "outputs": [],
   "source": [
    "library(\"psych\")\n",
    "library(repr)"
   ]
  },
  {
   "cell_type": "code",
   "execution_count": 3,
   "metadata": {
    "vscode": {
     "languageId": "r"
    }
   },
   "outputs": [
    {
     "data": {
      "text/plain": [
       " GENDER       AGE           SMOKING      YELLOW_FINGERS     ANXIETY     \n",
       " F:125   Min.   :38.00   Min.   :1.000   Min.   :1.000   Min.   :1.000  \n",
       " M:145   1st Qu.:58.00   1st Qu.:1.000   1st Qu.:1.000   1st Qu.:1.000  \n",
       "         Median :62.50   Median :2.000   Median :2.000   Median :2.000  \n",
       "         Mean   :62.95   Mean   :1.574   Mean   :1.604   Mean   :1.526  \n",
       "         3rd Qu.:69.00   3rd Qu.:2.000   3rd Qu.:2.000   3rd Qu.:2.000  \n",
       "         Max.   :81.00   Max.   :2.000   Max.   :2.000   Max.   :2.000  \n",
       " PEER_PRESSURE   CHRONIC.DISEASE    FATIGUE       ALLERGY         WHEEZING    \n",
       " Min.   :1.000   Min.   :1.000   Min.   :1.0   Min.   :1.000   Min.   :1.000  \n",
       " 1st Qu.:1.000   1st Qu.:1.000   1st Qu.:1.0   1st Qu.:1.000   1st Qu.:1.000  \n",
       " Median :2.000   Median :2.000   Median :2.0   Median :2.000   Median :2.000  \n",
       " Mean   :1.537   Mean   :1.526   Mean   :1.7   Mean   :1.619   Mean   :1.604  \n",
       " 3rd Qu.:2.000   3rd Qu.:2.000   3rd Qu.:2.0   3rd Qu.:2.000   3rd Qu.:2.000  \n",
       " Max.   :2.000   Max.   :2.000   Max.   :2.0   Max.   :2.000   Max.   :2.000  \n",
       " ALCOHOL.CONSUMING    COUGHING     SHORTNESS.OF.BREATH SWALLOWING.DIFFICULTY\n",
       " Min.   :1.000     Min.   :1.000   Min.   :1.000       Min.   :1.000        \n",
       " 1st Qu.:1.000     1st Qu.:1.000   1st Qu.:1.000       1st Qu.:1.000        \n",
       " Median :2.000     Median :2.000   Median :2.000       Median :2.000        \n",
       " Mean   :1.611     Mean   :1.626   Mean   :1.652       Mean   :1.519        \n",
       " 3rd Qu.:2.000     3rd Qu.:2.000   3rd Qu.:2.000       3rd Qu.:2.000        \n",
       " Max.   :2.000     Max.   :2.000   Max.   :2.000       Max.   :2.000        \n",
       "   CHEST.PAIN    LUNG_CANCER\n",
       " Min.   :1.000   NO :  0    \n",
       " 1st Qu.:1.000   YES:270    \n",
       " Median :2.000              \n",
       " Mean   :1.593              \n",
       " 3rd Qu.:2.000              \n",
       " Max.   :2.000              "
      ]
     },
     "metadata": {},
     "output_type": "display_data"
    }
   ],
   "source": [
    "data_set <- subset(data_set, LUNG_CANCER == \"YES\")\n",
    "summary(data_set)"
   ]
  },
  {
   "cell_type": "markdown",
   "metadata": {},
   "source": [
    "**Średnia arytmetyczna**"
   ]
  },
  {
   "cell_type": "code",
   "execution_count": 4,
   "metadata": {
    "vscode": {
     "languageId": "r"
    }
   },
   "outputs": [
    {
     "data": {
      "text/html": [
       "<dl class=dl-horizontal>\n",
       "\t<dt>F</dt>\n",
       "\t\t<dd>62.784</dd>\n",
       "\t<dt>M</dt>\n",
       "\t\t<dd>63.0965517241379</dd>\n",
       "</dl>\n"
      ],
      "text/latex": [
       "\\begin{description*}\n",
       "\\item[F] 62.784\n",
       "\\item[M] 63.0965517241379\n",
       "\\end{description*}\n"
      ],
      "text/markdown": [
       "F\n",
       ":   62.784M\n",
       ":   63.0965517241379\n",
       "\n"
      ],
      "text/plain": [
       "       F        M \n",
       "62.78400 63.09655 "
      ]
     },
     "metadata": {},
     "output_type": "display_data"
    }
   ],
   "source": [
    "tapply(data_set$AGE, data_set$GENDER, mean)"
   ]
  },
  {
   "cell_type": "code",
   "execution_count": 5,
   "metadata": {
    "vscode": {
     "languageId": "r"
    }
   },
   "outputs": [
    {
     "data": {
      "text/html": [
       "62.9518518518518"
      ],
      "text/latex": [
       "62.9518518518518"
      ],
      "text/markdown": [
       "62.9518518518518"
      ],
      "text/plain": [
       "[1] 62.95185"
      ]
     },
     "metadata": {},
     "output_type": "display_data"
    }
   ],
   "source": [
    "mean(data_set$AGE)"
   ]
  },
  {
   "cell_type": "markdown",
   "metadata": {},
   "source": [
    "**Średnia harmoniczna**"
   ]
  },
  {
   "cell_type": "code",
   "execution_count": 6,
   "metadata": {
    "vscode": {
     "languageId": "r"
    }
   },
   "outputs": [
    {
     "data": {
      "text/html": [
       "<dl class=dl-horizontal>\n",
       "\t<dt>F</dt>\n",
       "\t\t<dd>61.5830329383075</dd>\n",
       "\t<dt>M</dt>\n",
       "\t\t<dd>62.1738826735992</dd>\n",
       "</dl>\n"
      ],
      "text/latex": [
       "\\begin{description*}\n",
       "\\item[F] 61.5830329383075\n",
       "\\item[M] 62.1738826735992\n",
       "\\end{description*}\n"
      ],
      "text/markdown": [
       "F\n",
       ":   61.5830329383075M\n",
       ":   62.1738826735992\n",
       "\n"
      ],
      "text/plain": [
       "       F        M \n",
       "61.58303 62.17388 "
      ]
     },
     "metadata": {},
     "output_type": "display_data"
    }
   ],
   "source": [
    "tapply(data_set$AGE, data_set$GENDER, harmonic.mean)"
   ]
  },
  {
   "cell_type": "code",
   "execution_count": 7,
   "metadata": {
    "vscode": {
     "languageId": "r"
    }
   },
   "outputs": [
    {
     "data": {
      "text/html": [
       "61.8989379322753"
      ],
      "text/latex": [
       "61.8989379322753"
      ],
      "text/markdown": [
       "61.8989379322753"
      ],
      "text/plain": [
       "[1] 61.89894"
      ]
     },
     "metadata": {},
     "output_type": "display_data"
    }
   ],
   "source": [
    "harmonic.mean(data_set$AGE)"
   ]
  },
  {
   "cell_type": "markdown",
   "metadata": {},
   "source": [
    "**Średnia geometryczna**"
   ]
  },
  {
   "cell_type": "code",
   "execution_count": 8,
   "metadata": {
    "vscode": {
     "languageId": "r"
    }
   },
   "outputs": [
    {
     "data": {
      "text/html": [
       "<dl class=dl-horizontal>\n",
       "\t<dt>F</dt>\n",
       "\t\t<dd>62.1920542317242</dd>\n",
       "\t<dt>M</dt>\n",
       "\t\t<dd>62.6445929419632</dd>\n",
       "</dl>\n"
      ],
      "text/latex": [
       "\\begin{description*}\n",
       "\\item[F] 62.1920542317242\n",
       "\\item[M] 62.6445929419632\n",
       "\\end{description*}\n"
      ],
      "text/markdown": [
       "F\n",
       ":   62.1920542317242M\n",
       ":   62.6445929419632\n",
       "\n"
      ],
      "text/plain": [
       "       F        M \n",
       "62.19205 62.64459 "
      ]
     },
     "metadata": {},
     "output_type": "display_data"
    }
   ],
   "source": [
    "tapply(data_set$AGE, data_set$GENDER, geometric.mean)"
   ]
  },
  {
   "cell_type": "code",
   "execution_count": 9,
   "metadata": {
    "vscode": {
     "languageId": "r"
    }
   },
   "outputs": [
    {
     "data": {
      "text/html": [
       "62.4346763737523"
      ],
      "text/latex": [
       "62.4346763737523"
      ],
      "text/markdown": [
       "62.4346763737523"
      ],
      "text/plain": [
       "[1] 62.43468"
      ]
     },
     "metadata": {},
     "output_type": "display_data"
    }
   ],
   "source": [
    "geometric.mean(data_set$AGE)"
   ]
  },
  {
   "cell_type": "markdown",
   "metadata": {},
   "source": [
    "**Średnia ucinana**"
   ]
  },
  {
   "cell_type": "code",
   "execution_count": 10,
   "metadata": {
    "vscode": {
     "languageId": "r"
    }
   },
   "outputs": [],
   "source": [
    "su <- function(X, k=50) {\n",
    "  P <- sort(X)\n",
    "  return(1 / (length(P) - 2 * k) * sum(P[(k + 1):(length(P) - k)]))\n",
    "}"
   ]
  },
  {
   "cell_type": "code",
   "execution_count": 11,
   "metadata": {
    "scrolled": true,
    "vscode": {
     "languageId": "r"
    }
   },
   "outputs": [
    {
     "data": {
      "text/html": [
       "<dl class=dl-horizontal>\n",
       "\t<dt>F</dt>\n",
       "\t\t<dd>62.12</dd>\n",
       "\t<dt>M</dt>\n",
       "\t\t<dd>62.8222222222222</dd>\n",
       "</dl>\n"
      ],
      "text/latex": [
       "\\begin{description*}\n",
       "\\item[F] 62.12\n",
       "\\item[M] 62.8222222222222\n",
       "\\end{description*}\n"
      ],
      "text/markdown": [
       "F\n",
       ":   62.12M\n",
       ":   62.8222222222222\n",
       "\n"
      ],
      "text/plain": [
       "       F        M \n",
       "62.12000 62.82222 "
      ]
     },
     "metadata": {},
     "output_type": "display_data"
    }
   ],
   "source": [
    "tapply(data_set$AGE, data_set$GENDER, su)"
   ]
  },
  {
   "cell_type": "code",
   "execution_count": 12,
   "metadata": {
    "vscode": {
     "languageId": "r"
    }
   },
   "outputs": [
    {
     "data": {
      "text/html": [
       "62.8823529411765"
      ],
      "text/latex": [
       "62.8823529411765"
      ],
      "text/markdown": [
       "62.8823529411765"
      ],
      "text/plain": [
       "[1] 62.88235"
      ]
     },
     "metadata": {},
     "output_type": "display_data"
    }
   ],
   "source": [
    "su(data_set$AGE)"
   ]
  },
  {
   "cell_type": "code",
   "execution_count": 13,
   "metadata": {
    "vscode": {
     "languageId": "r"
    }
   },
   "outputs": [
    {
     "data": {
      "image/png": "[encoded data removed]",
      "text/plain": [
       "plot without title"
      ]
     },
     "metadata": {},
     "output_type": "display_data"
    }
   ],
   "source": [
    "k1 <- seq(0, length(data_set$AGE) / 2 - 1, 1)\n",
    "k2 <- numeric()\n",
    "for(t in 1:length(k1)) {\n",
    "  k2[t] <- su(data_set$AGE, k1[t])\n",
    "}\n",
    "options(repr.plot.width = 6, repr.plot.height = 5)\n",
    "plot(k1, k2)\n",
    "lines(k1, rep(mean(data_set$AGE), length(k1)), col = \"green\")"
   ]
  },
  {
   "cell_type": "markdown",
   "metadata": {},
   "source": [
    "**Średnia windsorowska**"
   ]
  },
  {
   "cell_type": "code",
   "execution_count": 14,
   "metadata": {
    "vscode": {
     "languageId": "r"
    }
   },
   "outputs": [],
   "source": [
    "sw <- function(X, k=50) {\n",
    "  P <- sort(X)\n",
    "  return(1 / length(P) * ((k + 1) * P[k + 1] + sum(P[(k + 2):(length(P) - k - 1)]) + (k + 1) * P[length(P) - k]))\n",
    "}"
   ]
  },
  {
   "cell_type": "code",
   "execution_count": 15,
   "metadata": {
    "vscode": {
     "languageId": "r"
    }
   },
   "outputs": [
    {
     "data": {
      "text/html": [
       "<dl class=dl-horizontal>\n",
       "\t<dt>F</dt>\n",
       "\t\t<dd>62.424</dd>\n",
       "\t<dt>M</dt>\n",
       "\t\t<dd>62.9448275862069</dd>\n",
       "</dl>\n"
      ],
      "text/latex": [
       "\\begin{description*}\n",
       "\\item[F] 62.424\n",
       "\\item[M] 62.9448275862069\n",
       "\\end{description*}\n"
      ],
      "text/markdown": [
       "F\n",
       ":   62.424M\n",
       ":   62.9448275862069\n",
       "\n"
      ],
      "text/plain": [
       "       F        M \n",
       "62.42400 62.94483 "
      ]
     },
     "metadata": {},
     "output_type": "display_data"
    }
   ],
   "source": [
    "tapply(data_set$AGE, data_set$GENDER, sw)"
   ]
  },
  {
   "cell_type": "code",
   "execution_count": 16,
   "metadata": {
    "vscode": {
     "languageId": "r"
    }
   },
   "outputs": [
    {
     "data": {
      "text/html": [
       "63.1111111111111"
      ],
      "text/latex": [
       "63.1111111111111"
      ],
      "text/markdown": [
       "63.1111111111111"
      ],
      "text/plain": [
       "[1] 63.11111"
      ]
     },
     "metadata": {},
     "output_type": "display_data"
    }
   ],
   "source": [
    "sw(data_set$AGE)"
   ]
  },
  {
   "cell_type": "code",
   "execution_count": 17,
   "metadata": {
    "vscode": {
     "languageId": "r"
    }
   },
   "outputs": [
    {
     "data": {
      "image/png": "[encoded data removed]",
      "text/plain": [
       "plot without title"
      ]
     },
     "metadata": {},
     "output_type": "display_data"
    }
   ],
   "source": [
    "k1 <- seq(0, length(data_set$AGE) / 2 - 2, 1)\n",
    "k2 <- numeric()\n",
    "for(t in 1:length(k1)) {\n",
    "  k2[t] <- sw(data_set$AGE, k1[t])\n",
    "}\n",
    "plot(k1, k2)\n",
    "lines(k1, rep(mean(data_set$AGE), length(k1)), col = \"green\")"
   ]
  },
  {
   "cell_type": "markdown",
   "metadata": {},
   "source": [
    "**Mediana**"
   ]
  },
  {
   "cell_type": "code",
   "execution_count": 18,
   "metadata": {
    "vscode": {
     "languageId": "r"
    }
   },
   "outputs": [
    {
     "data": {
      "text/html": [
       "<dl class=dl-horizontal>\n",
       "\t<dt>F</dt>\n",
       "\t\t<dd>62</dd>\n",
       "\t<dt>M</dt>\n",
       "\t\t<dd>63</dd>\n",
       "</dl>\n"
      ],
      "text/latex": [
       "\\begin{description*}\n",
       "\\item[F] 62\n",
       "\\item[M] 63\n",
       "\\end{description*}\n"
      ],
      "text/markdown": [
       "F\n",
       ":   62M\n",
       ":   63\n",
       "\n"
      ],
      "text/plain": [
       " F  M \n",
       "62 63 "
      ]
     },
     "metadata": {},
     "output_type": "display_data"
    }
   ],
   "source": [
    "tapply(data_set$AGE, data_set$GENDER, median)"
   ]
  },
  {
   "cell_type": "code",
   "execution_count": 19,
   "metadata": {
    "vscode": {
     "languageId": "r"
    }
   },
   "outputs": [
    {
     "data": {
      "text/html": [
       "62.5"
      ],
      "text/latex": [
       "62.5"
      ],
      "text/markdown": [
       "62.5"
      ],
      "text/plain": [
       "[1] 62.5"
      ]
     },
     "metadata": {},
     "output_type": "display_data"
    }
   ],
   "source": [
    "median(data_set$AGE)"
   ]
  },
  {
   "cell_type": "markdown",
   "metadata": {},
   "source": [
    "**Histogram**"
   ]
  },
  {
   "cell_type": "code",
   "execution_count": 20,
   "metadata": {
    "vscode": {
     "languageId": "r"
    }
   },
   "outputs": [
    {
     "data": {
      "text/html": [
       "<strong>png:</strong> 2"
      ],
      "text/latex": [
       "\\textbf{png:} 2"
      ],
      "text/markdown": [
       "**png:** 2"
      ],
      "text/plain": [
       "png \n",
       "  2 "
      ]
     },
     "metadata": {},
     "output_type": "display_data"
    }
   ],
   "source": [
    "jpeg(\"hist_base.jpg\", width = 600, height = 500)\n",
    "hist(data_set$AGE,\n",
    "    breaks = seq(min(data_set$AGE), max(data_set$AGE),\n",
    "    length.out = round(5 * log(length(data_set$AGE)))),\n",
    "    col = \"lightpink\", xlab = \"WIEK\", ylab = \"\",\n",
    "    main = \"Histogram liczebności\")\n",
    "dev.off()"
   ]
  },
  {
   "cell_type": "code",
   "execution_count": 22,
   "metadata": {
    "vscode": {
     "languageId": "r"
    }
   },
   "outputs": [
    {
     "data": {
      "image/png": "[encoded data removed]",
      "text/plain": [
       "Plot with title \"Histogram częstości\""
      ]
     },
     "metadata": {},
     "output_type": "display_data"
    }
   ],
   "source": [
    "jpeg(\"hist_base_den.jpg\", width = 600, height = 500)\n",
    "hist(data_set$AGE,\n",
    "    breaks = seq(min(data_set$AGE), max(data_set$AGE),\n",
    "    length.out = round(5 * log(length(data_set$AGE)))),\n",
    "    col = \"lightpink\", freq = FALSE, xlab = \"WIEK\", ylab = \"\",\n",
    "    main = \"Histogram częstości\")\n",
    "f <- density(data_set$AGE)\n",
    "lines(f$x, f$y, col = \"green\")\n",
    "legend(38, 0.06, legend = \"gęstość empiryczna\", col = \"green\", lty = 1,\n",
    "    cex = 0.8)\n",
    "x <- seq(40,80,0.1)\n",
    "lines(x, dnorm(x, mean=62, sd=7.9))\n",
    "dev.off()"
   ]
  },
  {
   "cell_type": "code",
   "execution_count": 23,
   "metadata": {
    "vscode": {
     "languageId": "r"
    }
   },
   "outputs": [
    {
     "data": {
      "image/png": "[encoded data removed]",
      "text/plain": [
       "Plot with title \"Histogram of age (women)\""
      ]
     },
     "metadata": {},
     "output_type": "display_data"
    }
   ],
   "source": [
    "women <- subset(data_set, GENDER == \"F\")\n",
    "hist(women$AGE,\n",
    "    breaks = seq(min(women$AGE), max(women$AGE),\n",
    "    length.out = round(5 * log(length(women$AGE)))),\n",
    "    col = \"lightpink\", freq = FALSE, xlab = \"Age\",\n",
    "    main = \"Histogram of age (women)\")\n",
    "f <- density(women$AGE)\n",
    "lines(f$x, f$y, col = \"green\")\n",
    "legend(20, 0.06, legend = \"density\", col = \"green\", lty = 1, cex = 0.8)"
   ]
  },
  {
   "cell_type": "code",
   "execution_count": 24,
   "metadata": {
    "vscode": {
     "languageId": "r"
    }
   },
   "outputs": [
    {
     "data": {
      "image/png": "[encoded data removed]",
      "text/plain": [
       "Plot with title \"Histogram of age (men)\""
      ]
     },
     "metadata": {},
     "output_type": "display_data"
    }
   ],
   "source": [
    "men <- subset(data_set, GENDER == \"M\")\n",
    "hist(men$AGE, breaks = seq(min(men$AGE), max(men$AGE),\n",
    "    length.out = round(5 * log(length(men$AGE)))),\n",
    "    col = \"pink\", freq = FALSE, xlab = \"Age\", main = \"Histogram of age (men)\")\n",
    "f <- density(men$AGE)\n",
    "lines(f$x, f$y, col = \"green\")\n",
    "legend(40, 0.08, legend = \"density\", col = \"green\", lty = 1, cex = 0.8)"
   ]
  },
  {
   "cell_type": "markdown",
   "metadata": {},
   "source": [
    "Boxplot"
   ]
  },
  {
   "cell_type": "code",
   "execution_count": 25,
   "metadata": {
    "vscode": {
     "languageId": "r"
    }
   },
   "outputs": [
    {
     "data": {
      "image/png": "[encoded data removed]",
      "text/plain": [
       "Plot with title \"Wiek chorych\""
      ]
     },
     "metadata": {},
     "output_type": "display_data"
    }
   ],
   "source": [
    "jpeg(\"boxplot_base.jpg\", width = 600, height = 500)\n",
    "options(repr.plot.width = 6, repr.plot.height = 5)\n",
    "boxplot(data_set$AGE, col = \"aquamarine\", border = \"violetred4\",\n",
    "    main = \"Wiek chorych\")\n",
    "dev.off()"
   ]
  },
  {
   "cell_type": "code",
   "execution_count": 26,
   "metadata": {
    "scrolled": false,
    "vscode": {
     "languageId": "r"
    }
   },
   "outputs": [
    {
     "data": {
      "image/png": "[encoded data removed]",
      "text/plain": [
       "plot without title"
      ]
     },
     "metadata": {},
     "output_type": "display_data"
    }
   ],
   "source": [
    "boxplot(women$AGE, men$AGE, col = \"aquamarine\",\n",
    "    border = \"violetred4\", names = c(\"women\", \"men\"))\n",
    "k <- seq(0, 5, 0.1)"
   ]
  },
  {
   "cell_type": "code",
   "execution_count": 27,
   "metadata": {
    "vscode": {
     "languageId": "r"
    }
   },
   "outputs": [],
   "source": [
    "sm_women <- subset(women, SMOKING > 1)\n",
    "non_sm_women <- subset(women, SMOKING < 2)\n",
    "sm_men <- subset(men, SMOKING > 1)\n",
    "non_sm_men <- subset(men, SMOKING < 2)"
   ]
  },
  {
   "cell_type": "code",
   "execution_count": 28,
   "metadata": {
    "vscode": {
     "languageId": "r"
    }
   },
   "outputs": [
    {
     "data": {
      "image/png": "[encoded data removed]",
      "text/plain": [
       "plot without title"
      ]
     },
     "metadata": {},
     "output_type": "display_data"
    }
   ],
   "source": [
    "jpeg(\"boxplot_gender_smoking.jpg\", width = 600, height = 800)\n",
    "options(repr.plot.width = 6, repr.plot.height = 10)\n",
    "boxplot(sm_women$AGE, sm_men$AGE, non_sm_women$AGE, non_sm_men$AGE,\n",
    "    horizontal = TRUE, col = \"aquamarine\", border = \"violetred4\",\n",
    "    names=c(\"smoking women\", \"smoking men\",\n",
    "        \"not smoking women\", \"not smoking men\"))\n",
    "dev.off()"
   ]
  },
  {
   "cell_type": "code",
   "execution_count": 29,
   "metadata": {
    "vscode": {
     "languageId": "r"
    }
   },
   "outputs": [
    {
     "data": {
      "image/png": "[encoded data removed]",
      "text/plain": [
       "plot without title"
      ]
     },
     "metadata": {},
     "output_type": "display_data"
    }
   ],
   "source": [
    "options(repr.plot.width = 6, repr.plot.height = 10)\n",
    "boxplot(sm_women$AGE, sm_men$AGE, non_sm_women$AGE, non_sm_men$AGE,\n",
    "    horizontal = TRUE, col = \"aquamarine\", border = \"violetred4\",\n",
    "    names=c(\"smoking women\", \"smoking men\",\n",
    "        \"not smoking women\", \"not smoking men\"))"
   ]
  },
  {
   "cell_type": "markdown",
   "metadata": {},
   "source": [
    "Dystrybuanta empiryczna"
   ]
  },
  {
   "cell_type": "code",
   "execution_count": 31,
   "metadata": {
    "vscode": {
     "languageId": "r"
    }
   },
   "outputs": [
    {
     "data": {
      "image/png": "[encoded data removed]",
      "text/plain": [
       "Plot with title \"Dystrybuanta empiryczna\""
      ]
     },
     "metadata": {},
     "output_type": "display_data"
    }
   ],
   "source": [
    "options(repr.plot.width = 6, repr.plot.height = 5)\n",
    "F <- ecdf(data_set$AGE)\n",
    "px <- seq(35, 85)\n",
    "jpeg(\"dystr_norm.jpg\", width = 600, height = 500)\n",
    "plot(px, F(px), ylab = \"F(x)\", col = \"purple\",\n",
    "    main = \"Dystrybuanta empiryczna\")\n",
    "lines(px, pnorm(px, mean=62.95, sd=7.97), col = \"red\")\n",
    "legend(35, 1, legend = \"dystrybuanta N(62.95, 9.97)\", col = \"red\", lty = 1,\n",
    "    cex = 0.8)\n",
    "dev.off()"
   ]
  },
  {
   "cell_type": "code",
   "execution_count": 35,
   "metadata": {
    "vscode": {
     "languageId": "r"
    }
   },
   "outputs": [
    {
     "data": {
      "image/png": "[encoded data removed]",
      "text/plain": [
       "Plot with title \"Dystrybuanta empiryczna wieku badanych kobiet\""
      ]
     },
     "metadata": {},
     "output_type": "display_data"
    }
   ],
   "source": [
    "F1 <- ecdf(women$AGE)\n",
    "plot(px, F1(px), col = \"aquamarine3\", ylab = \"F(x)\",\n",
    "    main = \"Dystrybuanta empiryczna wieku badanych kobiet\")\n",
    "lines(px, pnorm(px, mean=62.95, sd=7.97))"
   ]
  },
  {
   "cell_type": "code",
   "execution_count": 36,
   "metadata": {
    "vscode": {
     "languageId": "r"
    }
   },
   "outputs": [
    {
     "data": {
      "image/png": "[encoded data removed]",
      "text/plain": [
       "plot without title"
      ]
     },
     "metadata": {},
     "output_type": "display_data"
    }
   ],
   "source": [
    "F2 <- ecdf(men$AGE)\n",
    "plot(px, F2(px), col = \"purple\")"
   ]
  },
  {
   "cell_type": "code",
   "execution_count": 37,
   "metadata": {
    "vscode": {
     "languageId": "r"
    }
   },
   "outputs": [
    {
     "data": {
      "text/html": [
       "<dl class=dl-horizontal>\n",
       "\t<dt>1</dt>\n",
       "\t\t<dd>63.7739130434783</dd>\n",
       "\t<dt>2</dt>\n",
       "\t\t<dd>62.341935483871</dd>\n",
       "</dl>\n"
      ],
      "text/latex": [
       "\\begin{description*}\n",
       "\\item[1] 63.7739130434783\n",
       "\\item[2] 62.341935483871\n",
       "\\end{description*}\n"
      ],
      "text/markdown": [
       "1\n",
       ":   63.77391304347832\n",
       ":   62.341935483871\n",
       "\n"
      ],
      "text/plain": [
       "       1        2 \n",
       "63.77391 62.34194 "
      ]
     },
     "metadata": {},
     "output_type": "display_data"
    },
    {
     "data": {
      "text/plain": [
       "\n",
       "  1   2 \n",
       "115 155 "
      ]
     },
     "metadata": {},
     "output_type": "display_data"
    }
   ],
   "source": [
    "tapply(data_set$AGE, data_set$SMOKING, mean)\n",
    "table(data_set$SMOKING)"
   ]
  },
  {
   "cell_type": "code",
   "execution_count": 38,
   "metadata": {
    "vscode": {
     "languageId": "r"
    }
   },
   "outputs": [
    {
     "data": {
      "image/png": "[encoded data removed]",
      "text/plain": [
       "plot without title"
      ]
     },
     "metadata": {},
     "output_type": "display_data"
    }
   ],
   "source": [
    "smoke <- subset(data_set, SMOKING > 1)\n",
    "non_smoke <- subset(data_set, SMOKING < 2)\n",
    "jpeg(\"boxplot_smoking.jpg\", width = 600, height = 600)\n",
    "options(repr.plot.width = 7, repr.plot.height = 5)\n",
    "boxplot(smoke$AGE, non_smoke$AGE, horizontal = TRUE, col = \"aquamarine\",\n",
    "    border = \"violetred4\", names = c(\"PALĄCY\", \"NIEPALĄCY\"))\n",
    "dev.off()"
   ]
  },
  {
   "cell_type": "code",
   "execution_count": 39,
   "metadata": {
    "vscode": {
     "languageId": "r"
    }
   },
   "outputs": [
    {
     "data": {
      "image/png": "[encoded data removed]",
      "text/plain": [
       "Plot with title \"Histogram wieku palących i niepalących\""
      ]
     },
     "metadata": {},
     "output_type": "display_data"
    }
   ],
   "source": [
    "c1 <- rgb(204, 0, 86, max = 255, names = \"lt.red\")\n",
    "c2 <- rgb(173, 150, 214, max = 255, names = \"lt.green\")\n",
    "jpeg(\"hist_smoking.jpg\", width = 800, height = 600)\n",
    "h1 <- hist(smoke$AGE, breaks = seq(min(smoke$AGE), max(smoke$AGE),\n",
    "    length.out = round(5 * log(length(smoke$AGE)))), plot = FALSE)\n",
    "h2 <- hist(non_smoke$AGE, breaks = seq(min(non_smoke$AGE), max(non_smoke$AGE),\n",
    "    length.out = round(5 * log(length(non_smoke$AGE)))), plot = FALSE)\n",
    "\n",
    "plot(h1, col = c1, main = \"Histogram wieku palących i niepalących\",\n",
    "    xlab = \"WIEK\", ylab = \"\")\n",
    "plot(h2, col = c2, add = TRUE)\n",
    "legend(38, 20, legend = c(\"palący\", \"niepalący\"),\n",
    "    col = c(c1, c2), lwd = 3, cex = 1.2)\n",
    "dev.off()"
   ]
  },
  {
   "cell_type": "code",
   "execution_count": 40,
   "metadata": {
    "vscode": {
     "languageId": "r"
    }
   },
   "outputs": [
    {
     "data": {
      "text/html": [
       "<table>\n",
       "<thead><tr><th></th><th scope=col>GENDER</th><th scope=col>AGE</th><th scope=col>SMOKING</th><th scope=col>YELLOW_FINGERS</th><th scope=col>ANXIETY</th><th scope=col>PEER_PRESSURE</th><th scope=col>CHRONIC.DISEASE</th><th scope=col>FATIGUE</th><th scope=col>ALLERGY</th><th scope=col>WHEEZING</th><th scope=col>ALCOHOL.CONSUMING</th><th scope=col>COUGHING</th><th scope=col>SHORTNESS.OF.BREATH</th><th scope=col>SWALLOWING.DIFFICULTY</th><th scope=col>CHEST.PAIN</th><th scope=col>LUNG_CANCER</th></tr></thead>\n",
       "<tbody>\n",
       "\t<tr><th scope=row>239</th><td>F  </td><td>38 </td><td>1  </td><td>2  </td><td>1  </td><td>1  </td><td>2  </td><td>2  </td><td>2  </td><td>2  </td><td>1  </td><td>2  </td><td>2  </td><td>1  </td><td>2  </td><td>YES</td></tr>\n",
       "\t<tr><th scope=row>262</th><td>M  </td><td>39 </td><td>2  </td><td>1  </td><td>1  </td><td>2  </td><td>1  </td><td>2  </td><td>2  </td><td>2  </td><td>2  </td><td>1  </td><td>2  </td><td>1  </td><td>2  </td><td>YES</td></tr>\n",
       "</tbody>\n",
       "</table>\n"
      ],
      "text/latex": [
       "\\begin{tabular}{r|llllllllllllllll}\n",
       "  & GENDER & AGE & SMOKING & YELLOW\\_FINGERS & ANXIETY & PEER\\_PRESSURE & CHRONIC.DISEASE & FATIGUE & ALLERGY & WHEEZING & ALCOHOL.CONSUMING & COUGHING & SHORTNESS.OF.BREATH & SWALLOWING.DIFFICULTY & CHEST.PAIN & LUNG\\_CANCER\\\\\n",
       "\\hline\n",
       "\t239 & F   & 38  & 1   & 2   & 1   & 1   & 2   & 2   & 2   & 2   & 1   & 2   & 2   & 1   & 2   & YES\\\\\n",
       "\t262 & M   & 39  & 2   & 1   & 1   & 2   & 1   & 2   & 2   & 2   & 2   & 1   & 2   & 1   & 2   & YES\\\\\n",
       "\\end{tabular}\n"
      ],
      "text/markdown": [
       "\n",
       "| <!--/--> | GENDER | AGE | SMOKING | YELLOW_FINGERS | ANXIETY | PEER_PRESSURE | CHRONIC.DISEASE | FATIGUE | ALLERGY | WHEEZING | ALCOHOL.CONSUMING | COUGHING | SHORTNESS.OF.BREATH | SWALLOWING.DIFFICULTY | CHEST.PAIN | LUNG_CANCER |\n",
       "|---|---|---|---|---|---|---|---|---|---|---|---|---|---|---|---|---|\n",
       "| 239 | F   | 38  | 1   | 2   | 1   | 1   | 2   | 2   | 2   | 2   | 1   | 2   | 2   | 1   | 2   | YES |\n",
       "| 262 | M   | 39  | 2   | 1   | 1   | 2   | 1   | 2   | 2   | 2   | 2   | 1   | 2   | 1   | 2   | YES |\n",
       "\n"
      ],
      "text/plain": [
       "    GENDER AGE SMOKING YELLOW_FINGERS ANXIETY PEER_PRESSURE CHRONIC.DISEASE\n",
       "239 F      38  1       2              1       1             2              \n",
       "262 M      39  2       1              1       2             1              \n",
       "    FATIGUE ALLERGY WHEEZING ALCOHOL.CONSUMING COUGHING SHORTNESS.OF.BREATH\n",
       "239 2       2       2        1                 2        2                  \n",
       "262 2       2       2        2                 1        2                  \n",
       "    SWALLOWING.DIFFICULTY CHEST.PAIN LUNG_CANCER\n",
       "239 1                     2          YES        \n",
       "262 1                     2          YES        "
      ]
     },
     "metadata": {},
     "output_type": "display_data"
    }
   ],
   "source": [
    "subset(data_set, AGE < 42)"
   ]
  },
  {
   "cell_type": "code",
   "execution_count": 41,
   "metadata": {
    "vscode": {
     "languageId": "r"
    }
   },
   "outputs": [
    {
     "data": {
      "image/png": "[encoded data removed]",
      "text/plain": [
       "plot without title"
      ]
     },
     "metadata": {},
     "output_type": "display_data"
    }
   ],
   "source": [
    "anx <- subset(data_set, ANXIETY > 1)\n",
    "no_anx <- subset(data_set, ANXIETY < 2)\n",
    "boxplot(no_anx$AGE, anx$AGE, names = c(\"no anxiety\", \"anxiety\"))"
   ]
  },
  {
   "cell_type": "code",
   "execution_count": 42,
   "metadata": {
    "vscode": {
     "languageId": "r"
    }
   },
   "outputs": [
    {
     "data": {
      "image/png": "[encoded data removed]",
      "text/plain": [
       "plot without title"
      ]
     },
     "metadata": {},
     "output_type": "display_data"
    }
   ],
   "source": [
    "anx <- subset(data_set, ANXIETY > 1)\n",
    "no_anx <- subset(data_set, ANXIETY < 2)\n",
    "boxplot(no_anx$AGE, anx$AGE, names = c(\"no anxiety\", \"anxiety\"))"
   ]
  },
  {
   "cell_type": "code",
   "execution_count": null,
   "metadata": {
    "vscode": {
     "languageId": "r"
    }
   },
   "outputs": [],
   "source": []
  }
 ],
 "metadata": {
  "kernelspec": {
   "display_name": "R",
   "language": "R",
   "name": "ir"
  },
  "language_info": {
   "codemirror_mode": "r",
   "file_extension": ".r",
   "mimetype": "text/x-r-source",
   "name": "R",
   "pygments_lexer": "r",
   "version": "3.6.1"
  }
 },
 "nbformat": 4,
 "nbformat_minor": 4
}
